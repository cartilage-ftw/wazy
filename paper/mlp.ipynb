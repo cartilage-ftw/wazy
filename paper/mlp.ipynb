{
 "cells": [
  {
   "cell_type": "code",
   "execution_count": 1,
   "id": "50a2825f",
   "metadata": {},
   "outputs": [],
   "source": [
    "import numpy as np\n",
    "import matplotlib.pyplot as plt\n",
    "import jax\n",
    "import jax.numpy as jnp\n",
    "import functools\n",
    "import pickle\n",
    "from operator import add\n",
    "import uncertainty_toolbox as uct\n",
    "import matplotlib as mpl\n",
    "from alpdesign.utils import *\n",
    "from alpdesign.mlp import *\n",
    "#from jax_unirep import get_reps\n",
    "import alpdesign\n",
    "import os\n",
    "from shapely.geometry import Polygon, LineString\n",
    "from shapely.ops import polygonize, unary_union\n",
    "\n",
    "%matplotlib inline"
   ]
  },
  {
   "cell_type": "code",
   "execution_count": 2,
   "id": "b9ee8d58",
   "metadata": {},
   "outputs": [],
   "source": [
    "AA_list = ['A','R','N','D','C','Q','E','G','H','I','L','K','M','F','P','S','T','W','Y','V','B','Z','X','*']\n",
    "blosum92 = np.loadtxt(\"./blosum62.txt\", dtype='i', delimiter=' ')\n",
    "\n",
    "avg92 = jnp.sum(blosum92)/24/24\n",
    "sum92 = 0.\n",
    "for row in blosum92:\n",
    "    for aa in row:\n",
    "        sum92 += (aa-avg92)**2\n",
    "std92 = jnp.sqrt(sum92 / 24/24)\n",
    "\n",
    "def blosum(seq1, seq2):\n",
    "    seqlist1 = list(seq1)\n",
    "    seqlist2 = list(seq2)\n",
    "    score = 0.\n",
    "    for i in range(len(seqlist1)):\n",
    "        idx1 = AA_list.index(seqlist1[i])\n",
    "        idx2 = AA_list.index(seqlist2[i])\n",
    "        score += (blosum92[idx1][idx2] - avg92)/std92\n",
    "        #jax.nn.sigmoid(score/len(seqlist1))\n",
    "    return score/len(seqlist1)"
   ]
  },
  {
   "cell_type": "code",
   "execution_count": 3,
   "id": "cf89eb5b",
   "metadata": {},
   "outputs": [],
   "source": [
    "target_seq = 'TARGETPEPTIDE'\n",
    "key = jax.random.PRNGKey(0)\n",
    "c = alpdesign.EnsembleBlockConfig()\n",
    "forward_t, full_forward_t, seq_t , uncertainty_eval_t = alpdesign.build_e2e(c)\n",
    "#def gen(k, n): return jax.random.normal(k, shape=(n, 13, 20))\n",
    "train_t = full_forward_t\n",
    "aconfig = AlgConfig()\n",
    "c = alpdesign.EnsembleBlockConfig()\n",
    "\n",
    "with open('../10kseqs.txt') as f:\n",
    "    readfile = f.readlines()\n",
    "    random_seqs = f'{readfile[0]}'.split(' ')[:-1]\n",
    "    \n",
    "\n",
    "def get_labels(seqs):\n",
    "    labels = []\n",
    "    for seq in seqs:\n",
    "        labels.append(blosum(target_seq, seq))\n",
    "    labels = np.array(labels)\n",
    "\n",
    "    return labels\n",
    "\n",
    "def get_aanum(seqs):\n",
    "    aa_count = []\n",
    "    for seq in seqs:\n",
    "        seq_list = list(seq)\n",
    "        aa_num = [float(seq_list.count(aa)) for aa in AA_list]\n",
    "        aa_count.append(aa_num)\n",
    "    aa_count = jnp.array(aa_count)\n",
    "    return aa_count\n",
    "\n",
    "batch_size = 8\n",
    "def get_results(key, params, rep_list):\n",
    "    means = []\n",
    "    stds = []\n",
    "    # need batch\n",
    "    for i in range(0, len(rep_list)//batch_size):\n",
    "    #for rep in rep_list:\n",
    "        batch_reps = rep_list[i * batch_size: (i + 1) * batch_size]\n",
    "        yhat = forward_t.apply(params, key, batch_reps)\n",
    "        #print(yhat.shape)\n",
    "        means.append(yhat[0])\n",
    "        stds.append(yhat[1])\n",
    "    return np.array(means), np.array(stds)\n",
    "\n",
    "def get_single_results(key, params, rep_list):\n",
    "    yhats = []\n",
    "    for i in range(0, len(rep_list)//batch_size):\n",
    "    # need batch\n",
    "    #for rep in rep_list:\n",
    "        batch_reps = rep_list[i*batch_size: (i+1)*batch_size]\n",
    "        yhat = naive_forward_t.apply(params, key, batch_reps)\n",
    "        yhats.append(yhat)\n",
    "    return np.array(yhats)"
   ]
  },
  {
   "cell_type": "code",
   "execution_count": 4,
   "id": "8c0af3ce",
   "metadata": {},
   "outputs": [],
   "source": [
    "validation_seqs = [random.choice(random_seqs) for i in range(50)]\n",
    "validation_reps = get_aanum(validation_seqs)\n",
    "validation_labels = get_labels(validation_seqs).reshape((-1, 1))\n",
    "test_seqs = [random.choice(random_seqs) for i in range(500)]\n",
    "test_reps = get_aanum(test_seqs)\n",
    "test_labels = get_labels(test_seqs).reshape((-1, 1))\n",
    "train_seqs = [random.choice(random_seqs) for i in range(100)]\n",
    "train_reps = get_aanum(train_seqs)\n",
    "train_labels = get_labels(train_seqs).reshape((-1, 1))"
   ]
  },
  {
   "cell_type": "code",
   "execution_count": 14,
   "id": "aefb6596",
   "metadata": {},
   "outputs": [
    {
     "name": "stdout",
     "output_type": "stream",
     "text": [
      "(5, 8)\n",
      "(5, 8, 2)\n",
      "(5, 8)\n"
     ]
    }
   ],
   "source": [
    "batch_seqs = jnp.ones([aconfig.train_batch_size, 24])\n",
    "params = train_t.init(key, jnp.tile(\n",
    "            batch_seqs, (5, 1, 1)))\n",
    "ensemble_seqs = jnp.tile(batch_seqs, (5, 1, 1))\n",
    "a = train_t.apply(params, key, ensemble_seqs)\n",
    "a0 = a[...,0]\n",
    "a1 = a[...,1]\n",
    "n_log_likelihoods = 0.5 * jnp.log(a1)\n",
    "print(n_log_likelihoods.shape)\n",
    "print(a.shape)\n",
    "print(a0.shape)\n",
    "loss = jnp.sum(n_log_likelihoods)\n",
    "#print(loss.shape)"
   ]
  },
  {
   "cell_type": "code",
   "execution_count": 11,
   "id": "268f30ea",
   "metadata": {},
   "outputs": [
    {
     "name": "stdout",
     "output_type": "stream",
     "text": [
      "training in progress\n"
     ]
    },
    {
     "ename": "ValueError",
     "evalue": "Incompatible shapes for broadcasting: ((5, 8, 1), (1, 5, 8))",
     "output_type": "error",
     "traceback": [
      "\u001b[0;31m---------------------------------------------------------------------------\u001b[0m",
      "\u001b[0;31mValueError\u001b[0m                                Traceback (most recent call last)",
      "\u001b[0;32m/scratch/zyang43/tmp/ipykernel_20945/2488193412.py\u001b[0m in \u001b[0;36m<module>\u001b[0;34m\u001b[0m\n\u001b[0;32m----> 1\u001b[0;31m params, train_loss, val_loss = ensemble_train(\n\u001b[0m\u001b[1;32m      2\u001b[0m         \u001b[0mkey\u001b[0m\u001b[0;34m,\u001b[0m \u001b[0mtrain_t\u001b[0m\u001b[0;34m,\u001b[0m \u001b[0mc\u001b[0m\u001b[0;34m,\u001b[0m \u001b[0mtrain_reps\u001b[0m\u001b[0;34m,\u001b[0m \u001b[0mtrain_labels\u001b[0m\u001b[0;34m,\u001b[0m \u001b[0mval_seqs\u001b[0m\u001b[0;34m=\u001b[0m\u001b[0mvalidation_reps\u001b[0m\u001b[0;34m,\u001b[0m \u001b[0mval_labels\u001b[0m\u001b[0;34m=\u001b[0m\u001b[0mvalidation_labels\u001b[0m\u001b[0;34m,\u001b[0m \u001b[0maconfig\u001b[0m\u001b[0;34m=\u001b[0m\u001b[0maconfig\u001b[0m\u001b[0;34m\u001b[0m\u001b[0;34m\u001b[0m\u001b[0m\n\u001b[1;32m      3\u001b[0m     )\n",
      "\u001b[0;32m/gpfs/fs2/scratch/zyang43/ALP-Design/alpdesign/mlp.py\u001b[0m in \u001b[0;36mensemble_train\u001b[0;34m(key, forward_t, mconfig, seqs, labels, val_seqs, val_labels, params, aconfig)\u001b[0m\n\u001b[1;32m    246\u001b[0m             \u001b[0mseq\u001b[0m \u001b[0;34m=\u001b[0m \u001b[0mshuffle_seqs\u001b[0m\u001b[0;34m[\u001b[0m\u001b[0mi\u001b[0m\u001b[0;34m*\u001b[0m\u001b[0maconfig\u001b[0m\u001b[0;34m.\u001b[0m\u001b[0mtrain_batch_size\u001b[0m\u001b[0;34m:\u001b[0m \u001b[0;34m(\u001b[0m\u001b[0mi\u001b[0m\u001b[0;34m+\u001b[0m\u001b[0;36m1\u001b[0m\u001b[0;34m)\u001b[0m\u001b[0;34m*\u001b[0m\u001b[0maconfig\u001b[0m\u001b[0;34m.\u001b[0m\u001b[0mtrain_batch_size\u001b[0m\u001b[0;34m]\u001b[0m\u001b[0;34m\u001b[0m\u001b[0;34m\u001b[0m\u001b[0m\n\u001b[1;32m    247\u001b[0m             \u001b[0mlabel\u001b[0m \u001b[0;34m=\u001b[0m \u001b[0mshuffle_labels\u001b[0m\u001b[0;34m[\u001b[0m\u001b[0mi\u001b[0m\u001b[0;34m*\u001b[0m\u001b[0maconfig\u001b[0m\u001b[0;34m.\u001b[0m\u001b[0mtrain_batch_size\u001b[0m\u001b[0;34m:\u001b[0m \u001b[0;34m(\u001b[0m\u001b[0mi\u001b[0m\u001b[0;34m+\u001b[0m\u001b[0;36m1\u001b[0m\u001b[0;34m)\u001b[0m\u001b[0;34m*\u001b[0m\u001b[0maconfig\u001b[0m\u001b[0;34m.\u001b[0m\u001b[0mtrain_batch_size\u001b[0m\u001b[0;34m]\u001b[0m\u001b[0;34m\u001b[0m\u001b[0;34m\u001b[0m\u001b[0m\n\u001b[0;32m--> 248\u001b[0;31m             opt_state, params, loss = train_step(\n\u001b[0m\u001b[1;32m    249\u001b[0m                 opt_state, params, tkey, seq, label)\n\u001b[1;32m    250\u001b[0m             \u001b[0mtrain_loss\u001b[0m \u001b[0;34m+=\u001b[0m \u001b[0mloss\u001b[0m\u001b[0;34m\u001b[0m\u001b[0;34m\u001b[0m\u001b[0m\n",
      "    \u001b[0;31m[... skipping hidden 13 frame]\u001b[0m\n",
      "\u001b[0;32m/gpfs/fs2/scratch/zyang43/ALP-Design/alpdesign/mlp.py\u001b[0m in \u001b[0;36mtrain_step\u001b[0;34m(opt_state, params, key, seqs, labels)\u001b[0m\n\u001b[1;32m    228\u001b[0m     \u001b[0;34m@\u001b[0m\u001b[0mjax\u001b[0m\u001b[0;34m.\u001b[0m\u001b[0mjit\u001b[0m\u001b[0;34m\u001b[0m\u001b[0;34m\u001b[0m\u001b[0m\n\u001b[1;32m    229\u001b[0m     \u001b[0;32mdef\u001b[0m \u001b[0mtrain_step\u001b[0m\u001b[0;34m(\u001b[0m\u001b[0mopt_state\u001b[0m\u001b[0;34m,\u001b[0m \u001b[0mparams\u001b[0m\u001b[0;34m,\u001b[0m \u001b[0mkey\u001b[0m\u001b[0;34m,\u001b[0m \u001b[0mseqs\u001b[0m\u001b[0;34m,\u001b[0m \u001b[0mlabels\u001b[0m\u001b[0;34m)\u001b[0m\u001b[0;34m:\u001b[0m\u001b[0;34m\u001b[0m\u001b[0;34m\u001b[0m\u001b[0m\n\u001b[0;32m--> 230\u001b[0;31m         \u001b[0mloss\u001b[0m\u001b[0;34m,\u001b[0m \u001b[0mgrad\u001b[0m \u001b[0;34m=\u001b[0m \u001b[0mjax\u001b[0m\u001b[0;34m.\u001b[0m\u001b[0mvalue_and_grad\u001b[0m\u001b[0;34m(\u001b[0m\u001b[0madv_loss\u001b[0m\u001b[0;34m,\u001b[0m \u001b[0;36m0\u001b[0m\u001b[0;34m)\u001b[0m\u001b[0;34m(\u001b[0m\u001b[0mparams\u001b[0m\u001b[0;34m,\u001b[0m \u001b[0mkey\u001b[0m\u001b[0;34m,\u001b[0m \u001b[0mseqs\u001b[0m\u001b[0;34m,\u001b[0m \u001b[0mlabels\u001b[0m\u001b[0;34m)\u001b[0m\u001b[0;34m\u001b[0m\u001b[0;34m\u001b[0m\u001b[0m\n\u001b[0m\u001b[1;32m    231\u001b[0m         \u001b[0mupdates\u001b[0m\u001b[0;34m,\u001b[0m \u001b[0mopt_state\u001b[0m \u001b[0;34m=\u001b[0m \u001b[0mopt_update\u001b[0m\u001b[0;34m(\u001b[0m\u001b[0mgrad\u001b[0m\u001b[0;34m,\u001b[0m \u001b[0mopt_state\u001b[0m\u001b[0;34m,\u001b[0m \u001b[0mparams\u001b[0m\u001b[0;34m)\u001b[0m\u001b[0;34m\u001b[0m\u001b[0;34m\u001b[0m\u001b[0m\n\u001b[1;32m    232\u001b[0m         \u001b[0mparams\u001b[0m \u001b[0;34m=\u001b[0m \u001b[0moptax\u001b[0m\u001b[0;34m.\u001b[0m\u001b[0mapply_updates\u001b[0m\u001b[0;34m(\u001b[0m\u001b[0mparams\u001b[0m\u001b[0;34m,\u001b[0m \u001b[0mupdates\u001b[0m\u001b[0;34m)\u001b[0m\u001b[0;34m\u001b[0m\u001b[0;34m\u001b[0m\u001b[0m\n",
      "    \u001b[0;31m[... skipping hidden 7 frame]\u001b[0m\n",
      "\u001b[0;32m/gpfs/fs2/scratch/zyang43/ALP-Design/alpdesign/mlp.py\u001b[0m in \u001b[0;36m_adv_loss_func\u001b[0;34m(forward, M, params, key, seq, label)\u001b[0m\n\u001b[1;32m    124\u001b[0m     \u001b[0mepsilon\u001b[0m \u001b[0;34m=\u001b[0m \u001b[0;36m1e-3\u001b[0m\u001b[0;34m\u001b[0m\u001b[0;34m\u001b[0m\u001b[0m\n\u001b[1;32m    125\u001b[0m     \u001b[0mkey1\u001b[0m\u001b[0;34m,\u001b[0m \u001b[0mkey2\u001b[0m \u001b[0;34m=\u001b[0m \u001b[0mjax\u001b[0m\u001b[0;34m.\u001b[0m\u001b[0mrandom\u001b[0m\u001b[0;34m.\u001b[0m\u001b[0msplit\u001b[0m\u001b[0;34m(\u001b[0m\u001b[0mkey\u001b[0m\u001b[0;34m)\u001b[0m\u001b[0;34m\u001b[0m\u001b[0;34m\u001b[0m\u001b[0m\n\u001b[0;32m--> 126\u001b[0;31m     grad_inputs = jax.grad(_deep_ensemble_loss, 3)(\n\u001b[0m\u001b[1;32m    127\u001b[0m         \u001b[0mparams\u001b[0m\u001b[0;34m,\u001b[0m \u001b[0mkey\u001b[0m\u001b[0;34m,\u001b[0m \u001b[0mforward\u001b[0m\u001b[0;34m,\u001b[0m \u001b[0mseq_tile\u001b[0m\u001b[0;34m,\u001b[0m \u001b[0mlabel_tile\u001b[0m\u001b[0;34m\u001b[0m\u001b[0;34m\u001b[0m\u001b[0m\n\u001b[1;32m    128\u001b[0m     )\n",
      "    \u001b[0;31m[... skipping hidden 9 frame]\u001b[0m\n",
      "\u001b[0;32m/gpfs/fs2/scratch/zyang43/ALP-Design/alpdesign/mlp.py\u001b[0m in \u001b[0;36m_deep_ensemble_loss\u001b[0;34m(params, key, forward, seqs, labels)\u001b[0m\n\u001b[1;32m    111\u001b[0m     \u001b[0msstds\u001b[0m \u001b[0;34m=\u001b[0m \u001b[0m_transform_var\u001b[0m\u001b[0;34m(\u001b[0m\u001b[0mout\u001b[0m\u001b[0;34m[\u001b[0m\u001b[0;34m...\u001b[0m\u001b[0;34m,\u001b[0m \u001b[0;36m1\u001b[0m\u001b[0;34m]\u001b[0m\u001b[0;34m)\u001b[0m\u001b[0;34m\u001b[0m\u001b[0;34m\u001b[0m\u001b[0m\n\u001b[1;32m    112\u001b[0m     \u001b[0;31m#n_log_likelihoods = 0.5 * jnp.log(sstds) + 0.5 * jnp.divide((labels - means) ** 2, sstds) + 0.5 * jnp.log(2 * jnp.pi)\u001b[0m\u001b[0;34m\u001b[0m\u001b[0;34m\u001b[0m\u001b[0m\n\u001b[0;32m--> 113\u001b[0;31m     \u001b[0mn_log_likelihoods\u001b[0m \u001b[0;34m=\u001b[0m \u001b[0;34m(\u001b[0m\u001b[0mlabels\u001b[0m \u001b[0;34m-\u001b[0m \u001b[0mmeans\u001b[0m\u001b[0;34m)\u001b[0m\u001b[0;34m**\u001b[0m\u001b[0;36m2\u001b[0m\u001b[0;34m\u001b[0m\u001b[0;34m\u001b[0m\u001b[0m\n\u001b[0m\u001b[1;32m    114\u001b[0m     \u001b[0;32mreturn\u001b[0m \u001b[0mjnp\u001b[0m\u001b[0;34m.\u001b[0m\u001b[0msum\u001b[0m\u001b[0;34m(\u001b[0m\u001b[0mn_log_likelihoods\u001b[0m\u001b[0;34m)\u001b[0m \u001b[0;31m# sum over batch and ensembles\u001b[0m\u001b[0;34m\u001b[0m\u001b[0;34m\u001b[0m\u001b[0m\n\u001b[1;32m    115\u001b[0m \u001b[0;34m\u001b[0m\u001b[0m\n",
      "    \u001b[0;31m[... skipping hidden 1 frame]\u001b[0m\n",
      "\u001b[0;32m~/.conda/envs/prettyB/lib/python3.9/site-packages/jax/_src/numpy/lax_numpy.py\u001b[0m in \u001b[0;36mdeferring_binary_op\u001b[0;34m(self, other)\u001b[0m\n\u001b[1;32m   6587\u001b[0m     \u001b[0;32mif\u001b[0m \u001b[0;32mnot\u001b[0m \u001b[0misinstance\u001b[0m\u001b[0;34m(\u001b[0m\u001b[0mother\u001b[0m\u001b[0;34m,\u001b[0m \u001b[0m_accepted_binop_types\u001b[0m\u001b[0;34m)\u001b[0m\u001b[0;34m:\u001b[0m\u001b[0;34m\u001b[0m\u001b[0;34m\u001b[0m\u001b[0m\n\u001b[1;32m   6588\u001b[0m       \u001b[0;32mreturn\u001b[0m \u001b[0mNotImplemented\u001b[0m\u001b[0;34m\u001b[0m\u001b[0;34m\u001b[0m\u001b[0m\n\u001b[0;32m-> 6589\u001b[0;31m     \u001b[0;32mreturn\u001b[0m \u001b[0mbinary_op\u001b[0m\u001b[0;34m(\u001b[0m\u001b[0mself\u001b[0m\u001b[0;34m,\u001b[0m \u001b[0mother\u001b[0m\u001b[0;34m)\u001b[0m\u001b[0;34m\u001b[0m\u001b[0;34m\u001b[0m\u001b[0m\n\u001b[0m\u001b[1;32m   6590\u001b[0m   \u001b[0;32mreturn\u001b[0m \u001b[0mdeferring_binary_op\u001b[0m\u001b[0;34m\u001b[0m\u001b[0;34m\u001b[0m\u001b[0m\n\u001b[1;32m   6591\u001b[0m \u001b[0;34m\u001b[0m\u001b[0m\n",
      "    \u001b[0;31m[... skipping hidden 26 frame]\u001b[0m\n",
      "\u001b[0;32m~/.conda/envs/prettyB/lib/python3.9/site-packages/jax/_src/numpy/lax_numpy.py\u001b[0m in \u001b[0;36m<lambda>\u001b[0;34m(x1, x2)\u001b[0m\n\u001b[1;32m    677\u001b[0m     \u001b[0mfn\u001b[0m \u001b[0;34m=\u001b[0m \u001b[0;32mlambda\u001b[0m \u001b[0mx1\u001b[0m\u001b[0;34m,\u001b[0m \u001b[0mx2\u001b[0m\u001b[0;34m:\u001b[0m \u001b[0mlax_fn\u001b[0m\u001b[0;34m(\u001b[0m\u001b[0;34m*\u001b[0m\u001b[0m_promote_args_inexact\u001b[0m\u001b[0;34m(\u001b[0m\u001b[0mnumpy_fn\u001b[0m\u001b[0;34m.\u001b[0m\u001b[0m__name__\u001b[0m\u001b[0;34m,\u001b[0m \u001b[0mx1\u001b[0m\u001b[0;34m,\u001b[0m \u001b[0mx2\u001b[0m\u001b[0;34m)\u001b[0m\u001b[0;34m)\u001b[0m\u001b[0;34m\u001b[0m\u001b[0;34m\u001b[0m\u001b[0m\n\u001b[1;32m    678\u001b[0m   \u001b[0;32melse\u001b[0m\u001b[0;34m:\u001b[0m\u001b[0;34m\u001b[0m\u001b[0;34m\u001b[0m\u001b[0m\n\u001b[0;32m--> 679\u001b[0;31m     \u001b[0mfn\u001b[0m \u001b[0;34m=\u001b[0m \u001b[0;32mlambda\u001b[0m \u001b[0mx1\u001b[0m\u001b[0;34m,\u001b[0m \u001b[0mx2\u001b[0m\u001b[0;34m:\u001b[0m \u001b[0mlax_fn\u001b[0m\u001b[0;34m(\u001b[0m\u001b[0;34m*\u001b[0m\u001b[0m_promote_args\u001b[0m\u001b[0;34m(\u001b[0m\u001b[0mnumpy_fn\u001b[0m\u001b[0;34m.\u001b[0m\u001b[0m__name__\u001b[0m\u001b[0;34m,\u001b[0m \u001b[0mx1\u001b[0m\u001b[0;34m,\u001b[0m \u001b[0mx2\u001b[0m\u001b[0;34m)\u001b[0m\u001b[0;34m)\u001b[0m\u001b[0;34m\u001b[0m\u001b[0;34m\u001b[0m\u001b[0m\n\u001b[0m\u001b[1;32m    680\u001b[0m   \u001b[0mfn\u001b[0m \u001b[0;34m=\u001b[0m \u001b[0mjit\u001b[0m\u001b[0;34m(\u001b[0m\u001b[0mfn\u001b[0m\u001b[0;34m,\u001b[0m \u001b[0minline\u001b[0m\u001b[0;34m=\u001b[0m\u001b[0;32mTrue\u001b[0m\u001b[0;34m)\u001b[0m\u001b[0;34m\u001b[0m\u001b[0;34m\u001b[0m\u001b[0m\n\u001b[1;32m    681\u001b[0m   \u001b[0;32mif\u001b[0m \u001b[0mlax_doc\u001b[0m\u001b[0;34m:\u001b[0m\u001b[0;34m\u001b[0m\u001b[0;34m\u001b[0m\u001b[0m\n",
      "\u001b[0;32m~/.conda/envs/prettyB/lib/python3.9/site-packages/jax/_src/numpy/lax_numpy.py\u001b[0m in \u001b[0;36m_promote_args\u001b[0;34m(fun_name, *args)\u001b[0m\n\u001b[1;32m    579\u001b[0m   \u001b[0m_check_arraylike\u001b[0m\u001b[0;34m(\u001b[0m\u001b[0mfun_name\u001b[0m\u001b[0;34m,\u001b[0m \u001b[0;34m*\u001b[0m\u001b[0margs\u001b[0m\u001b[0;34m)\u001b[0m\u001b[0;34m\u001b[0m\u001b[0;34m\u001b[0m\u001b[0m\n\u001b[1;32m    580\u001b[0m   \u001b[0m_check_no_float0s\u001b[0m\u001b[0;34m(\u001b[0m\u001b[0mfun_name\u001b[0m\u001b[0;34m,\u001b[0m \u001b[0;34m*\u001b[0m\u001b[0margs\u001b[0m\u001b[0;34m)\u001b[0m\u001b[0;34m\u001b[0m\u001b[0;34m\u001b[0m\u001b[0m\n\u001b[0;32m--> 581\u001b[0;31m   \u001b[0;32mreturn\u001b[0m \u001b[0m_promote_shapes\u001b[0m\u001b[0;34m(\u001b[0m\u001b[0mfun_name\u001b[0m\u001b[0;34m,\u001b[0m \u001b[0;34m*\u001b[0m\u001b[0m_promote_dtypes\u001b[0m\u001b[0;34m(\u001b[0m\u001b[0;34m*\u001b[0m\u001b[0margs\u001b[0m\u001b[0;34m)\u001b[0m\u001b[0;34m)\u001b[0m\u001b[0;34m\u001b[0m\u001b[0;34m\u001b[0m\u001b[0m\n\u001b[0m\u001b[1;32m    582\u001b[0m \u001b[0;34m\u001b[0m\u001b[0m\n\u001b[1;32m    583\u001b[0m \u001b[0;32mdef\u001b[0m \u001b[0m_promote_args_inexact\u001b[0m\u001b[0;34m(\u001b[0m\u001b[0mfun_name\u001b[0m\u001b[0;34m,\u001b[0m \u001b[0;34m*\u001b[0m\u001b[0margs\u001b[0m\u001b[0;34m)\u001b[0m\u001b[0;34m:\u001b[0m\u001b[0;34m\u001b[0m\u001b[0;34m\u001b[0m\u001b[0m\n",
      "\u001b[0;32m~/.conda/envs/prettyB/lib/python3.9/site-packages/jax/_src/numpy/lax_numpy.py\u001b[0m in \u001b[0;36m_promote_shapes\u001b[0;34m(fun_name, *args)\u001b[0m\n\u001b[1;32m    498\u001b[0m       \u001b[0;32mif\u001b[0m \u001b[0mconfig\u001b[0m\u001b[0;34m.\u001b[0m\u001b[0mjax_numpy_rank_promotion\u001b[0m \u001b[0;34m!=\u001b[0m \u001b[0;34m\"allow\"\u001b[0m\u001b[0;34m:\u001b[0m\u001b[0;34m\u001b[0m\u001b[0;34m\u001b[0m\u001b[0m\n\u001b[1;32m    499\u001b[0m         \u001b[0m_rank_promotion_warning_or_error\u001b[0m\u001b[0;34m(\u001b[0m\u001b[0mfun_name\u001b[0m\u001b[0;34m,\u001b[0m \u001b[0mshapes\u001b[0m\u001b[0;34m)\u001b[0m\u001b[0;34m\u001b[0m\u001b[0;34m\u001b[0m\u001b[0m\n\u001b[0;32m--> 500\u001b[0;31m       \u001b[0mresult_rank\u001b[0m \u001b[0;34m=\u001b[0m \u001b[0mlen\u001b[0m\u001b[0;34m(\u001b[0m\u001b[0mlax\u001b[0m\u001b[0;34m.\u001b[0m\u001b[0mbroadcast_shapes\u001b[0m\u001b[0;34m(\u001b[0m\u001b[0;34m*\u001b[0m\u001b[0mshapes\u001b[0m\u001b[0;34m)\u001b[0m\u001b[0;34m)\u001b[0m\u001b[0;34m\u001b[0m\u001b[0;34m\u001b[0m\u001b[0m\n\u001b[0m\u001b[1;32m    501\u001b[0m       return [broadcast_to(arg, (1,) * (result_rank - len(shp)) + shp)\n\u001b[1;32m    502\u001b[0m               for arg, shp in zip(args, shapes)]\n",
      "    \u001b[0;31m[... skipping hidden 2 frame]\u001b[0m\n",
      "\u001b[0;32m~/.conda/envs/prettyB/lib/python3.9/site-packages/jax/_src/lax/lax.py\u001b[0m in \u001b[0;36mbroadcast_shapes\u001b[0;34m(*shapes)\u001b[0m\n\u001b[1;32m    112\u001b[0m   \u001b[0mresult_shape\u001b[0m \u001b[0;34m=\u001b[0m \u001b[0m_try_broadcast_shapes\u001b[0m\u001b[0;34m(\u001b[0m\u001b[0mshapes\u001b[0m\u001b[0;34m)\u001b[0m\u001b[0;34m\u001b[0m\u001b[0;34m\u001b[0m\u001b[0m\n\u001b[1;32m    113\u001b[0m   \u001b[0;32mif\u001b[0m \u001b[0mresult_shape\u001b[0m \u001b[0;32mis\u001b[0m \u001b[0;32mNone\u001b[0m\u001b[0;34m:\u001b[0m\u001b[0;34m\u001b[0m\u001b[0;34m\u001b[0m\u001b[0m\n\u001b[0;32m--> 114\u001b[0;31m     raise ValueError(\"Incompatible shapes for broadcasting: {}\"\n\u001b[0m\u001b[1;32m    115\u001b[0m                      .format(tuple(map(tuple, shapes))))\n\u001b[1;32m    116\u001b[0m   \u001b[0;32mreturn\u001b[0m \u001b[0mresult_shape\u001b[0m\u001b[0;34m\u001b[0m\u001b[0;34m\u001b[0m\u001b[0m\n",
      "\u001b[0;31mValueError\u001b[0m: Incompatible shapes for broadcasting: ((5, 8, 1), (1, 5, 8))"
     ]
    }
   ],
   "source": [
    "params, train_loss, val_loss = ensemble_train(\n",
    "        key, train_t, c, train_reps, train_labels, val_seqs=validation_reps, val_labels=validation_labels, aconfig=aconfig\n",
    "    )"
   ]
  },
  {
   "cell_type": "code",
   "execution_count": null,
   "id": "46af499e",
   "metadata": {},
   "outputs": [],
   "source": []
  },
  {
   "cell_type": "code",
   "execution_count": 11,
   "id": "38879206",
   "metadata": {},
   "outputs": [
    {
     "name": "stdout",
     "output_type": "stream",
     "text": [
      "(1,)\n",
      "(8, 1)\n"
     ]
    }
   ],
   "source": [
    "# test shape\n",
    "batch_seqs = jnp.ones([8, train_reps.shape[-1]])\n",
    "params = alpdesign.mlp.naive_forward_t.init(key, batch_seqs)\n",
    "out = alpdesign.mlp.naive_forward_t.apply(params, key, batch_seqs)\n",
    "print(out.shape)"
   ]
  },
  {
   "cell_type": "code",
   "execution_count": 13,
   "id": "1fab250c",
   "metadata": {},
   "outputs": [],
   "source": [
    "def _naive_loss(forward, key, params, seq, label):\n",
    "    yhat = forward(params, key, seq) #scalar\n",
    "    return (label-yhat)**2\n",
    "batch_labels = train_labels[:8]\n",
    "naive_loss = _naive_loss(alpdesign.mlp.naive_forward_t.apply, key, params, batch_seqs, batch_labels)"
   ]
  },
  {
   "cell_type": "code",
   "execution_count": 21,
   "id": "f8a53e7f",
   "metadata": {},
   "outputs": [
    {
     "name": "stdout",
     "output_type": "stream",
     "text": [
      "(8, 24)\n",
      "(8, 1)\n",
      "(8, 1)\n"
     ]
    }
   ],
   "source": [
    "batch_labels = batch_labels.reshape((-1, 1))\n",
    "naive_loss = _naive_loss(alpdesign.mlp.naive_forward_t.apply, key, params, batch_seqs, batch_labels)\n",
    "print(batch_seqs.shape)\n",
    "print(batch_labels.shape)\n",
    "print(naive_loss.shape)"
   ]
  },
  {
   "cell_type": "code",
   "execution_count": 5,
   "id": "50424337",
   "metadata": {},
   "outputs": [],
   "source": [
    "params, train_loss, val_losses = naive_train(\n",
    "        key, naive_forward_t, train_reps, train_labels, val_seqs=validation_reps, val_labels=validation_labels, params=None\n",
    "    )"
   ]
  },
  {
   "cell_type": "code",
   "execution_count": 7,
   "id": "f0ec0ba4",
   "metadata": {},
   "outputs": [
    {
     "data": {
      "text/plain": [
       "Text(0.5, 0, 'epochs')"
      ]
     },
     "execution_count": 7,
     "metadata": {},
     "output_type": "execute_result"
    },
    {
     "data": {
      "image/png": "[encoded data removed]",
      "text/plain": [
       "<Figure size 432x288 with 1 Axes>"
      ]
     },
     "metadata": {
      "needs_background": "light"
     },
     "output_type": "display_data"
    }
   ],
   "source": [
    "plt.figure()\n",
    "plt.plot(train_loss, label='train loss')\n",
    "plt.plot(val_losses, label='validation loss')\n",
    "plt.title('Loss')\n",
    "plt.legend()\n",
    "plt.xlabel('epochs')\n",
    "\n"
   ]
  },
  {
   "cell_type": "code",
   "execution_count": 11,
   "id": "bf145815",
   "metadata": {},
   "outputs": [],
   "source": [
    "\n",
    "y_pred, y_std = get_results(key, params, test_reps)\n",
    "#(exp_proportions, obs_proportions) = uct.get_proportion_lists(y_pred, y_std, validation_labels)\n",
    "\n"
   ]
  },
  {
   "cell_type": "code",
   "execution_count": 8,
   "id": "c335acbe",
   "metadata": {},
   "outputs": [],
   "source": [
    "y_pred = get_single_results(key, params, test_reps)"
   ]
  },
  {
   "cell_type": "code",
   "execution_count": 9,
   "id": "860e6c5b",
   "metadata": {},
   "outputs": [],
   "source": [
    "def parity_plot(y_pred, test_labels):\n",
    "    ground_truth = test_labels\n",
    "    pred = y_pred\n",
    "\n",
    "    plt.scatter(ground_truth, pred, c='lightskyblue', alpha=0.3)\n",
    "    plt.plot( [-0.5,1.0],[-0.5,1.0], color='lightsalmon', linewidth=2)\n",
    "    plt.title('Parity Plot')\n",
    "    plt.xlim([-0.5, 1.0])\n",
    "    plt.ylim([-0.5, 1.0])\n",
    "    plt.xlabel('Ground truth')\n",
    "    plt.ylabel('Predictions')\n",
    "    plt.grid()\n",
    "    return plt\n",
    "\n",
    "\n",
    "def calibration_plot(y_pred, y_std, test_labels):\n",
    "    (exp_proportions, obs_proportions) = uct.get_proportion_lists_vectorized(y_pred, y_std, test_labels)\n",
    "    plt.figure()\n",
    "    ax = plt.gca()\n",
    "    ax.plot(exp_proportions, obs_proportions, c=\"#1f77b4\")\n",
    "    #ax.set_title('Calibration Parity Plot %d' % num)\n",
    "    ax.set_title('Calibration Plot')\n",
    "    ax.set_xlabel(\"Predicted Proportion in Interval\")\n",
    "    ax.set_ylabel(\"Observed Proportion in Interval\")\n",
    "    ax.axis(\"square\")\n",
    "    ax.grid()\n",
    "    ax.set_xlim([0.0, 1.0])\n",
    "    ax.set_ylim([0.0, 1.0])\n",
    "    ax.plot(exp_proportions, exp_proportions, '--', c='orange')\n",
    "    ax.fill_between(exp_proportions, exp_proportions, obs_proportions, alpha=0.2)\n",
    "    polygon_points = []\n",
    "    for point in zip(exp_proportions, obs_proportions):\n",
    "        polygon_points.append(point)\n",
    "    for point in zip(reversed(exp_proportions), reversed(exp_proportions)):\n",
    "        polygon_points.append(point)\n",
    "    polygon_points.append((exp_proportions[0], obs_proportions[0]))\n",
    "    polygon = Polygon(polygon_points)\n",
    "    x, y = polygon.exterior.xy  # original data\n",
    "    ls = LineString(np.c_[x, y])  # closed, non-simple\n",
    "    lr = LineString(ls.coords[:] + ls.coords[0:1])\n",
    "    mls = unary_union(lr)\n",
    "    polygon_area_list = [poly.area for poly in polygonize(mls)]\n",
    "    miscalibration_area = np.asarray(polygon_area_list).sum()\n",
    "    ax.text(\n",
    "            x=0.95,\n",
    "            y=0.05,\n",
    "            s=\"Miscalibration area = %.2f\" % miscalibration_area,\n",
    "            verticalalignment=\"bottom\",\n",
    "            horizontalalignment=\"right\",\n",
    "            fontsize=\"small\",\n",
    "        )"
   ]
  },
  {
   "cell_type": "code",
   "execution_count": 19,
   "id": "d1a7ae99",
   "metadata": {},
   "outputs": [
    {
     "name": "stdout",
     "output_type": "stream",
     "text": [
      "(62, 1)\n",
      "(500,)\n"
     ]
    }
   ],
   "source": [
    "print(y_pred.shape)\n",
    "print(test_labels.shape)"
   ]
  },
  {
   "cell_type": "code",
   "execution_count": 10,
   "id": "e98cb3a1",
   "metadata": {},
   "outputs": [
    {
     "data": {
      "text/plain": [
       "<module 'matplotlib.pyplot' from '/home/zyang43/.conda/envs/prettyB/lib/python3.9/site-packages/matplotlib/pyplot.py'>"
      ]
     },
     "execution_count": 10,
     "metadata": {},
     "output_type": "execute_result"
    },
    {
     "data": {
      "image/png": "[encoded data removed]",
      "text/plain": [
       "<Figure size 432x288 with 1 Axes>"
      ]
     },
     "metadata": {
      "needs_background": "light"
     },
     "output_type": "display_data"
    }
   ],
   "source": [
    "y_pred = y_pred.reshape((-1, 1))\n",
    "parity_plot(y_pred, test_labels[:len(y_pred)])"
   ]
  },
  {
   "cell_type": "code",
   "execution_count": null,
   "id": "9156a920",
   "metadata": {},
   "outputs": [],
   "source": []
  }
 ],
 "metadata": {
  "kernelspec": {
   "display_name": "prettyB",
   "language": "python",
   "name": "prettyb"
  },
  "language_info": {
   "codemirror_mode": {
    "name": "ipython",
    "version": 3
   },
   "file_extension": ".py",
   "mimetype": "text/x-python",
   "name": "python",
   "nbconvert_exporter": "python",
   "pygments_lexer": "ipython3",
   "version": "3.9.7"
  }
 },
 "nbformat": 4,
 "nbformat_minor": 5
}
