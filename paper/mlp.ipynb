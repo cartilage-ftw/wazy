{
 "cells": [
  {
   "cell_type": "code",
   "execution_count": 1,
   "id": "50a2825f",
   "metadata": {},
   "outputs": [
    {
     "name": "stderr",
     "output_type": "stream",
     "text": [
      "WARNING:absl:No GPU/TPU found, falling back to CPU. (Set TF_CPP_MIN_LOG_LEVEL=0 and rerun for more info.)\n"
     ]
    }
   ],
   "source": [
    "import numpy as np\n",
    "import matplotlib.pyplot as plt\n",
    "import jax\n",
    "import jax.numpy as jnp\n",
    "import functools\n",
    "import pickle\n",
    "from operator import add\n",
    "import matplotlib as mpl\n",
    "from alpdesign.utils import *\n",
    "from alpdesign.mlp import *\n",
    "#from jax_unirep import get_reps\n",
    "import alpdesign\n",
    "import os\n"
   ]
  },
  {
   "cell_type": "code",
   "execution_count": 2,
   "id": "b9ee8d58",
   "metadata": {},
   "outputs": [],
   "source": [
    "AA_list = ['A','R','N','D','C','Q','E','G','H','I','L','K','M','F','P','S','T','W','Y','V','B','Z','X','*']\n",
    "blosum92 = np.loadtxt(\"./blosum62.txt\", dtype='i', delimiter=' ')\n",
    "\n",
    "avg92 = jnp.sum(blosum92)/24/24\n",
    "sum92 = 0.\n",
    "for row in blosum92:\n",
    "    for aa in row:\n",
    "        sum92 += (aa-avg92)**2\n",
    "std92 = jnp.sqrt(sum92 / 24/24)\n",
    "\n",
    "def blosum(seq1, seq2):\n",
    "    seqlist1 = list(seq1)\n",
    "    seqlist2 = list(seq2)\n",
    "    score = 0.\n",
    "    for i in range(len(seqlist1)):\n",
    "        idx1 = AA_list.index(seqlist1[i])\n",
    "        idx2 = AA_list.index(seqlist2[i])\n",
    "        score += (blosum92[idx1][idx2] - avg92)/std92\n",
    "        #jax.nn.sigmoid(score/len(seqlist1))\n",
    "    return score/len(seqlist1)"
   ]
  },
  {
   "cell_type": "code",
   "execution_count": 3,
   "id": "c24ff657",
   "metadata": {},
   "outputs": [],
   "source": [
    "target_seq = 'TARGETPEPTIDE'\n",
    "key = jax.random.PRNGKey(0)\n",
    "c = alpdesign.EnsembleBlockConfig()\n",
    "forward_t, full_forward_t, seq_t , uncertainty_eval_t = alpdesign.build_e2e(c)\n",
    "#def gen(k, n): return jax.random.normal(k, shape=(n, 13, 20))\n",
    "train_t = full_forward_t\n",
    "aconfig = AlgConfig()\n",
    "c = alpdesign.EnsembleBlockConfig()"
   ]
  },
  {
   "cell_type": "code",
   "execution_count": 4,
   "id": "cf89eb5b",
   "metadata": {},
   "outputs": [],
   "source": [
    "with open('../10kseqs.txt') as f:\n",
    "    readfile = f.readlines()\n",
    "    random_seqs = f'{readfile[0]}'.split(' ')[:-1]\n",
    "    \n",
    "\n",
    "def get_labels(seqs):\n",
    "    labels = []\n",
    "    for seq in seqs:\n",
    "        labels.append(blosum(target_seq, seq))\n",
    "    labels = np.array(labels)\n",
    "\n",
    "    return labels\n",
    "\n",
    "def get_aanum(seqs):\n",
    "    aa_count = []\n",
    "    for seq in seqs:\n",
    "        seq_list = list(seq)\n",
    "        aa_num = [float(seq_list.count(aa)) for aa in AA_list]\n",
    "        aa_count.append(aa_num)\n",
    "    aa_count = jnp.array(aa_count)\n",
    "    return aa_count\n",
    "\n",
    "batch_size = 8\n",
    "def get_results(key, params, rep_list):\n",
    "    means = []\n",
    "    stds = []\n",
    "    # need batch\n",
    "    for i in range(0, len(rep_list)//batch_size):\n",
    "    #for rep in rep_list:\n",
    "        batch_reps = rep_list[i * batch_size: (i + 1) * batch_size]\n",
    "        yhat = forward_t.apply(params, key, batch_reps)\n",
    "        #print(yhat.shape)\n",
    "        means.append(yhat[0])\n",
    "        stds.append(yhat[1])\n",
    "    return np.array(means), np.array(stds)\n",
    "\n",
    "def get_single_results(key, params, rep_list):\n",
    "    yhats = []\n",
    "    for i in range(0, len(rep_list)//batch_size):\n",
    "    # need batch\n",
    "    #for rep in rep_list:\n",
    "        batch_reps = rep_list[i*batch_size: (i+1)*batch_size]\n",
    "        yhat = naive_forward_t.apply(params, key, batch_reps)\n",
    "        yhats.append(yhat)\n",
    "    return np.array(yhats)"
   ]
  },
  {
   "cell_type": "code",
   "execution_count": 5,
   "id": "8c0af3ce",
   "metadata": {},
   "outputs": [],
   "source": [
    "validation_seqs = [random.choice(random_seqs) for i in range(50)]\n",
    "validation_reps = get_aanum(validation_seqs)\n",
    "validation_labels = get_labels(validation_seqs).reshape((-1, 1))\n",
    "test_seqs = [random.choice(random_seqs) for i in range(500)]\n",
    "test_reps = get_aanum(test_seqs)\n",
    "test_labels = get_labels(test_seqs).reshape((-1, 1))\n",
    "train_seqs = [random.choice(random_seqs) for i in range(100)]\n",
    "train_reps = get_aanum(train_seqs)\n",
    "train_labels = get_labels(train_seqs)"
   ]
  },
  {
   "cell_type": "code",
   "execution_count": 6,
   "id": "aefb6596",
   "metadata": {},
   "outputs": [
    {
     "name": "stdout",
     "output_type": "stream",
     "text": [
      "(5, 8)\n",
      "(5, 8, 2)\n",
      "(5, 8)\n"
     ]
    }
   ],
   "source": [
    "dummy_x = jnp.ones([c.model_number, aconfig.train_batch_size, 24])\n",
    "params = train_t.init(key, dummy_x)\n",
    "a = train_t.apply(params, key, dummy_x)\n",
    "a0 = a[...,0]\n",
    "a1 = a[...,1]\n",
    "n_log_likelihoods = 0.5 * jnp.log(a1)\n",
    "print(n_log_likelihoods.shape)\n",
    "print(a.shape)\n",
    "print(a0.shape)\n",
    "loss = jnp.sum(n_log_likelihoods)\n",
    "#print(loss.shape)"
   ]
  },
  {
   "cell_type": "code",
   "execution_count": 7,
   "id": "6a428c50",
   "metadata": {},
   "outputs": [
    {
     "name": "stdout",
     "output_type": "stream",
     "text": [
      "(8, 24)\n"
     ]
    },
    {
     "data": {
      "text/plain": [
       "(5, 8, 24)"
      ]
     },
     "execution_count": 7,
     "metadata": {},
     "output_type": "execute_result"
    }
   ],
   "source": [
    "seq = dummy_x[0]\n",
    "M = 5\n",
    "print(seq.shape)\n",
    "jnp.tile(seq[jnp.newaxis], (M,1,1)).shape"
   ]
  },
  {
   "cell_type": "code",
   "execution_count": 9,
   "id": "7b2d4230",
   "metadata": {},
   "outputs": [],
   "source": [
    "aconfig.train_epochs=1"
   ]
  },
  {
   "cell_type": "code",
   "execution_count": null,
   "id": "268f30ea",
   "metadata": {},
   "outputs": [
    {
     "name": "stdout",
     "output_type": "stream",
     "text": [
      "training in progress\n"
     ]
    },
    {
     "name": "stderr",
     "output_type": "stream",
     "text": [
      "2021-12-09 14:00:25.720018: E external/org_tensorflow/tensorflow/compiler/xla/service/slow_operation_alarm.cc:55] \n",
      "********************************\n",
      "Very slow compile?  If you want to file a bug, run with envvar XLA_FLAGS=--xla_dump_to=/tmp/foo and attach the results.\n",
      "Compiling module jit_train_step.17716\n",
      "********************************\n"
     ]
    }
   ],
   "source": [
    "params, train_loss, val_loss = ensemble_train(\n",
    "        key, train_t, c, train_reps, train_labels, val_seqs=validation_reps, val_labels=validation_labels, aconfig=aconfig\n",
    "    )"
   ]
  },
  {
   "cell_type": "code",
   "execution_count": null,
   "id": "46af499e",
   "metadata": {},
   "outputs": [],
   "source": []
  },
  {
   "cell_type": "code",
   "execution_count": null,
   "id": "38879206",
   "metadata": {},
   "outputs": [],
   "source": [
    "# test shape\n",
    "batch_seqs = jnp.ones([8, train_reps.shape[-1]])\n",
    "params = alpdesign.mlp.naive_forward_t.init(key, batch_seqs)\n",
    "out = alpdesign.mlp.naive_forward_t.apply(params, key, batch_seqs)\n",
    "print(out.shape)"
   ]
  },
  {
   "cell_type": "code",
   "execution_count": null,
   "id": "1fab250c",
   "metadata": {},
   "outputs": [],
   "source": [
    "def _naive_loss(forward, key, params, seq, label):\n",
    "    yhat = forward(params, key, seq) #scalar\n",
    "    return (label-yhat)**2\n",
    "batch_labels = train_labels[:8]\n",
    "naive_loss = _naive_loss(alpdesign.mlp.naive_forward_t.apply, key, params, batch_seqs, batch_labels)"
   ]
  },
  {
   "cell_type": "code",
   "execution_count": null,
   "id": "f8a53e7f",
   "metadata": {},
   "outputs": [],
   "source": [
    "batch_labels = batch_labels.reshape((-1, 1))\n",
    "naive_loss = _naive_loss(alpdesign.mlp.naive_forward_t.apply, key, params, batch_seqs, batch_labels)\n",
    "print(batch_seqs.shape)\n",
    "print(batch_labels.shape)\n",
    "print(naive_loss.shape)"
   ]
  },
  {
   "cell_type": "code",
   "execution_count": null,
   "id": "50424337",
   "metadata": {},
   "outputs": [],
   "source": [
    "params, train_loss, val_losses = naive_train(\n",
    "        key, naive_forward_t, train_reps, train_labels, val_seqs=validation_reps, val_labels=validation_labels, params=None\n",
    "    )"
   ]
  },
  {
   "cell_type": "code",
   "execution_count": null,
   "id": "f0ec0ba4",
   "metadata": {},
   "outputs": [],
   "source": [
    "plt.figure()\n",
    "plt.plot(train_loss, label='train loss')\n",
    "plt.plot(val_losses, label='validation loss')\n",
    "plt.title('Loss')\n",
    "plt.legend()\n",
    "plt.xlabel('epochs')\n",
    "\n"
   ]
  },
  {
   "cell_type": "code",
   "execution_count": null,
   "id": "bf145815",
   "metadata": {},
   "outputs": [],
   "source": [
    "\n",
    "y_pred, y_std = get_results(key, params, test_reps)\n",
    "#(exp_proportions, obs_proportions) = uct.get_proportion_lists(y_pred, y_std, validation_labels)\n",
    "\n"
   ]
  },
  {
   "cell_type": "code",
   "execution_count": null,
   "id": "c335acbe",
   "metadata": {},
   "outputs": [],
   "source": [
    "y_pred = get_single_results(key, params, test_reps)"
   ]
  },
  {
   "cell_type": "code",
   "execution_count": null,
   "id": "860e6c5b",
   "metadata": {},
   "outputs": [],
   "source": [
    "def parity_plot(y_pred, test_labels):\n",
    "    ground_truth = test_labels\n",
    "    pred = y_pred\n",
    "\n",
    "    plt.scatter(ground_truth, pred, c='lightskyblue', alpha=0.3)\n",
    "    plt.plot( [-0.5,1.0],[-0.5,1.0], color='lightsalmon', linewidth=2)\n",
    "    plt.title('Parity Plot')\n",
    "    plt.xlim([-0.5, 1.0])\n",
    "    plt.ylim([-0.5, 1.0])\n",
    "    plt.xlabel('Ground truth')\n",
    "    plt.ylabel('Predictions')\n",
    "    plt.grid()\n",
    "    return plt\n",
    "\n",
    "\n",
    "def calibration_plot(y_pred, y_std, test_labels):\n",
    "    (exp_proportions, obs_proportions) = uct.get_proportion_lists_vectorized(y_pred, y_std, test_labels)\n",
    "    plt.figure()\n",
    "    ax = plt.gca()\n",
    "    ax.plot(exp_proportions, obs_proportions, c=\"#1f77b4\")\n",
    "    #ax.set_title('Calibration Parity Plot %d' % num)\n",
    "    ax.set_title('Calibration Plot')\n",
    "    ax.set_xlabel(\"Predicted Proportion in Interval\")\n",
    "    ax.set_ylabel(\"Observed Proportion in Interval\")\n",
    "    ax.axis(\"square\")\n",
    "    ax.grid()\n",
    "    ax.set_xlim([0.0, 1.0])\n",
    "    ax.set_ylim([0.0, 1.0])\n",
    "    ax.plot(exp_proportions, exp_proportions, '--', c='orange')\n",
    "    ax.fill_between(exp_proportions, exp_proportions, obs_proportions, alpha=0.2)\n",
    "    polygon_points = []\n",
    "    for point in zip(exp_proportions, obs_proportions):\n",
    "        polygon_points.append(point)\n",
    "    for point in zip(reversed(exp_proportions), reversed(exp_proportions)):\n",
    "        polygon_points.append(point)\n",
    "    polygon_points.append((exp_proportions[0], obs_proportions[0]))\n",
    "    polygon = Polygon(polygon_points)\n",
    "    x, y = polygon.exterior.xy  # original data\n",
    "    ls = LineString(np.c_[x, y])  # closed, non-simple\n",
    "    lr = LineString(ls.coords[:] + ls.coords[0:1])\n",
    "    mls = unary_union(lr)\n",
    "    polygon_area_list = [poly.area for poly in polygonize(mls)]\n",
    "    miscalibration_area = np.asarray(polygon_area_list).sum()\n",
    "    ax.text(\n",
    "            x=0.95,\n",
    "            y=0.05,\n",
    "            s=\"Miscalibration area = %.2f\" % miscalibration_area,\n",
    "            verticalalignment=\"bottom\",\n",
    "            horizontalalignment=\"right\",\n",
    "            fontsize=\"small\",\n",
    "        )"
   ]
  },
  {
   "cell_type": "code",
   "execution_count": null,
   "id": "d1a7ae99",
   "metadata": {},
   "outputs": [],
   "source": [
    "print(y_pred.shape)\n",
    "print(test_labels.shape)"
   ]
  },
  {
   "cell_type": "code",
   "execution_count": null,
   "id": "e98cb3a1",
   "metadata": {},
   "outputs": [],
   "source": [
    "y_pred = y_pred.reshape((-1, 1))\n",
    "parity_plot(y_pred, test_labels[:len(y_pred)])"
   ]
  },
  {
   "cell_type": "code",
   "execution_count": null,
   "id": "9156a920",
   "metadata": {},
   "outputs": [],
   "source": []
  }
 ],
 "metadata": {
  "kernelspec": {
   "display_name": "Python 3",
   "language": "python",
   "name": "python3"
  },
  "language_info": {
   "codemirror_mode": {
    "name": "ipython",
    "version": 3
   },
   "file_extension": ".py",
   "mimetype": "text/x-python",
   "name": "python",
   "nbconvert_exporter": "python",
   "pygments_lexer": "ipython3",
   "version": "3.8.11"
  }
 },
 "nbformat": 4,
 "nbformat_minor": 5
}
