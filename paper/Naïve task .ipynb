{
 "cells": [
  {
   "cell_type": "code",
   "execution_count": 21,
   "metadata": {},
   "outputs": [],
   "source": [
    "import alpdesign as alp\n",
    "from alpdesign.seq import *\n",
    "from alpdesign.mlp import *\n",
    "from alpdesign.utils import *\n",
    "import jax \n",
    "from jax_unirep import get_reps\n",
    "import haiku as hk"
   ]
  },
  {
   "cell_type": "code",
   "execution_count": 22,
   "metadata": {},
   "outputs": [],
   "source": [
    "def hamming(seq1, seq2): # seq1 and seq2 are of same length\n",
    "    seqlist1 = list(seq1)\n",
    "    seqlist2 = list(seq2)\n",
    "    hamming_distance = 0.\n",
    "    for i in range(len(seqlist1)):\n",
    "        if seqlist1[i] == seqlist2[i]:\n",
    "            continue\n",
    "        hamming_distance += 1.\n",
    "    return hamming_distance / len(seqlist1)\n",
    "    "
   ]
  },
  {
   "cell_type": "code",
   "execution_count": 23,
   "metadata": {},
   "outputs": [],
   "source": [
    "target_seq = 'GIGAVLKVLTTGLPALISWIKRKRQQ'\n",
    "\n",
    "seqs = ['GIGAVLKVLKAGLPALIVTLKRKIVQ',\n",
    "       'PPGATLKKHTTGSVALISWIWARIQQ',\n",
    "       'GIGAVLKVLTTGLKTLISAAKRKRAA',\n",
    "       'HAPPVLKVLTTGLAPPLVWIKRKRTH',\n",
    "       'GIGAVLUIHKLSSVAAWRPPKRKRQQ']\n",
    "\n",
    "labels = []\n",
    "for seq in seqs:\n",
    "    labels.append(hamming(target_seq, seq))\n",
    "labels = jnp.array(labels)\n",
    "    \n",
    "reps = get_reps(seqs)[0]"
   ]
  },
  {
   "cell_type": "code",
   "execution_count": 24,
   "metadata": {},
   "outputs": [],
   "source": [
    "key = jax.random.PRNGKey(0)\n",
    "forward = hk.without_apply_rng(hk.transform(alp.model_forward))\n",
    "params, outs = alp.ensemble_train(key, forward, reps, labels)\n",
    "init_x = jax.random.normal(key, shape=(1, 1900))\n",
    "final_vec = alp.bayes_opt(forward, params, init_x, labels)[0]"
   ]
  },
  {
   "cell_type": "code",
   "execution_count": 25,
   "metadata": {},
   "outputs": [
    {
     "name": "stdout",
     "output_type": "stream",
     "text": [
      "[-1.8844324  0.0517109  1.2715325 ...  0.6919433 -1.1954689 -1.7313558]\n"
     ]
    }
   ],
   "source": [
    "print(final_vec)"
   ]
  },
  {
   "cell_type": "code",
   "execution_count": 28,
   "metadata": {},
   "outputs": [
    {
     "name": "stdout",
     "output_type": "stream",
     "text": [
      "0\n",
      "1\n",
      "2\n",
      "3\n",
      "4\n",
      "5\n",
      "6\n",
      "7\n",
      "8\n",
      "9\n",
      "10\n",
      "11\n",
      "12\n",
      "13\n",
      "14\n",
      "15\n",
      "16\n",
      "17\n",
      "18\n",
      "19\n",
      "0\n",
      "1\n",
      "2\n",
      "3\n",
      "4\n",
      "5\n",
      "6\n",
      "7\n",
      "8\n",
      "9\n",
      "10\n",
      "11\n",
      "12\n",
      "13\n",
      "14\n",
      "15\n",
      "16\n",
      "17\n",
      "18\n",
      "19\n"
     ]
    }
   ],
   "source": [
    "batch_size = 8\n",
    "bag_num = 2\n",
    "oh_vec = encode_seq(list(target_seq))\n",
    "logits = jax.random.normal(key, shape=(jnp.shape(oh_vec)))\n",
    "b_logits = jax.random.normal(key, shape=(batch_size,*jnp.shape(oh_vec)))\n",
    "#batch_keys = jax.random.split(key, num=batch_size)\n",
    "#r = jax.random.normal(r_key)\n",
    "#b = jax.random.normal(b_key)\n",
    "\n",
    "params = forward_seqprop.init(key, logits)\n",
    "#forward_seqprop = hk.transform(forward_seqprop)\n",
    "beam_loss_traces, beam_loss, beam_seqs = pso_train(key, final_vec, b_logits, params, alp.seq.train_seqprop_adam, batch_size, bag_num)"
   ]
  },
  {
   "cell_type": "code",
   "execution_count": 33,
   "metadata": {},
   "outputs": [],
   "source": [
    "gen_seqs = []\n",
    "for beam_seq in beam_seqs:\n",
    "    str = \"\"\n",
    "    gen_seqs.append(str.join(beam_seq)) "
   ]
  },
  {
   "cell_type": "code",
   "execution_count": 35,
   "metadata": {},
   "outputs": [
    {
     "name": "stdout",
     "output_type": "stream",
     "text": [
      "['HIIIMIKKRNYVFIYWRSKGHWIWFP', 'CELACNPKYPIVVPESGCHPLWYPCW', 'CELACNAKYVIVFSPDGCSPDWQPPP', 'CCFEIWKLTRKKHYKWRHRPYVWICG']\n",
      "GIGAVLKVLTTGLPALISWIKRKRQQ\n"
     ]
    }
   ],
   "source": [
    "print(gen_seqs)\n"
   ]
  },
  {
   "cell_type": "code",
   "execution_count": null,
   "metadata": {},
   "outputs": [],
   "source": []
  }
 ],
 "metadata": {
  "kernelspec": {
   "display_name": "alpdesign",
   "language": "python",
   "name": "alpdesign"
  },
  "language_info": {
   "codemirror_mode": {
    "name": "ipython",
    "version": 3
   },
   "file_extension": ".py",
   "mimetype": "text/x-python",
   "name": "python",
   "nbconvert_exporter": "python",
   "pygments_lexer": "ipython3",
   "version": "3.7.8"
  }
 },
 "nbformat": 4,
 "nbformat_minor": 4
}
