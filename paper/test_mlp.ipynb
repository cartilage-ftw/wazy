{
 "cells": [
  {
   "cell_type": "code",
   "execution_count": 8,
   "id": "1ab3c18e",
   "metadata": {},
   "outputs": [],
   "source": [
    "import alpdesign as alp\n",
    "from alpdesign.seq import *\n",
    "from alpdesign.mlp import *\n",
    "from alpdesign.utils import *\n",
    "import jax \n",
    "from jax_unirep import get_reps\n",
    "import haiku as hk"
   ]
  },
  {
   "cell_type": "code",
   "execution_count": 9,
   "id": "4893ec31",
   "metadata": {},
   "outputs": [],
   "source": [
    "def hamming(seq1, seq2): # seq1 and seq2 are of same length\n",
    "    seqlist1 = list(seq1)\n",
    "    seqlist2 = list(seq2)\n",
    "    hamming_distance = 0.\n",
    "    for i in range(len(seqlist1)):\n",
    "        if seqlist1[i] == seqlist2[i]:\n",
    "            continue\n",
    "        hamming_distance += 1.\n",
    "    return hamming_distance / len(seqlist1)"
   ]
  },
  {
   "cell_type": "code",
   "execution_count": 10,
   "id": "d90184db",
   "metadata": {},
   "outputs": [],
   "source": [
    "target = 'GIGAVLKVLTTGLPALISWIKRKRQQ'\n",
    "# generate a set of sequence with length 26\n",
    "seqs = ['PTWIIFLKAQWEQHSNLTNMRTFPEV',\n",
    "'TISHFVCNHDICAWIKDMQAMQIKMC',\n",
    "'CESWLWKRLFDGHADRWRSMPDYPIW',\n",
    "'YLVENPLMFPLVAAFIHQWTRQISWH',\n",
    "'QTEERLEAQISIYYIGAWSHYKVTDE',\n",
    "'QADMWSQWDNLPQKPLFTEQATTWFE',\n",
    "'ALICTNWFPIDLIPPVIAMIQCYRSV',\n",
    "'LYKGTWQHQGPHWTDWKNVMGGEVVV',\n",
    "'HCKWQHNQTQFIVDTFHNLTMYMTRL',\n",
    "'KSIAHRKPKWISSINSIKFHTTCVGY',\n",
    "'PFRPPFIWNRFFCWFDQDFYHCAQQF',\n",
    "'WQEGVNYHGHAIEANKVEGLYYFKSH',\n",
    "'LLCNSEFLHQPRRDFASHFCAKGPLR',\n",
    "'VEVWRGWYKNGQNCCFCPNIYEPMAQ',\n",
    "'QMEVLGMPIEHFCSYKYMSHRKNFWT',\n",
    "'APQMIENAFWGHDTCEQRQASDFSFA',\n",
    "'TLGTNYDWKFFLGHPQLVFHGEKYRV',\n",
    "'QMMKKFMLGGYDPEIYLCNMNKVCAI',\n",
    "'PLIRMKGQRAALMPADFHENITKGGH',\n",
    "'TDSTRQWYKRPGQHRIEFADDSMPDV',\n",
    "'KDCQGRYVNHVYDLVSIARACPPYNG',\n",
    "'EFFTVPVVEVIFLSFPMKWTMTTTRF',\n",
    "'PRCRKLKGRYYFNHYLVKTYIGGWLD',\n",
    "'EELFVKDAKCQDVYCMNSRPIVPCEF',\n",
    "'GARFVDYHMYTTCRVHTNIPREDIYR',\n",
    "'SYCRMESTYCSGHNQVCRDEHPQKCQ',\n",
    "'ERCGHQRVDQHRRTVVRGEIAYLVQW',\n",
    "'AQICQAKSTLHGWRVILADRPNKHFY',\n",
    "'DFMAWFDKNSCISTPAAQASAQAWRG',\n",
    "'KDYFFKLYEYAWGKAPFPQQALRRHC',\n",
    "'VYFLEEIPVPCPQAQRWQMKPYCPMN',\n",
    "'CCQATNYMDYKYGLDLNKVNISHCRP',\n",
    "'PAFGQLSCRTKQICIAMTFRCDTPDA',\n",
    "'IWNIYVISWVRPDAKHDDATKFYPCR',\n",
    "'IPHFGAICMLCSWGIPLMTCKVVNAA',\n",
    "'CMNWWSMKYQEMPSFIIVDWNQSFAK',\n",
    "'IMVKDSALKCCCGQAPCANEMNIDVQ',\n",
    "'YVEVSNIWEDMGKAMQPSDLMVPQHD',\n",
    "'FISNVTQRGNRDMYDMVDDMTHYIKF',\n",
    "'IDRYSHDVPMTNATDVWIYYSVEMYN',\n",
    "'PGATTQYFCFLPLRMEIRANPKCRKP',\n",
    "'RTPLPKNFTNYAQIINGCQYFLSEDH',\n",
    "'MQLLTCFMIRMKEDPAMMYFGPDNNR',\n",
    "'NYPWLNGTQWASSTDFTCSSIQRCQI',\n",
    "'SGDRWHFSPYHGCALAMVHPMYTWIT',\n",
    "'GAHQATVGQCQTQTIEIFIHEACVGE',\n",
    "'PLKIVKRCIRFIWLYHKKFWIFIFTR',\n",
    "'FPTLGWPCEMPLELTYNSWISICGSD',\n",
    "'QVKASGQKGISNGCPQEFHQGTLNFP',\n",
    "'HIQKYHNWPNHWHCPNMNFIQTTWFR']\n"
   ]
  },
  {
   "cell_type": "code",
   "execution_count": 11,
   "id": "3673ea7d",
   "metadata": {},
   "outputs": [
    {
     "name": "stdout",
     "output_type": "stream",
     "text": [
      "(50, 1900)\n"
     ]
    }
   ],
   "source": [
    "labels = []\n",
    "for seq in seqs:\n",
    "    labels.append(hamming(target, seq))\n",
    "reps = get_reps(seqs)[0]\n",
    "print(reps.shape)"
   ]
  },
  {
   "cell_type": "code",
   "execution_count": 12,
   "id": "4559bad9",
   "metadata": {},
   "outputs": [],
   "source": [
    "key = jax.random.PRNGKey(37)\n",
    "#key, _ = jax.random.split(key, num=2)\n",
    "forward = hk.without_apply_rng(hk.transform(alp.model_forward))\n",
    "params, mlp_loss = alp.ensemble_train(key, forward, reps, labels)"
   ]
  },
  {
   "cell_type": "code",
   "execution_count": 13,
   "id": "70322bcf",
   "metadata": {},
   "outputs": [],
   "source": [
    "%matplotlib inline\n",
    "import matplotlib.pyplot as plt\n"
   ]
  },
  {
   "cell_type": "code",
   "execution_count": 14,
   "id": "26b30a73",
   "metadata": {},
   "outputs": [
    {
     "data": {
      "text/plain": [
       "[<matplotlib.lines.Line2D at 0x7f61cc9aea20>]"
      ]
     },
     "execution_count": 14,
     "metadata": {},
     "output_type": "execute_result"
    },
    {
     "data": {
      "image/png": "[encoded data removed]",
      "text/plain": [
       "<Figure size 432x288 with 1 Axes>"
      ]
     },
     "metadata": {
      "needs_background": "light"
     },
     "output_type": "display_data"
    }
   ],
   "source": [
    "plt.plot(mlp_loss)"
   ]
  },
  {
   "cell_type": "code",
   "execution_count": null,
   "id": "58faca5f",
   "metadata": {},
   "outputs": [],
   "source": []
  }
 ],
 "metadata": {
  "kernelspec": {
   "display_name": "Python (alp)",
   "language": "python",
   "name": "alp"
  },
  "language_info": {
   "codemirror_mode": {
    "name": "ipython",
    "version": 3
   },
   "file_extension": ".py",
   "mimetype": "text/x-python",
   "name": "python",
   "nbconvert_exporter": "python",
   "pygments_lexer": "ipython3",
   "version": "3.6.13"
  }
 },
 "nbformat": 4,
 "nbformat_minor": 5
}
