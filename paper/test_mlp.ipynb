{
 "cells": [
  {
   "cell_type": "code",
   "execution_count": 1,
   "metadata": {},
   "outputs": [
    {
     "name": "stderr",
     "output_type": "stream",
     "text": [
      "WARNING:absl:No GPU/TPU found, falling back to CPU. (Set TF_CPP_MIN_LOG_LEVEL=0 and rerun for more info.)\n"
     ]
    }
   ],
   "source": [
    "import alpdesign as alp\n",
    "from alpdesign.seq import *\n",
    "from alpdesign.mlp import *\n",
    "from alpdesign.utils import *\n",
    "import jax \n",
    "from jax_unirep import get_reps\n",
    "import haiku as hk"
   ]
  },
  {
   "cell_type": "code",
   "execution_count": 34,
   "metadata": {},
   "outputs": [
    {
     "name": "stdout",
     "output_type": "stream",
     "text": [
      "-1.243753\n",
      "[[ 0.03530544  0.01821727 -0.02212866 ...  0.04356638  0.01688159\n",
      "  -0.0018179 ]\n",
      " [ 0.00310536  0.00404459 -0.00560028 ...  0.00412356 -0.00282711\n",
      "  -0.00071209]\n",
      " [-0.01276583 -0.0591213  -0.01162291 ...  0.06525493  0.09788166\n",
      "  -0.02801391]\n",
      " [-0.05523166  0.03280498  0.05422471 ...  0.0053332   0.01868808\n",
      "   0.01275704]\n",
      " [ 0.01133134  0.00471746  0.00336034 ...  0.01455054  0.00262816\n",
      "  -0.00108954]]\n"
     ]
    }
   ],
   "source": [
    "def _deep_ensemble_loss(forward, params, seqs, labels):\n",
    "    out = forward.apply(params, seqs)\n",
    "    means = out[..., 0]\n",
    "    stds = out[..., 1]\n",
    "    n_log_likelihoods = 0.5 * \\\n",
    "        jnp.log(jnp.abs(stds)) + 0.5*(labels-means)**2/jnp.abs(stds)\n",
    "    return jnp.sum(n_log_likelihoods, axis=0)\n",
    "\n",
    "key = jax.random.PRNGKey(0)\n",
    "seq = jnp.ones((5 ,1900))\n",
    "forward = hk.without_apply_rng(hk.transform(model_forward))\n",
    "params = forward.init(key, seq)\n",
    "out = forward.apply(params, seq)\n",
    "labels = out[...,0]\n",
    "\n",
    "seq_grad = jax.grad(_deep_ensemble_loss, 2)(forward, params, seq, labels)\n",
    "deep_loss = _deep_ensemble_loss(forward, params, seq, labels)\n",
    "print(deep_loss)\n",
    "print(seq_grad)"
   ]
  },
  {
   "cell_type": "code",
   "execution_count": 2,
   "metadata": {},
   "outputs": [],
   "source": [
    "def hamming(seq1, seq2): # seq1 and seq2 are of same length\n",
    "    seqlist1 = list(seq1)\n",
    "    seqlist2 = list(seq2)\n",
    "    hamming_distance = 0.\n",
    "    for i in range(len(seqlist1)):\n",
    "        if seqlist1[i] == seqlist2[i]:\n",
    "            continue\n",
    "        hamming_distance += 1.\n",
    "    return hamming_distance / len(seqlist1)"
   ]
  },
  {
   "cell_type": "code",
   "execution_count": 3,
   "metadata": {},
   "outputs": [],
   "source": [
    "target = 'GIGAVLKVLTTGLPALISWIKRKRQQ'\n",
    "# generate a set of sequence with length 26\n",
    "seqs = ['PTWIIFLKAQWEQHSNLTNMRTFPEV',\n",
    "'TISHFVCNHDICAWIKDMQAMQIKMC',\n",
    "'CESWLWKRLFDGHADRWRSMPDYPIW',\n",
    "'YLVENPLMFPLVAAFIHQWTRQISWH',\n",
    "'QTEERLEAQISIYYIGAWSHYKVTDE',\n",
    "'QADMWSQWDNLPQKPLFTEQATTWFE',\n",
    "'ALICTNWFPIDLIPPVIAMIQCYRSV',\n",
    "'LYKGTWQHQGPHWTDWKNVMGGEVVV',\n",
    "'HCKWQHNQTQFIVDTFHNLTMYMTRL',\n",
    "'KSIAHRKPKWISSINSIKFHTTCVGY',\n",
    "'PFRPPFIWNRFFCWFDQDFYHCAQQF',\n",
    "'WQEGVNYHGHAIEANKVEGLYYFKSH',\n",
    "'LLCNSEFLHQPRRDFASHFCAKGPLR',\n",
    "'VEVWRGWYKNGQNCCFCPNIYEPMAQ',\n",
    "'QMEVLGMPIEHFCSYKYMSHRKNFWT',\n",
    "'APQMIENAFWGHDTCEQRQASDFSFA',\n",
    "'TLGTNYDWKFFLGHPQLVFHGEKYRV',\n",
    "'QMMKKFMLGGYDPEIYLCNMNKVCAI',\n",
    "'PLIRMKGQRAALMPADFHENITKGGH',\n",
    "'TDSTRQWYKRPGQHRIEFADDSMPDV',\n",
    "'KDCQGRYVNHVYDLVSIARACPPYNG',\n",
    "'EFFTVPVVEVIFLSFPMKWTMTTTRF',\n",
    "'PRCRKLKGRYYFNHYLVKTYIGGWLD',\n",
    "'EELFVKDAKCQDVYCMNSRPIVPCEF',\n",
    "'GARFVDYHMYTTCRVHTNIPREDIYR',\n",
    "'SYCRMESTYCSGHNQVCRDEHPQKCQ',\n",
    "'ERCGHQRVDQHRRTVVRGEIAYLVQW',\n",
    "'AQICQAKSTLHGWRVILADRPNKHFY',\n",
    "'DFMAWFDKNSCISTPAAQASAQAWRG',\n",
    "'KDYFFKLYEYAWGKAPFPQQALRRHC',\n",
    "'VYFLEEIPVPCPQAQRWQMKPYCPMN',\n",
    "'CCQATNYMDYKYGLDLNKVNISHCRP',\n",
    "'PAFGQLSCRTKQICIAMTFRCDTPDA',\n",
    "'IWNIYVISWVRPDAKHDDATKFYPCR',\n",
    "'IPHFGAICMLCSWGIPLMTCKVVNAA',\n",
    "'CMNWWSMKYQEMPSFIIVDWNQSFAK',\n",
    "'IMVKDSALKCCCGQAPCANEMNIDVQ',\n",
    "'YVEVSNIWEDMGKAMQPSDLMVPQHD',\n",
    "'FISNVTQRGNRDMYDMVDDMTHYIKF',\n",
    "'IDRYSHDVPMTNATDVWIYYSVEMYN',\n",
    "'PGATTQYFCFLPLRMEIRANPKCRKP',\n",
    "'RTPLPKNFTNYAQIINGCQYFLSEDH',\n",
    "'MQLLTCFMIRMKEDPAMMYFGPDNNR',\n",
    "'NYPWLNGTQWASSTDFTCSSIQRCQI',\n",
    "'SGDRWHFSPYHGCALAMVHPMYTWIT',\n",
    "'GAHQATVGQCQTQTIEIFIHEACVGE',\n",
    "'PLKIVKRCIRFIWLYHKKFWIFIFTR',\n",
    "'FPTLGWPCEMPLELTYNSWISICGSD',\n",
    "'QVKASGQKGISNGCPQEFHQGTLNFP',\n",
    "'HIQKYHNWPNHWHCPNMNFIQTTWFR']\n"
   ]
  },
  {
   "cell_type": "code",
   "execution_count": 4,
   "metadata": {},
   "outputs": [
    {
     "name": "stdout",
     "output_type": "stream",
     "text": [
      "(50, 1900)\n"
     ]
    }
   ],
   "source": [
    "labels = []\n",
    "for seq in seqs:\n",
    "    labels.append(hamming(target, seq))\n",
    "reps = get_reps(seqs)[0]\n",
    "print(reps.shape)"
   ]
  },
  {
   "cell_type": "code",
   "execution_count": 5,
   "metadata": {},
   "outputs": [
    {
     "name": "stdout",
     "output_type": "stream",
     "text": [
      "0\n",
      "1\n",
      "2\n",
      "3\n",
      "4\n",
      "5\n",
      "6\n",
      "7\n",
      "8\n",
      "9\n"
     ]
    }
   ],
   "source": [
    "key = jax.random.PRNGKey(37)\n",
    "#key, _ = jax.random.split(key, num=2)\n",
    "forward = hk.without_apply_rng(hk.transform(alp.model_forward))\n",
    "params, mlp_loss = alp.ensemble_train(key, forward, reps, labels)"
   ]
  },
  {
   "cell_type": "code",
   "execution_count": 6,
   "metadata": {},
   "outputs": [],
   "source": [
    "%matplotlib inline\n",
    "import matplotlib.pyplot as plt\n"
   ]
  },
  {
   "cell_type": "code",
   "execution_count": 7,
   "metadata": {},
   "outputs": [
    {
     "data": {
      "text/plain": [
       "[<matplotlib.lines.Line2D at 0x7fee4c65ad10>]"
      ]
     },
     "execution_count": 7,
     "metadata": {},
     "output_type": "execute_result"
    },
    {
     "data": {
      "image/png": "[encoded data removed]",
      "text/plain": [
       "<Figure size 432x288 with 1 Axes>"
      ]
     },
     "metadata": {
      "needs_background": "light"
     },
     "output_type": "display_data"
    }
   ],
   "source": [
    "plt.plot(mlp_loss)"
   ]
  },
  {
   "cell_type": "code",
   "execution_count": null,
   "metadata": {},
   "outputs": [],
   "source": []
  }
 ],
 "metadata": {
  "kernelspec": {
   "display_name": "alpdesign",
   "language": "python",
   "name": "alpdesign"
  },
  "language_info": {
   "codemirror_mode": {
    "name": "ipython",
    "version": 3
   },
   "file_extension": ".py",
   "mimetype": "text/x-python",
   "name": "python",
   "nbconvert_exporter": "python",
   "pygments_lexer": "ipython3",
   "version": "3.7.8"
  }
 },
 "nbformat": 4,
 "nbformat_minor": 5
}
