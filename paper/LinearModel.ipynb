{
 "cells": [
  {
   "cell_type": "code",
   "execution_count": 1,
   "id": "038c5d83",
   "metadata": {},
   "outputs": [],
   "source": [
    "import numpy as np\n",
    "import matplotlib.pyplot as plt\n",
    "import jax\n",
    "import jax.numpy as jnp\n",
    "import functools\n",
    "import pickle\n",
    "from operator import add\n",
    "import matplotlib as mpl\n",
    "from wazy.utils import *\n",
    "from wazy.mlp import *\n",
    "from jax_unirep import get_reps\n",
    "import wazy\n",
    "import os"
   ]
  },
  {
   "cell_type": "code",
   "execution_count": 2,
   "id": "25b4491c",
   "metadata": {},
   "outputs": [],
   "source": [
    "AA_list = ['A','R','N','D','C','Q','E','G','H','I','L','K','M','F','P','S','T','W','Y','V','B','Z','X','*']\n",
    "blosum92 = np.loadtxt(\"./blosum62.txt\", dtype='i', delimiter=' ')\n",
    "\n",
    "avg92 = jnp.sum(blosum92)/24/24\n",
    "sum92 = 0.\n",
    "for row in blosum92:\n",
    "    for aa in row:\n",
    "        sum92 += (aa-avg92)**2\n",
    "std92 = jnp.sqrt(sum92 / 24/24)\n",
    "\n",
    "def blosum(seq1, seq2):\n",
    "    seqlist1 = list(seq1)\n",
    "    seqlist2 = list(seq2)\n",
    "    score = 0.\n",
    "    for i in range(len(seqlist1)):\n",
    "        idx1 = AA_list.index(seqlist1[i])\n",
    "        idx2 = AA_list.index(seqlist2[i])\n",
    "        score += (blosum92[idx1][idx2] - avg92)/std92\n",
    "        #jax.nn.sigmoid(score/len(seqlist1))\n",
    "    return score/len(seqlist1)"
   ]
  },
  {
   "cell_type": "code",
   "execution_count": 3,
   "id": "3542dc7f",
   "metadata": {},
   "outputs": [],
   "source": [
    "target_seq = 'TARGETPEPTIDE'\n",
    "key = jax.random.PRNGKey(0)"
   ]
  },
  {
   "cell_type": "code",
   "execution_count": 4,
   "id": "987f87fc",
   "metadata": {},
   "outputs": [],
   "source": [
    "with open('../10kseqs.txt') as f:\n",
    "    readfile = f.readlines()\n",
    "    random_seqs = f'{readfile[0]}'.split(' ')[:-1]\n",
    "    \n",
    "\n",
    "def get_blosum_labels(seqs):\n",
    "    labels = []\n",
    "    for seq in seqs:\n",
    "        labels.append(blosum(target_seq, seq))\n",
    "    labels = np.array(labels)\n",
    "\n",
    "    return labels\n",
    "\n",
    "def get_count_labels(seqs):\n",
    "    return get_aanum(seqs)[:,0]\n",
    "\n",
    "def get_aanum(seqs):\n",
    "    aa_count = []\n",
    "    for seq in seqs:\n",
    "        seq_list = list(seq)\n",
    "        aa_num = [float(seq_list.count(aa)) for aa in AA_list]\n",
    "        aa_count.append(aa_num)\n",
    "    aa_count = jnp.array(aa_count)\n",
    "    return aa_count\n",
    "def get_flat_ohc(seqs):\n",
    "    return jnp.array([encode_seq(list(s)).flatten() for s in seqs])\n",
    "\n",
    "def get_ohc(seqs):\n",
    "    return jnp.array([encode_seq(list(s)) for s in seqs])\n",
    "\n",
    "batch_size = 8\n",
    "def get_results(key, params, rep_list):\n",
    "    means = []\n",
    "    stds = []\n",
    "    # need batch\n",
    "    for i in range(0, len(rep_list)//batch_size):\n",
    "    #for rep in rep_list:\n",
    "        batch_reps = rep_list[i * batch_size: (i + 1) * batch_size]\n",
    "        yhat = forward_t.apply(params, key, batch_reps)\n",
    "        #print(yhat.shape)\n",
    "        means.append(yhat[0])\n",
    "        stds.append(yhat[1])\n",
    "    return np.array(means), np.array(stds)\n",
    "\n",
    "def get_single_results(key, params, rep_list):\n",
    "    yhats = []\n",
    "    for i in range(0, len(rep_list)//batch_size):\n",
    "    # need batch\n",
    "    #for rep in rep_list:\n",
    "        batch_reps = rep_list[i*batch_size: (i+1)*batch_size]\n",
    "        yhat = naive_forward_t.apply(params, key, batch_reps)\n",
    "        yhats.append(yhat)\n",
    "    return np.array(yhats)"
   ]
  },
  {
   "cell_type": "code",
   "execution_count": 5,
   "id": "4f8b18f1",
   "metadata": {},
   "outputs": [],
   "source": [
    "validation_seqs = [random.choice(random_seqs) for i in range(50)]\n",
    "validation_ohc = get_ohc(validation_seqs)\n",
    "validation_labels = get_blosum_labels(validation_seqs)\n",
    "test_seqs = [random.choice(random_seqs) for i in range(500)]\n",
    "test_ohc = get_ohc(test_seqs)\n",
    "test_labels = get_blosum_labels(test_seqs)\n",
    "train_seqs = [random.choice(random_seqs) for i in range(100)]\n",
    "train_ohc = get_ohc(train_seqs)\n",
    "train_labels = get_blosum_labels(train_seqs)"
   ]
  },
  {
   "cell_type": "code",
   "execution_count": 10,
   "id": "cf13cd5c",
   "metadata": {},
   "outputs": [
    {
     "data": {
      "text/plain": [
       "(100, 260)"
      ]
     },
     "execution_count": 10,
     "metadata": {},
     "output_type": "execute_result"
    }
   ],
   "source": [
    "train_ohc.reshape(100, -1).shape"
   ]
  },
  {
   "cell_type": "code",
   "execution_count": 11,
   "id": "6ca09930",
   "metadata": {},
   "outputs": [
    {
     "data": {
      "text/plain": [
       "LinearRegression()"
      ]
     },
     "execution_count": 11,
     "metadata": {},
     "output_type": "execute_result"
    }
   ],
   "source": [
    "from sklearn.linear_model import LinearRegression\n",
    "\n",
    "linear_model = LinearRegression()\n",
    "linear_model.fit(train_ohc.reshape(100, -1), train_labels)"
   ]
  },
  {
   "cell_type": "code",
   "execution_count": 12,
   "id": "b953cbfa",
   "metadata": {},
   "outputs": [],
   "source": [
    "yhat = linear_model.predict(test_ohc.reshape(500, -1))"
   ]
  },
  {
   "cell_type": "code",
   "execution_count": 15,
   "id": "fe8c71fc",
   "metadata": {},
   "outputs": [
    {
     "ename": "NameError",
     "evalue": "name 'test_y' is not defined",
     "output_type": "error",
     "traceback": [
      "\u001b[0;31m---------------------------------------------------------------------------\u001b[0m",
      "\u001b[0;31mNameError\u001b[0m                                 Traceback (most recent call last)",
      "\u001b[0;32m/scratch/zyang43/tmp/ipykernel_43748/1368915235.py\u001b[0m in \u001b[0;36m<module>\u001b[0;34m\u001b[0m\n\u001b[1;32m      8\u001b[0m \u001b[0mplt\u001b[0m\u001b[0;34m.\u001b[0m\u001b[0mylabel\u001b[0m\u001b[0;34m(\u001b[0m\u001b[0;34m'Predictions'\u001b[0m\u001b[0;34m)\u001b[0m\u001b[0;34m\u001b[0m\u001b[0;34m\u001b[0m\u001b[0m\n\u001b[1;32m      9\u001b[0m plt.text(\n\u001b[0;32m---> 10\u001b[0;31m \u001b[0mmin\u001b[0m\u001b[0;34m(\u001b[0m\u001b[0mtest_y\u001b[0m\u001b[0;34m)\u001b[0m \u001b[0;34m+\u001b[0m \u001b[0;36m0.1\u001b[0m\u001b[0;34m,\u001b[0m\u001b[0;34m\u001b[0m\u001b[0;34m\u001b[0m\u001b[0m\n\u001b[0m\u001b[1;32m     11\u001b[0m \u001b[0mmax\u001b[0m\u001b[0;34m(\u001b[0m\u001b[0mtest_y\u001b[0m\u001b[0;34m)\u001b[0m \u001b[0;34m-\u001b[0m \u001b[0;36m0.2\u001b[0m\u001b[0;34m,\u001b[0m\u001b[0;34m\u001b[0m\u001b[0;34m\u001b[0m\u001b[0m\n\u001b[1;32m     12\u001b[0m \u001b[0;34mf\"correlation = {np.corrcoef(test_labels, yhat)[0,1]:.3f}\"\u001b[0m\u001b[0;34m,\u001b[0m\u001b[0;34m\u001b[0m\u001b[0;34m\u001b[0m\u001b[0m\n",
      "\u001b[0;31mNameError\u001b[0m: name 'test_y' is not defined"
     ]
    },
    {
     "data": {
      "image/png": "[encoded data removed]",
      "text/plain": [
       "<Figure size 432x288 with 1 Axes>"
      ]
     },
     "metadata": {
      "needs_background": "light"
     },
     "output_type": "display_data"
    }
   ],
   "source": [
    "plt.scatter(test_labels, yhat, c='lightskyblue', alpha=0.3)\n",
    "    #plt.errorbar(test_y, yhat, yerr=std, fmt='None', alpha=0.3)\n",
    "plt.plot( [-0.5,1.0],[-0.5,1.0], color='lightsalmon', linewidth=2)\n",
    "plt.title('Parity Plot')\n",
    "plt.xlim([-0.5, 1.0])\n",
    "plt.ylim([-0.5, 1.0])\n",
    "plt.xlabel('Ground truth')\n",
    "plt.ylabel('Predictions')\n",
    "plt.text(\n",
    "min(test_y) + 0.1,\n",
    "max(test_y) - 0.2,\n",
    "f\"correlation = {np.corrcoef(test_labels, yhat)[0,1]:.3f}\",\n",
    ")\n",
    "plt.text(\n",
    "min(test_y) + 0.1,\n",
    "max(test_y) - 0.3,\n",
    "f\"loss = {np.sqrt(np.mean((test_labels - yhat)**2)):.3f}\",\n",
    ")\n",
    "plt.grid()"
   ]
  },
  {
   "cell_type": "code",
   "execution_count": null,
   "id": "091575f7",
   "metadata": {},
   "outputs": [],
   "source": []
  }
 ],
 "metadata": {
  "kernelspec": {
   "display_name": "prettyB",
   "language": "python",
   "name": "prettyb"
  },
  "language_info": {
   "codemirror_mode": {
    "name": "ipython",
    "version": 3
   },
   "file_extension": ".py",
   "mimetype": "text/x-python",
   "name": "python",
   "nbconvert_exporter": "python",
   "pygments_lexer": "ipython3",
   "version": "3.9.7"
  }
 },
 "nbformat": 4,
 "nbformat_minor": 5
}
