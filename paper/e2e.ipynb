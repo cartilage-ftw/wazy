{
 "cells": [
  {
   "cell_type": "code",
   "execution_count": 1,
   "metadata": {},
   "outputs": [],
   "source": [
    "from alpdesign.utils import *\n",
    "from alpdesign.mlp import *\n",
    "from jax_unirep import get_reps\n",
    "import alpdesign\n",
    "import numpy as np\n",
    "import matplotlib.pyplot as plt\n",
    "import jax_unirep\n",
    "import haiku as hk\n",
    "import jax\n",
    "import jax.numpy as jnp\n",
    "import functools\n",
    "from sklearn.decomposition import PCA"
   ]
  },
  {
   "cell_type": "code",
   "execution_count": 2,
   "metadata": {},
   "outputs": [
    {
     "data": {
      "text/plain": [
       "DeviceArray(-6.9077554, dtype=float32)"
      ]
     },
     "execution_count": 2,
     "metadata": {},
     "output_type": "execute_result"
    }
   ],
   "source": [
    "jnp.log(0.001)"
   ]
  },
  {
   "cell_type": "code",
   "execution_count": 2,
   "metadata": {},
   "outputs": [
    {
     "name": "stdout",
     "output_type": "stream",
     "text": [
      "[[ 4 -1 -2 -2  0 -1 -1  0 -2 -1 -1 -1 -1 -2 -1  1  0 -3 -2  0 -2 -1  0 -4]\n",
      " [-1  5  0 -2 -3  1  0 -2  0 -3 -2  2 -1 -3 -2 -1 -1 -3 -2 -3 -1  0 -1 -4]\n",
      " [-2  0  6  1 -3  0  0  0  1 -3 -3  0 -2 -3 -2  1  0 -4 -2 -3  3  0 -1 -4]\n",
      " [-2 -2  1  6 -3  0  2 -1 -1 -3 -4 -1 -3 -3 -1  0 -1 -4 -3 -3  4  1 -1 -4]\n",
      " [ 0 -3 -3 -3  9 -3 -4 -3 -3 -1 -1 -3 -1 -2 -3 -1 -1 -2 -2 -1 -3 -3 -2 -4]\n",
      " [-1  1  0  0 -3  5  2 -2  0 -3 -2  1  0 -3 -1  0 -1 -2 -1 -2  0  3 -1 -4]\n",
      " [-1  0  0  2 -4  2  5 -2  0 -3 -3  1 -2 -3 -1  0 -1 -3 -2 -2  1  4 -1 -4]\n",
      " [ 0 -2  0 -1 -3 -2 -2  6 -2 -4 -4 -2 -3 -3 -2  0 -2 -2 -3 -3 -1 -2 -1 -4]\n",
      " [-2  0  1 -1 -3  0  0 -2  8 -3 -3 -1 -2 -1 -2 -1 -2 -2  2 -3  0  0 -1 -4]\n",
      " [-1 -3 -3 -3 -1 -3 -3 -4 -3  4  2 -3  1  0 -3 -2 -1 -3 -1  3 -3 -3 -1 -4]\n",
      " [-1 -2 -3 -4 -1 -2 -3 -4 -3  2  4 -2  2  0 -3 -2 -1 -2 -1  1 -4 -3 -1 -4]\n",
      " [-1  2  0 -1 -3  1  1 -2 -1 -3 -2  5 -1 -3 -1  0 -1 -3 -2 -2  0  1 -1 -4]\n",
      " [-1 -1 -2 -3 -1  0 -2 -3 -2  1  2 -1  5  0 -2 -1 -1 -1 -1  1 -3 -1 -1 -4]\n",
      " [-2 -3 -3 -3 -2 -3 -3 -3 -1  0  0 -3  0  6 -4 -2 -2  1  3 -1 -3 -3 -1 -4]\n",
      " [-1 -2 -2 -1 -3 -1 -1 -2 -2 -3 -3 -1 -2 -4  7 -1 -1 -4 -3 -2 -2 -1 -2 -4]\n",
      " [ 1 -1  1  0 -1  0  0  0 -1 -2 -2  0 -1 -2 -1  4  1 -3 -2 -2  0  0  0 -4]\n",
      " [ 0 -1  0 -1 -1 -1 -1 -2 -2 -1 -1 -1 -1 -2 -1  1  5 -2 -2  0 -1 -1  0 -4]\n",
      " [-3 -3 -4 -4 -2 -2 -3 -2 -2 -3 -2 -3 -1  1 -4 -3 -2 11  2 -3 -4 -3 -2 -4]\n",
      " [-2 -2 -2 -3 -2 -1 -2 -3  2 -1 -1 -2 -1  3 -3 -2 -2  2  7 -1 -3 -2 -1 -4]\n",
      " [ 0 -3 -3 -3 -1 -2 -2 -3 -3  3  1 -2  1 -1 -2 -2  0 -3 -1  4 -3 -2 -1 -4]\n",
      " [-2 -1  3  4 -3  0  1 -1  0 -3 -4  0 -3 -3 -2  0 -1 -4 -3 -3  4  1 -1 -4]\n",
      " [-1  0  0  1 -3  3  4 -2  0 -3 -3  1 -1 -3 -1  0 -1 -3 -2 -2  1  4 -1 -4]\n",
      " [ 0 -1 -1 -1 -2 -1 -1 -1 -1 -1 -1 -1 -1 -1 -2  0  0 -2 -1 -1 -1 -1 -1 -4]\n",
      " [-4 -4 -4 -4 -4 -4 -4 -4 -4 -4 -4 -4 -4 -4 -4 -4 -4 -4 -4 -4 -4 -4 -4  1]]\n",
      "24\n"
     ]
    }
   ],
   "source": [
    "AA_list = ['A','R','N','D','C','Q','E','G','H','I','L','K','M','F','P','S','T','W','Y','V','B','Z','X','*']\n",
    "blosum92 = np.loadtxt(\"./blosum62.txt\", dtype='i', delimiter=' ')\n",
    "print(blosum92)\n",
    "print(len(AA_list))"
   ]
  },
  {
   "cell_type": "code",
   "execution_count": 3,
   "metadata": {},
   "outputs": [
    {
     "name": "stdout",
     "output_type": "stream",
     "text": [
      "-1.2604167\n",
      "2.166242\n"
     ]
    }
   ],
   "source": [
    "avg92 = jnp.sum(blosum92)/24/24\n",
    "sum92 = 0.\n",
    "for row in blosum92:\n",
    "    for aa in row:\n",
    "        sum92 += (aa-avg92)**2\n",
    "std92 = jnp.sqrt(sum92 / 24/24)\n",
    "print(avg92)\n",
    "print(std92)"
   ]
  },
  {
   "cell_type": "code",
   "execution_count": 4,
   "metadata": {},
   "outputs": [],
   "source": [
    "def blosum(seq1, seq2):\n",
    "    seqlist1 = list(seq1)\n",
    "    seqlist2 = list(seq2)\n",
    "    score = 0.\n",
    "    for i in range(len(seqlist1)):\n",
    "        idx1 = AA_list.index(seqlist1[i])\n",
    "        idx2 = AA_list.index(seqlist2[i])\n",
    "        score += (blosum92[idx1][idx2] - avg92)/std92\n",
    "        #jax.nn.sigmoid(score/len(seqlist1))\n",
    "    return score/len(seqlist1)\n",
    "    #return score/len(seqlist1)"
   ]
  },
  {
   "cell_type": "code",
   "execution_count": 5,
   "metadata": {},
   "outputs": [
    {
     "name": "stdout",
     "output_type": "stream",
     "text": [
      "[0.01368617]\n"
     ]
    }
   ],
   "source": [
    "target_seq = 'TARGETPEPTIDE'\n",
    "oh_vec = encode_seq(list(target_seq))\n",
    "oh_unirep = seq2useq(oh_vec)\n",
    "target_rep = differentiable_jax_unirep(oh_unirep)\n",
    "\n",
    "seqs = ['ISQLRYICEVIWF']\n",
    "\n",
    "reps = get_reps(seqs)[0]\n",
    "labels = []\n",
    "for seq in seqs:\n",
    "    labels.append(blosum(target_seq, seq))\n",
    "labels = np.array(labels)\n",
    "\n",
    "print(labels)"
   ]
  },
  {
   "cell_type": "code",
   "execution_count": 6,
   "metadata": {},
   "outputs": [
    {
     "data": {
      "text/plain": [
       "'\\nkey1, key2 = jax.random.split(key)\\nstart_params = seq_t.init(key1, jnp.tile(\\n    jnp.squeeze(gen(key2, 1)), (c.model_number, 1)))\\nbest_v, params, train_loss, bo_loss = alpdesign.alg_iter(\\n    key2, reps, labels, full_forward_t, seq_t, c, x0_gen=gen,\\n    start_params=start_params\\n)\\n'"
      ]
     },
     "execution_count": 6,
     "metadata": {},
     "output_type": "execute_result"
    }
   ],
   "source": [
    "key = jax.random.PRNGKey(0)\n",
    "c = alpdesign.EnsembleBlockConfig()\n",
    "forward_t, full_forward_t, seq_t = alpdesign.build_e2e(c)\n",
    "def gen(k, n): return jax.random.normal(key, shape=(n, 13, 20))\n",
    "'''\n",
    "key1, key2 = jax.random.split(key)\n",
    "start_params = seq_t.init(key1, jnp.tile(\n",
    "    jnp.squeeze(gen(key2, 1)), (c.model_number, 1)))\n",
    "best_v, params, train_loss, bo_loss = alpdesign.alg_iter(\n",
    "    key2, reps, labels, full_forward_t, seq_t, c, x0_gen=gen,\n",
    "    start_params=start_params\n",
    ")\n",
    "'''\n"
   ]
  },
  {
   "cell_type": "code",
   "execution_count": 7,
   "metadata": {},
   "outputs": [],
   "source": [
    "reps = get_reps(seqs)[0]\n",
    "labels = []\n",
    "for seq in seqs:\n",
    "    labels.append(blosum(target_seq, seq))\n",
    "labels = np.array(labels)\n",
    "def loop(key, reps, labels, params):\n",
    "    \n",
    "    #forward_t, full_forward_t, seq_t = alpdesign.build_e2e(c)\n",
    "    key, key2 = jax.random.split(key)\n",
    "    start_params = seq_t.init(key, jnp.tile(\n",
    "    jnp.squeeze(gen(key2, 1)), (c.model_number, 1)))\n",
    "    best_v, params, train_loss, bo_loss = alpdesign.alg_iter(\n",
    "        key2, reps, labels, full_forward_t, seq_t, c, x0_gen=gen,\n",
    "        start_params=start_params\n",
    "        )\n",
    "    s = decode_seq(best_v)\n",
    "    reps = np.concatenate((reps, get_reps([s])[0]))\n",
    "    yhat = forward_t.apply(params, key, get_reps([s])[0])\n",
    "    y = blosum(target_seq, s)\n",
    "    print(s, y, yhat[0], yhat[1])\n",
    "    labels = np.concatenate((labels, np.array(y).reshape(1,)))\n",
    "    return key, reps, labels, s, params, bo_loss, train_loss\n",
    "\n",
    "    "
   ]
  },
  {
   "cell_type": "code",
   "execution_count": 9,
   "metadata": {},
   "outputs": [
    {
     "name": "stdout",
     "output_type": "stream",
     "text": [
      "0\n",
      "['D', 'K', 'E', 'S', 'W', 'H', 'M', 'R', 'A', 'I', 'V', 'Y', 'F'] 0.084706016 0.037246488 0.0040559475\n",
      "1\n",
      "['Y', 'I', 'T', 'I', 'N', 'M', 'D', 'C', 'K', 'C', 'M', 'M', 'A'] -0.09284363 0.017035753 0.0041701524\n",
      "2\n",
      "['P', 'T', 'I', 'T', 'F', 'M', 'M', 'A', 'G', 'Y', 'M', 'W', 'F'] -0.2348833 0.060898256 0.0050172256\n",
      "3\n",
      "['W', 'A', 'S', 'R', 'G', 'N', 'I', 'C', 'D', 'Q', 'A', 'Q', 'S'] 0.120215915 0.27405378 0.002282627\n",
      "4\n",
      "['W', 'Q', 'H', 'E', 'H', 'C', 'F', 'A', 'M', 'E', 'F', 'I', 'T'] -0.057333693 -0.002944249 0.008167755\n",
      "5\n",
      "['T', 'P', 'H', 'D', 'G', 'R', 'E', 'V', 'Q', 'L', 'S', 'T', 'E'] 0.47531512 0.31154227 0.0011455119\n",
      "6\n",
      "['P', 'P', 'P', 'E', 'E', 'G', 'E', 'E', 'E', 'E', 'A', 'V', 'E'] 0.58184487 0.5227841 0.018930405\n",
      "7\n",
      "['M', 'P', 'E', 'Q', 'V', 'G', 'G', 'R', 'E', 'T', 'T', 'K', 'E'] 0.47531512 0.50835943 0.007959515\n",
      "8\n",
      "['W', 'H', 'K', 'R', 'D', 'E', 'A', 'Q', 'N', 'V', 'F', 'I', 'Q'] 0.40429527 0.14115863 0.0011718702\n",
      "9\n",
      "['Q', 'T', 'H', 'L', 'M', 'K', 'R', 'A', 'K', 'N', 'R', 'G', 'Q'] 0.08470598 0.21987358 0.0035774335\n",
      "10\n",
      "['M', 'K', 'I', 'Q', 'E', 'V', 'I', 'C', 'R', 'F', 'R', 'F', 'V'] -0.16386345 -0.055730667 0.0062141684\n",
      "11\n",
      "['Y', 'R', 'P', 'T', 'D', 'I', 'H', 'T', 'V', 'D', 'C', 'T', 'I'] -0.021823779 0.22944446 0.004929524\n",
      "12\n",
      "['L', 'E', 'I', 'M', 'Y', 'A', 'V', 'H', 'N', 'F', 'W', 'S', 'E'] 0.084706 -0.095529065 0.0018847659\n",
      "13\n",
      "['F', 'V', 'W', 'W', 'I', 'H', 'Y', 'G', 'G', 'Y', 'A', 'L', 'T'] -0.37692297 -0.12182051 0.0021535447\n",
      "14\n",
      "['W', 'P', 'C', 'S', 'H', 'A', 'Y', 'S', 'F', 'H', 'P', 'Y', 'I'] -0.27039322 -0.04401728 0.0002288312\n",
      "15\n",
      "['P', 'G', 'K', 'E', 'E', 'G', 'E', 'A', 'V', 'P', 'A', 'M', 'L'] 0.22674568 0.5930348 0.020783752\n",
      "16\n",
      "['R', 'L', 'I', 'V', 'M', 'K', 'K', 'M', 'T', 'M', 'E', 'F', 'K'] -0.16386345 -0.18827316 0.0055918396\n",
      "17\n",
      "['H', 'D', 'S', 'G', 'K', 'S', 'T', 'R', 'G', 'Q', 'E', 'Q', 'K'] 0.47531512 0.2636642 0.0025942102\n",
      "18\n",
      "['Q', 'R', 'N', 'Q', 'L', 'L', 'K', 'Y', 'L', 'V', 'V', 'Q', 'N'] 0.19123575 -0.0772114 0.0035379762\n",
      "19\n",
      "['V', 'L', 'W', 'G', 'Y', 'K', 'Q', 'N', 'T', 'A', 'Y', 'P', 'D'] 0.47531512 0.029944697 0.00092910934\n",
      "20\n",
      "['Y', 'K', 'I', 'S', 'Y', 'E', 'V', 'T', 'D', 'Q', 'K', 'W', 'D'] -0.09284364 0.020298565 0.0013334706\n",
      "21\n",
      "['L', 'G', 'L', 'G', 'N', 'Q', 'D', 'E', 'E', 'E', 'E', 'Q', 'Q'] 0.6883747 0.85897523 0.03245634\n",
      "22\n",
      "['Y', 'A', 'E', 'V', 'C', 'F', 'P', 'S', 'V', 'N', 'W', 'K', 'I'] 0.2622556 0.18638901 0.0031826869\n",
      "23\n",
      "['D', 'V', 'G', 'H', 'Y', 'K', 'S', 'N', 'I', 'W', 'N', 'S', 'R'] -0.021823764 0.2972068 0.0029838383\n",
      "24\n",
      "['Q', 'Y', 'F', 'E', 'Y', 'N', 'M', 'D', 'V', 'S', 'H', 'R', 'I'] -0.0928436 -0.062410034 0.0032461837\n",
      "25\n",
      "['W', 'F', 'R', 'I', 'L', 'G', 'D', 'N', 'K', 'Q', 'G', 'D', 'W'] 0.15572584 0.18509369 0.005848691\n",
      "26\n",
      "['H', 'S', 'A', 'G', 'C', 'Q', 'Q', 'S', 'K', 'W', 'Q', 'Y', 'D'] 0.2622556 0.19593261 0.0022901744\n",
      "27\n",
      "['E', 'A', 'E', 'F', 'E', 'R', 'P', 'Y', 'N', 'R', 'G', 'P', 'I'] 0.51082504 0.49963498 0.0041569024\n",
      "28\n",
      "['T', 'W', 'Y', 'F', 'K', 'F', 'A', 'P', 'A', 'C', 'H', 'C', 'L'] -0.021823764 -0.12018223 0.009269304\n",
      "29\n",
      "['M', 'L', 'G', 'W', 'W', 'P', 'N', 'K', 'N', 'A', 'P', 'C', 'I'] -0.19937336 0.18899862 0.006533075\n",
      "30\n",
      "['F', 'A', 'A', 'G', 'L', 'E', 'Q', 'G', 'V', 'P', 'V', 'G', 'V'] 0.47531512 0.6871312 0.03993076\n",
      "31\n",
      "['Q', 'G', 'G', 'T', 'V', 'L', 'E', 'P', 'N', 'K', 'W', 'V', 'K'] -0.057333693 0.2773053 0.0041177273\n",
      "32\n",
      "['V', 'S', 'P', 'L', 'K', 'S', 'I', 'N', 'C', 'L', 'N', 'W', 'S'] -0.021823747 0.038714934 0.00043931475\n",
      "33\n",
      "['E', 'I', 'W', 'W', 'P', 'Q', 'C', 'V', 'V', 'Q', 'E', 'T', 'K'] -0.12835352 0.0021966875 0.012023041\n",
      "34\n",
      "['N', 'P', 'Y', 'L', 'N', 'F', 'C', 'P', 'S', 'G', 'Q', 'R', 'C'] -0.30590317 0.08274161 0.006057752\n",
      "35\n",
      "['D', 'N', 'H', 'A', 'G', 'E', 'D', 'G', 'W', 'I', 'S', 'P', 'C'] -0.16386345 0.097169474 0.008048687\n",
      "36\n",
      "['Y', 'P', 'R', 'E', 'E', 'E', 'E', 'E', 'Q', 'E', 'E', 'E', 'E'] 0.9369442 0.8354611 0.036765933\n",
      "37\n",
      "['R', 'E', 'V', 'P', 'I', 'N', 'W', 'M', 'H', 'T', 'H', 'W', 'P'] -0.16386345 -0.017165259 0.0019509572\n",
      "38\n",
      "['F', 'F', 'E', 'V', 'S', 'A', 'N', 'C', 'N', 'C', 'Y', 'R', 'S'] -0.09284361 0.028917504 0.0032225507\n",
      "39\n",
      "['P', 'H', 'M', 'A', 'K', 'K', 'P', 'N', 'P', 'R', 'M', 'I', 'L'] 0.7238846 0.36793372 0.0014802516\n",
      "40\n",
      "['P', 'R', 'R', 'A', 'R', 'T', 'I', 'S', 'K', 'W', 'L', 'V', 'Y'] 0.54633504 0.20642285 0.005841758\n",
      "41\n",
      "['D', 'E', 'D', 'Y', 'H', 'R', 'A', 'Q', 'A', 'P', 'K', 'Q', 'A'] 0.12021591 0.4458964 0.0024704635\n",
      "42\n",
      "['S', 'D', 'W', 'K', 'S', 'C', 'H', 'F', 'G', 'Q', 'E', 'R', 'E'] 0.04919608 -0.104474865 0.005501841\n",
      "43\n",
      "['C', 'R', 'P', 'K', 'P', 'R', 'K', 'K', 'R', 'P', 'Q', 'Q', 'L'] -0.02182377 0.68435717 0.037148446\n",
      "44\n",
      "['A', 'S', 'L', 'R', 'I', 'M', 'V', 'L', 'P', 'R', 'V', 'V', 'H'] 0.36878535 0.03144453 0.008453169\n",
      "45\n",
      "['N', 'Q', 'F', 'E', 'L', 'S', 'M', 'S', 'K', 'V', 'F', 'D', 'Q'] 0.47531512 -0.020135665 0.0032094277\n",
      "46\n",
      "['W', 'A', 'H', 'L', 'V', 'F', 'R', 'V', 'F', 'C', 'L', 'H', 'D'] 0.15572584 -0.124007635 0.0059964387\n",
      "47\n",
      "['V', 'P', 'D', 'A', 'W', 'V', 'K', 'Y', 'D', 'S', 'E', 'I', 'R'] 0.049196076 -0.06108299 0.0009299475\n",
      "48\n",
      "['M', 'E', 'E', 'E', 'E', 'E', 'E', 'E', 'E', 'E', 'E', 'Q', 'E'] 0.7238845 0.66497296 0.055464923\n",
      "49\n",
      "['K', 'Y', 'I', 'S', 'S', 'R', 'A', 'E', 'C', 'P', 'R', 'N', 'F'] 0.15572585 -0.104979455 0.014829937\n"
     ]
    }
   ],
   "source": [
    "#y = []\n",
    "for i in range(50):\n",
    "    print(i)\n",
    "    params = None\n",
    "    key, _ = jax.random.split(key, num=2)\n",
    "    key, reps, labels, final_vec, params, bo_loss, mlp_loss= loop(key, reps, labels, params)\n",
    "    y.append(blosum(target_seq, final_vec))"
   ]
  },
  {
   "cell_type": "code",
   "execution_count": 10,
   "metadata": {},
   "outputs": [
    {
     "data": {
      "text/plain": [
       "Text(0.5, 1.0, 'Blosum Score vs N')"
      ]
     },
     "execution_count": 10,
     "metadata": {},
     "output_type": "execute_result"
    },
    {
     "data": {
      "image/png": "[encoded data removed]",
      "text/plain": [
       "<Figure size 432x288 with 1 Axes>"
      ]
     },
     "metadata": {
      "needs_background": "light"
     },
     "output_type": "display_data"
    }
   ],
   "source": [
    "plt.figure()\n",
    "plt.plot(y,label='y')\n",
    "#plt.plot(yhat, label='yhat')\n",
    "plt.legend()\n",
    "plt.title('Blosum Score vs N')"
   ]
  },
  {
   "cell_type": "code",
   "execution_count": null,
   "metadata": {},
   "outputs": [],
   "source": []
  },
  {
   "cell_type": "code",
   "execution_count": null,
   "metadata": {},
   "outputs": [],
   "source": [
    "import pickle\n",
    "\n",
    "with open('y.pkl', 'wb') as f1:\n",
    "    pickle.dump(y, f1)\n",
    "    \n",
    "with open('yhat.pkl', 'wb') as f2:\n",
    "    pickle.dump(yhat, f2)"
   ]
  },
  {
   "cell_type": "code",
   "execution_count": null,
   "metadata": {},
   "outputs": [],
   "source": []
  }
 ],
 "metadata": {
  "kernelspec": {
   "display_name": "Python (alp)",
   "language": "python",
   "name": "alp"
  },
  "language_info": {
   "codemirror_mode": {
    "name": "ipython",
    "version": 3
   },
   "file_extension": ".py",
   "mimetype": "text/x-python",
   "name": "python",
   "nbconvert_exporter": "python",
   "pygments_lexer": "ipython3",
   "version": "3.6.13"
  }
 },
 "nbformat": 4,
 "nbformat_minor": 4
}
