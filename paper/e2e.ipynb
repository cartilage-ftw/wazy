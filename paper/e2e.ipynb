{
 "cells": [
  {
   "cell_type": "code",
   "execution_count": 1,
   "metadata": {},
   "outputs": [],
   "source": [
    "from alpdesign.utils import *\n",
    "from alpdesign.mlp import *\n",
    "from jax_unirep import get_reps\n",
    "import alpdesign\n",
    "import numpy as np\n",
    "import matplotlib.pyplot as plt\n",
    "import jax_unirep\n",
    "import haiku as hk\n",
    "import jax\n",
    "import jax.numpy as jnp\n",
    "import functools\n",
    "from sklearn.decomposition import PCA"
   ]
  },
  {
   "cell_type": "code",
   "execution_count": 2,
   "metadata": {},
   "outputs": [
    {
     "name": "stdout",
     "output_type": "stream",
     "text": [
      "[[ 4 -1 -2 -2  0 -1 -1  0 -2 -1 -1 -1 -1 -2 -1  1  0 -3 -2  0 -2 -1  0 -4]\n",
      " [-1  5  0 -2 -3  1  0 -2  0 -3 -2  2 -1 -3 -2 -1 -1 -3 -2 -3 -1  0 -1 -4]\n",
      " [-2  0  6  1 -3  0  0  0  1 -3 -3  0 -2 -3 -2  1  0 -4 -2 -3  3  0 -1 -4]\n",
      " [-2 -2  1  6 -3  0  2 -1 -1 -3 -4 -1 -3 -3 -1  0 -1 -4 -3 -3  4  1 -1 -4]\n",
      " [ 0 -3 -3 -3  9 -3 -4 -3 -3 -1 -1 -3 -1 -2 -3 -1 -1 -2 -2 -1 -3 -3 -2 -4]\n",
      " [-1  1  0  0 -3  5  2 -2  0 -3 -2  1  0 -3 -1  0 -1 -2 -1 -2  0  3 -1 -4]\n",
      " [-1  0  0  2 -4  2  5 -2  0 -3 -3  1 -2 -3 -1  0 -1 -3 -2 -2  1  4 -1 -4]\n",
      " [ 0 -2  0 -1 -3 -2 -2  6 -2 -4 -4 -2 -3 -3 -2  0 -2 -2 -3 -3 -1 -2 -1 -4]\n",
      " [-2  0  1 -1 -3  0  0 -2  8 -3 -3 -1 -2 -1 -2 -1 -2 -2  2 -3  0  0 -1 -4]\n",
      " [-1 -3 -3 -3 -1 -3 -3 -4 -3  4  2 -3  1  0 -3 -2 -1 -3 -1  3 -3 -3 -1 -4]\n",
      " [-1 -2 -3 -4 -1 -2 -3 -4 -3  2  4 -2  2  0 -3 -2 -1 -2 -1  1 -4 -3 -1 -4]\n",
      " [-1  2  0 -1 -3  1  1 -2 -1 -3 -2  5 -1 -3 -1  0 -1 -3 -2 -2  0  1 -1 -4]\n",
      " [-1 -1 -2 -3 -1  0 -2 -3 -2  1  2 -1  5  0 -2 -1 -1 -1 -1  1 -3 -1 -1 -4]\n",
      " [-2 -3 -3 -3 -2 -3 -3 -3 -1  0  0 -3  0  6 -4 -2 -2  1  3 -1 -3 -3 -1 -4]\n",
      " [-1 -2 -2 -1 -3 -1 -1 -2 -2 -3 -3 -1 -2 -4  7 -1 -1 -4 -3 -2 -2 -1 -2 -4]\n",
      " [ 1 -1  1  0 -1  0  0  0 -1 -2 -2  0 -1 -2 -1  4  1 -3 -2 -2  0  0  0 -4]\n",
      " [ 0 -1  0 -1 -1 -1 -1 -2 -2 -1 -1 -1 -1 -2 -1  1  5 -2 -2  0 -1 -1  0 -4]\n",
      " [-3 -3 -4 -4 -2 -2 -3 -2 -2 -3 -2 -3 -1  1 -4 -3 -2 11  2 -3 -4 -3 -2 -4]\n",
      " [-2 -2 -2 -3 -2 -1 -2 -3  2 -1 -1 -2 -1  3 -3 -2 -2  2  7 -1 -3 -2 -1 -4]\n",
      " [ 0 -3 -3 -3 -1 -2 -2 -3 -3  3  1 -2  1 -1 -2 -2  0 -3 -1  4 -3 -2 -1 -4]\n",
      " [-2 -1  3  4 -3  0  1 -1  0 -3 -4  0 -3 -3 -2  0 -1 -4 -3 -3  4  1 -1 -4]\n",
      " [-1  0  0  1 -3  3  4 -2  0 -3 -3  1 -1 -3 -1  0 -1 -3 -2 -2  1  4 -1 -4]\n",
      " [ 0 -1 -1 -1 -2 -1 -1 -1 -1 -1 -1 -1 -1 -1 -2  0  0 -2 -1 -1 -1 -1 -1 -4]\n",
      " [-4 -4 -4 -4 -4 -4 -4 -4 -4 -4 -4 -4 -4 -4 -4 -4 -4 -4 -4 -4 -4 -4 -4  1]]\n",
      "24\n"
     ]
    }
   ],
   "source": [
    "AA_list = ['A','R','N','D','C','Q','E','G','H','I','L','K','M','F','P','S','T','W','Y','V','B','Z','X','*']\n",
    "blosum92 = np.loadtxt(\"./blosum62.txt\", dtype='i', delimiter=' ')\n",
    "print(blosum92)\n",
    "print(len(AA_list))"
   ]
  },
  {
   "cell_type": "code",
   "execution_count": 3,
   "metadata": {},
   "outputs": [
    {
     "name": "stdout",
     "output_type": "stream",
     "text": [
      "-1.2604167\n",
      "2.166242\n"
     ]
    }
   ],
   "source": [
    "avg92 = jnp.sum(blosum92)/24/24\n",
    "sum92 = 0.\n",
    "for row in blosum92:\n",
    "    for aa in row:\n",
    "        sum92 += (aa-avg92)**2\n",
    "std92 = jnp.sqrt(sum92 / 24/24)\n",
    "print(avg92)\n",
    "print(std92)"
   ]
  },
  {
   "cell_type": "code",
   "execution_count": 4,
   "metadata": {},
   "outputs": [],
   "source": [
    "def blosum(seq1, seq2):\n",
    "    seqlist1 = list(seq1)\n",
    "    seqlist2 = list(seq2)\n",
    "    score = 0.\n",
    "    for i in range(len(seqlist1)):\n",
    "        idx1 = AA_list.index(seqlist1[i])\n",
    "        idx2 = AA_list.index(seqlist2[i])\n",
    "        score += (blosum92[idx1][idx2] - avg92)/std92\n",
    "        #jax.nn.sigmoid(score/len(seqlist1))\n",
    "    return score/len(seqlist1)\n",
    "    #return score/len(seqlist1)"
   ]
  },
  {
   "cell_type": "code",
   "execution_count": 5,
   "metadata": {},
   "outputs": [
    {
     "name": "stdout",
     "output_type": "stream",
     "text": [
      "[0.01368617]\n"
     ]
    }
   ],
   "source": [
    "target_seq = 'TARGETPEPTIDE'\n",
    "oh_vec = encode_seq(list(target_seq))\n",
    "oh_unirep = seq2useq(oh_vec)\n",
    "target_rep = differentiable_jax_unirep(oh_unirep)\n",
    "\n",
    "seqs = ['ISQLRYICEVIWF']\n",
    "\n",
    "reps = get_reps(seqs)[0]\n",
    "labels = []\n",
    "for seq in seqs:\n",
    "    labels.append(blosum(target_seq, seq))\n",
    "labels = np.array(labels)\n",
    "\n",
    "print(labels)"
   ]
  },
  {
   "cell_type": "code",
   "execution_count": 6,
   "metadata": {},
   "outputs": [
    {
     "data": {
      "text/plain": [
       "'\\nkey1, key2 = jax.random.split(key)\\nstart_params = seq_t.init(key1, jnp.tile(\\n    jnp.squeeze(gen(key2, 1)), (c.model_number, 1)))\\nbest_v, params, train_loss, bo_loss = alpdesign.alg_iter(\\n    key2, reps, labels, full_forward_t, seq_t, c, x0_gen=gen,\\n    start_params=start_params\\n)\\n'"
      ]
     },
     "execution_count": 6,
     "metadata": {},
     "output_type": "execute_result"
    }
   ],
   "source": [
    "key = jax.random.PRNGKey(0)\n",
    "c = alpdesign.EnsembleBlockConfig()\n",
    "forward_t, full_forward_t, seq_t = alpdesign.build_e2e(c)\n",
    "def gen(k, n): return jax.random.normal(key, shape=(n, 13, 20))\n",
    "'''\n",
    "key1, key2 = jax.random.split(key)\n",
    "start_params = seq_t.init(key1, jnp.tile(\n",
    "    jnp.squeeze(gen(key2, 1)), (c.model_number, 1)))\n",
    "best_v, params, train_loss, bo_loss = alpdesign.alg_iter(\n",
    "    key2, reps, labels, full_forward_t, seq_t, c, x0_gen=gen,\n",
    "    start_params=start_params\n",
    ")\n",
    "'''\n"
   ]
  },
  {
   "cell_type": "code",
   "execution_count": 7,
   "metadata": {},
   "outputs": [],
   "source": [
    "reps = get_reps(seqs)[0]\n",
    "labels = []\n",
    "for seq in seqs:\n",
    "    labels.append(blosum(target_seq, seq))\n",
    "labels = np.array(labels)\n",
    "def loop(key, reps, labels, params):\n",
    "    \n",
    "    forward_t, full_forward_t, seq_t = alpdesign.build_e2e(c)\n",
    "    key, key2 = jax.random.split(key)\n",
    "    start_params = seq_t.init(key, jnp.tile(\n",
    "    jnp.squeeze(gen(key2, 1)), (c.model_number, 1)))\n",
    "    best_v, params, train_loss, bo_loss = alpdesign.alg_iter(\n",
    "        key2, reps, labels, full_forward_t, seq_t, c, x0_gen=gen,\n",
    "        start_params=start_params\n",
    "        )\n",
    "    s = decode_seq(best_v)\n",
    "    reps = np.concatenate((reps, get_reps([s])[0]))\n",
    "    y = blosum(target_seq, s)\n",
    "    print(s, y)\n",
    "    labels = np.concatenate((labels, np.array(y).reshape(1,)))\n",
    "    return key, reps, labels, s, params, bo_loss, train_loss\n",
    "\n",
    "    "
   ]
  },
  {
   "cell_type": "code",
   "execution_count": 8,
   "metadata": {},
   "outputs": [
    {
     "name": "stdout",
     "output_type": "stream",
     "text": [
      "0\n",
      "['L', 'V', 'F', 'M', 'H', 'G', 'G', 'R', 'G', 'G', 'G', 'G', 'H'] -0.12835352\n",
      "1\n",
      "['E', 'I', 'K', 'E', 'L', 'T', 'E', 'V', 'L', 'Q', 'T', 'L', 'I'] 0.049196064\n",
      "2\n",
      "['E', 'E', 'R', 'E', 'R', 'L', 'Q', 'K', 'R', 'E', 'Q', 'E', 'Q'] 0.51082504\n",
      "3\n",
      "['K', 'E', 'R', 'E', 'E', 'Q', 'R', 'R', 'R', 'E', 'E', 'E', 'R'] 0.5463349\n",
      "4\n",
      "['R', 'P', 'R', 'Y', 'Q', 'I', 'A', 'W', 'S', 'K', 'K', 'F', 'F'] 0.084706016\n",
      "5\n",
      "['L', 'Y', 'F', 'Y', 'N', 'F', 'K', 'M', 'H', 'R', 'F', 'Q', 'P'] -0.057333704\n",
      "6\n",
      "['K', 'E', 'R', 'E', 'R', 'E', 'R', 'Q', 'K', 'R', 'E', 'K', 'E'] 0.5463349\n",
      "7\n",
      "['E', 'E', 'E', 'R', 'R', 'R', 'R', 'E', 'E', 'E', 'K', 'R', 'E'] 0.43980518\n",
      "8\n",
      "['M', 'E', 'V', 'M', 'E', 'D', 'D', 'M', 'F', 'L', 'R', 'Y', 'L'] -0.16386345\n",
      "9\n",
      "['K', 'M', 'W', 'K', 'M', 'D', 'Q', 'A', 'R', 'K', 'S', 'F', 'T'] -0.16386345\n",
      "10\n",
      "['Q', 'F', 'D', 'F', 'L', 'H', 'L', 'W', 'M', 'D', 'V', 'E', 'Q'] 0.04919606\n",
      "11\n",
      "['P', 'F', 'P', 'L', 'F', 'T', 'T', 'I', 'E', 'A', 'K', 'N', 'R'] 0.084705986\n",
      "12\n",
      "['P', 'R', 'T', 'H', 'Q', 'L', 'N', 'I', 'M', 'C', 'Q', 'G', 'M'] -0.057333693\n",
      "13\n",
      "['C', 'P', 'W', 'V', 'C', 'E', 'E', 'Y', 'S', 'E', 'E', 'F', 'N'] -0.2703932\n",
      "14\n",
      "['K', 'G', 'K', 'D', 'Y', 'C', 'D', 'G', 'A', 'N', 'Q', 'C', 'R'] 0.120215915\n",
      "15\n",
      "['N', 'I', 'D', 'E', 'H', 'R', 'H', 'K', 'R', 'P', 'F', 'Q', 'C'] 0.084705986\n",
      "16\n",
      "['K', 'D', 'M', 'Y', 'K', 'W', 'A', 'M', 'W', 'E', 'Q', 'R', 'A'] -0.19937338\n",
      "17\n",
      "['K', 'R', 'P', 'E', 'H', 'W', 'D', 'W', 'S', 'Q', 'L', 'H', 'F'] 0.013686144\n",
      "18\n",
      "['P', 'A', 'H', 'L', 'C', 'G', 'T', 'R', 'T', 'N', 'L', 'A', 'F'] 0.15572585\n",
      "19\n",
      "['I', 'V', 'D', 'R', 'Q', 'G', 'M', 'Q', 'N', 'P', 'W', 'E', 'S'] 0.2622556\n",
      "20\n",
      "['A', 'D', 'G', 'G', 'N', 'G', 'P', 'G', 'P', 'G', 'P', 'P', 'P'] 0.7593945\n",
      "21\n",
      "['S', 'G', 'S', 'G', 'G', 'P', 'P', 'G', 'S', 'P', 'P', 'P', 'P'] 0.61735487\n",
      "22\n",
      "['G', 'P', 'G', 'G', 'P', 'G', 'P', 'G', 'P', 'P', 'G', 'P', 'P'] 0.68837476\n",
      "23\n",
      "['V', 'G', 'G', 'Y', 'S', 'T', 'N', 'M', 'M', 'G', 'I', 'F', 'Y'] 0.2622556\n",
      "24\n",
      "['R', 'Q', 'I', 'N', 'E', 'E', 'E', 'Q', 'E', 'M', 'A', 'S', 'L'] 0.36878535\n",
      "25\n",
      "['L', 'P', 'T', 'N', 'H', 'N', 'H', 'T', 'P', 'A', 'V', 'N', 'H'] 0.7593945\n",
      "26\n",
      "['S', 'N', 'N', 'N', 'N', 'N', 'T', 'N', 'N', 'T', 'P', 'N', 'N'] 0.5463349\n",
      "27\n",
      "['A', 'P', 'N', 'G', 'G', 'N', 'N', 'G', 'P', 'G', 'P', 'G', 'P'] 0.54633504\n",
      "28\n",
      "['N', 'N', 'N', 'N', 'N', 'N', 'N', 'S', 'N', 'N', 'N', 'N', 'N'] 0.29776552\n",
      "29\n",
      "['S', 'G', 'P', 'G', 'G', 'G', 'P', 'G', 'P', 'P', 'P', 'P', 'P'] 0.8304144\n"
     ]
    }
   ],
   "source": [
    "y = []\n",
    "for i in range(30):\n",
    "    print(i)\n",
    "    params = None\n",
    "    key, _ = jax.random.split(key, num=2)\n",
    "    key, reps, labels, final_vec, params, bo_loss, mlp_loss= loop(key, reps, labels, params)\n",
    "    y.append(blosum(target_seq, final_vec))"
   ]
  },
  {
   "cell_type": "code",
   "execution_count": null,
   "metadata": {},
   "outputs": [],
   "source": [
    "plt.figure()\n",
    "plt.plot(y,label='y')\n",
    "plt.plot(yhat, label='yhat')\n",
    "plt.legend()\n",
    "plt.title('Blosum Score vs N')"
   ]
  },
  {
   "cell_type": "code",
   "execution_count": null,
   "metadata": {},
   "outputs": [],
   "source": [
    "ys_01 = ys"
   ]
  },
  {
   "cell_type": "code",
   "execution_count": null,
   "metadata": {},
   "outputs": [],
   "source": [
    "import pickle\n",
    "\n",
    "with open('y.pkl', 'wb') as f1:\n",
    "    pickle.dump(y, f1)\n",
    "    \n",
    "with open('yhat.pkl', 'wb') as f2:\n",
    "    pickle.dump(yhat, f2)"
   ]
  },
  {
   "cell_type": "code",
   "execution_count": null,
   "metadata": {},
   "outputs": [],
   "source": [
    "'S', 'G', 'K', 'Y', 'Y', 'F', 'F', 'H', 'H', 'F'\n",
    "'H', 'V', 'Y', 'V', 'F', 'G', 'G', 'Y', 'E', 'Y'\n",
    "['GIGAVLKILIAAARPREAITAALKKR']\n",
    "['GIGAVLKVLTTGLPALISWIKRKRQQ']\n",
    "['H', 'K', 'D', 'I', 'I', 'K', 'A', 'E', 'G', 'V', 'K', 'E', 'G', 'E', 'P', 'I', 'G', 'P', 'C', 'I', 'N', 'N', 'S', 'Q', 'C', 'P'] 0.3318122\n",
    "['A', 'G', 'D', 'P', 'I', 'K', 'C', 'V', 'R', 'V', 'G', 'E', 'T', 'I', 'P', 'E', 'G', 'S', 'P', 'L', 'M', 'P', 'C', 'M', 'M', 'T'] 0.3318122"
   ]
  }
 ],
 "metadata": {
  "kernelspec": {
   "display_name": "Python (alp)",
   "language": "python",
   "name": "alp"
  },
  "language_info": {
   "codemirror_mode": {
    "name": "ipython",
    "version": 3
   },
   "file_extension": ".py",
   "mimetype": "text/x-python",
   "name": "python",
   "nbconvert_exporter": "python",
   "pygments_lexer": "ipython3",
   "version": "3.6.13"
  }
 },
 "nbformat": 4,
 "nbformat_minor": 4
}
