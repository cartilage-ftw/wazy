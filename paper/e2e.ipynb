{
 "cells": [
  {
   "cell_type": "code",
   "execution_count": 2,
   "metadata": {},
   "outputs": [],
   "source": [
    "from alpdesign.utils import *\n",
    "from alpdesign.mlp import *\n",
    "from jax_unirep import get_reps\n",
    "import alpdesign\n",
    "import numpy as np\n",
    "import matplotlib.pyplot as plt\n",
    "import jax_unirep\n",
    "import haiku as hk\n",
    "import jax\n",
    "import jax.numpy as jnp\n",
    "import functools\n",
    "from sklearn.decomposition import PCA"
   ]
  },
  {
   "cell_type": "code",
   "execution_count": 3,
   "metadata": {},
   "outputs": [
    {
     "name": "stdout",
     "output_type": "stream",
     "text": [
      "[[ 4 -1 -2 -2  0 -1 -1  0 -2 -1 -1 -1 -1 -2 -1  1  0 -3 -2  0 -2 -1  0 -4]\n",
      " [-1  5  0 -2 -3  1  0 -2  0 -3 -2  2 -1 -3 -2 -1 -1 -3 -2 -3 -1  0 -1 -4]\n",
      " [-2  0  6  1 -3  0  0  0  1 -3 -3  0 -2 -3 -2  1  0 -4 -2 -3  3  0 -1 -4]\n",
      " [-2 -2  1  6 -3  0  2 -1 -1 -3 -4 -1 -3 -3 -1  0 -1 -4 -3 -3  4  1 -1 -4]\n",
      " [ 0 -3 -3 -3  9 -3 -4 -3 -3 -1 -1 -3 -1 -2 -3 -1 -1 -2 -2 -1 -3 -3 -2 -4]\n",
      " [-1  1  0  0 -3  5  2 -2  0 -3 -2  1  0 -3 -1  0 -1 -2 -1 -2  0  3 -1 -4]\n",
      " [-1  0  0  2 -4  2  5 -2  0 -3 -3  1 -2 -3 -1  0 -1 -3 -2 -2  1  4 -1 -4]\n",
      " [ 0 -2  0 -1 -3 -2 -2  6 -2 -4 -4 -2 -3 -3 -2  0 -2 -2 -3 -3 -1 -2 -1 -4]\n",
      " [-2  0  1 -1 -3  0  0 -2  8 -3 -3 -1 -2 -1 -2 -1 -2 -2  2 -3  0  0 -1 -4]\n",
      " [-1 -3 -3 -3 -1 -3 -3 -4 -3  4  2 -3  1  0 -3 -2 -1 -3 -1  3 -3 -3 -1 -4]\n",
      " [-1 -2 -3 -4 -1 -2 -3 -4 -3  2  4 -2  2  0 -3 -2 -1 -2 -1  1 -4 -3 -1 -4]\n",
      " [-1  2  0 -1 -3  1  1 -2 -1 -3 -2  5 -1 -3 -1  0 -1 -3 -2 -2  0  1 -1 -4]\n",
      " [-1 -1 -2 -3 -1  0 -2 -3 -2  1  2 -1  5  0 -2 -1 -1 -1 -1  1 -3 -1 -1 -4]\n",
      " [-2 -3 -3 -3 -2 -3 -3 -3 -1  0  0 -3  0  6 -4 -2 -2  1  3 -1 -3 -3 -1 -4]\n",
      " [-1 -2 -2 -1 -3 -1 -1 -2 -2 -3 -3 -1 -2 -4  7 -1 -1 -4 -3 -2 -2 -1 -2 -4]\n",
      " [ 1 -1  1  0 -1  0  0  0 -1 -2 -2  0 -1 -2 -1  4  1 -3 -2 -2  0  0  0 -4]\n",
      " [ 0 -1  0 -1 -1 -1 -1 -2 -2 -1 -1 -1 -1 -2 -1  1  5 -2 -2  0 -1 -1  0 -4]\n",
      " [-3 -3 -4 -4 -2 -2 -3 -2 -2 -3 -2 -3 -1  1 -4 -3 -2 11  2 -3 -4 -3 -2 -4]\n",
      " [-2 -2 -2 -3 -2 -1 -2 -3  2 -1 -1 -2 -1  3 -3 -2 -2  2  7 -1 -3 -2 -1 -4]\n",
      " [ 0 -3 -3 -3 -1 -2 -2 -3 -3  3  1 -2  1 -1 -2 -2  0 -3 -1  4 -3 -2 -1 -4]\n",
      " [-2 -1  3  4 -3  0  1 -1  0 -3 -4  0 -3 -3 -2  0 -1 -4 -3 -3  4  1 -1 -4]\n",
      " [-1  0  0  1 -3  3  4 -2  0 -3 -3  1 -1 -3 -1  0 -1 -3 -2 -2  1  4 -1 -4]\n",
      " [ 0 -1 -1 -1 -2 -1 -1 -1 -1 -1 -1 -1 -1 -1 -2  0  0 -2 -1 -1 -1 -1 -1 -4]\n",
      " [-4 -4 -4 -4 -4 -4 -4 -4 -4 -4 -4 -4 -4 -4 -4 -4 -4 -4 -4 -4 -4 -4 -4  1]]\n"
     ]
    }
   ],
   "source": [
    "AA_list = ['A','R','N','D','C','Q','E','G','H','I','L','K','M','F','P','S','T','W','Y','V','B','Z','X','*']\n",
    "blosum92 = np.loadtxt(\"./blosum62.txt\", dtype='i', delimiter=' ')\n",
    "print(blosum92)"
   ]
  },
  {
   "cell_type": "code",
   "execution_count": 4,
   "metadata": {},
   "outputs": [],
   "source": [
    "def blosum(seq1, seq2):\n",
    "    seqlist1 = list(seq1)\n",
    "    seqlist2 = list(seq2)\n",
    "    score = 0.\n",
    "    for i in range(len(seqlist1)):\n",
    "        idx1 = AA_list.index(seqlist1[i])\n",
    "        idx2 = AA_list.index(seqlist2[i])\n",
    "        score += blosum92[idx1][idx2]\n",
    "    return jax.nn.sigmoid(score/len(seqlist1))"
   ]
  },
  {
   "cell_type": "code",
   "execution_count": 5,
   "metadata": {},
   "outputs": [],
   "source": [
    "def hamming(seq1, seq2): # seq1 and seq2 are of same length\n",
    "    seqlist1 = list(seq1)\n",
    "    seqlist2 = list(seq2)\n",
    "    hamming_distance = 0.\n",
    "    for i in range(len(seqlist1)):\n",
    "        if seqlist1[i] == seqlist2[i]:\n",
    "            continue\n",
    "        hamming_distance += 1.\n",
    "    return 1 - hamming_distance / len(seqlist1)"
   ]
  },
  {
   "cell_type": "code",
   "execution_count": 13,
   "metadata": {},
   "outputs": [
    {
     "name": "stdout",
     "output_type": "stream",
     "text": [
      "[0.3318122  0.8021839  0.9241418  0.8807971  0.21416503 0.2890505\n",
      " 0.26894143 0.35434368 0.21416503 0.3318122  0.66818774 0.21416503]\n"
     ]
    }
   ],
   "source": [
    "#target_seq = 'GIGAVLKVLTTGLPALISWIKRKRQQ'\n",
    "target_seq = 'GIGAVLKVLT'\n",
    "oh_vec = encode_seq(list(target_seq))\n",
    "oh_unirep = seq2useq(oh_vec)\n",
    "target_rep = differentiable_jax_unirep(oh_unirep)\n",
    "#print(target_rep.shape)\n",
    "'''\n",
    "seqs = ['GIGAVLKVLKAGLPALIVTLKRKIVQ',\n",
    "       'PPGATLKKHTTGSVALISWIWARIQQ',\n",
    "       'GIGAVLKVLTTGLKTLISAAKRKRAA',\n",
    "       'HAPPVLKVLTTGLAPPLVWIKRKRTH',\n",
    "       'GIGAVLUIHKLSSVAAWRPPKRKRQQ',\n",
    "       'PTWIIFLKAQWEQHSNLTNMRTFPEV',\n",
    "        'TISHFVCNHDICAWIKDMQAMQIKMC',\n",
    "        'CESWLWKRLFDGHADRWRSMPDYPIW',\n",
    "        'YLVENPLMFPLVAAFIHQWTRQISWH',\n",
    "        'QTEERLEAQISIYYIGAWSHYKVTDE']\n",
    "'''\n",
    "\n",
    "seqs = ['SSVAAWRPPK',\n",
    "       'PPGATLKKHT',\n",
    "       'LTGAVLKVLK',\n",
    "       'HAPPVLKVLT',\n",
    "       'AWRPPKRKRQ',\n",
    "       'PTWIIFLKAQ',\n",
    "       'TISHFVCNHD',\n",
    "       'CESWLWKRLF',\n",
    "       'YLVENPLMFP',\n",
    "       'QTEERLEAQI',\n",
    "       'GAWSHYKVTD',\n",
    "       'HADRWRSMPD']\n",
    "reps = get_reps(seqs)[0]\n",
    "labels = []\n",
    "for seq in seqs:\n",
    "    labels.append(blosum(target_seq, seq))\n",
    "labels = np.array(labels)\n",
    "print(labels)"
   ]
  },
  {
   "cell_type": "code",
   "execution_count": 14,
   "metadata": {},
   "outputs": [
    {
     "data": {
      "text/plain": [
       "[<matplotlib.lines.Line2D at 0x7ff83739ca58>]"
      ]
     },
     "execution_count": 14,
     "metadata": {},
     "output_type": "execute_result"
    },
    {
     "data": {
      "image/png": "[encoded data removed]",
      "text/plain": [
       "<Figure size 432x288 with 2 Axes>"
      ]
     },
     "metadata": {
      "needs_background": "light"
     },
     "output_type": "display_data"
    }
   ],
   "source": [
    "pca = PCA(n_components=2)\n",
    "pca.fit(reps)\n",
    "proj_x = pca.transform(reps)\n",
    "plt.scatter(proj_x[:,0], proj_x[:,1], c=labels, cmap=plt.get_cmap('Reds'))\n",
    "plt.colorbar()\n",
    "proj_l = pca.transform(target_rep)\n",
    "plt.plot(proj_l[:,0], proj_l[:,1], 'p')"
   ]
  },
  {
   "cell_type": "code",
   "execution_count": 15,
   "metadata": {},
   "outputs": [],
   "source": [
    "key = jax.random.PRNGKey(0)\n",
    "c = alpdesign.EnsembleBlockConfig()\n",
    "forward_fxn, full_forward_fxn = alpdesign.build_model(c)\n",
    "full_forward_t = hk.without_apply_rng(hk.transform(full_forward_fxn))"
   ]
  },
  {
   "cell_type": "code",
   "execution_count": 16,
   "metadata": {},
   "outputs": [
    {
     "data": {
      "text/plain": [
       "[<matplotlib.lines.Line2D at 0x7ff8375992e8>]"
      ]
     },
     "execution_count": 16,
     "metadata": {},
     "output_type": "execute_result"
    },
    {
     "data": {
      "image/png": "[encoded data removed]",
      "text/plain": [
       "<Figure size 432x288 with 1 Axes>"
      ]
     },
     "metadata": {
      "needs_background": "light"
     },
     "output_type": "display_data"
    }
   ],
   "source": [
    "params, losses = alpdesign.ensemble_train(\n",
    "    key, full_forward_t, c, reps, labels, epochs=500, learning_rate=1e-3)\n",
    "forward_t = hk.without_apply_rng(hk.transform(forward_fxn))\n",
    "forward = functools.partial(forward_t.apply, params)\n",
    "plt.plot(losses)"
   ]
  },
  {
   "cell_type": "code",
   "execution_count": 17,
   "metadata": {},
   "outputs": [],
   "source": [
    "# e2e is a haiku func\n",
    "def e2e(logits): # params is trained mlp params\n",
    "    s = alpdesign.SeqpropBlock()(logits)\n",
    "    us = alpdesign.seq2useq(s)\n",
    "    u = alpdesign.differentiable_jax_unirep(us)\n",
    "    return forward(u)\n",
    "e2e_t = hk.transform(e2e)\n",
    "init_logits = jax.random.normal(key, shape=((10, 20)))\n",
    "e2e_params = e2e_t.init(key, init_logits)\n",
    "\n",
    "def e2e_fxn(x, key):\n",
    "    e2e_params, logits = x\n",
    "    yhat = e2e_t.apply(e2e_params, key, logits)\n",
    "    return yhat"
   ]
  },
  {
   "cell_type": "code",
   "execution_count": 18,
   "metadata": {},
   "outputs": [
    {
     "data": {
      "text/plain": [
       "\"\\nfor i in range(10):\\n    key, tkey = jax.random.split(key, num=2)\\n    init_x = 0.1*jax.random.normal(key, shape=(BO_batch_size, 10, 20))\\n    x, loss_curve = alpdesign.bayes_opt(key, e2e_fxn, labels, (e2e_t.init(tkey, init_logits), init_x), iter_num=500, learning_rate=1e-1, epsilon=0.01)\\n    plt.plot(loss_curve)\\n    #break\\n    params, losses = alpdesign.ensemble_train(\\n        tkey, full_forward_t, c, reps, labels, epochs=500, learning_rate=1e-3)    \\n    forward_t = hk.without_apply_rng(hk.transform(forward_fxn))\\n    forward = functools.partial(forward_t.apply, params)\\n    rb = x[0]\\n    logits = x[1]\\n    #print(logits)\\n    key, tkey = jax.random.split(key, num=2)\\n    vec = alpdesign.seq.forward_seqprop.apply(rb, key, logits)\\n    s = decode_seq(vec)\\n    reps = np.concatenate((reps, get_reps([s])[0]))\\n    y = blosum(target_seq, s)\\n    print(reps.shape)\\n    print(s, y)\\n    labels = np.concatenate((labels, np.array(y).reshape(1,)))\\n    \\n    plt.figure()\\n    proj_x = pca.transform(reps)\\n    #print(proj_x)\\n    plt.scatter(proj_x[:,0], proj_x[:,1], c=labels, cmap=plt.get_cmap('Reds'))\\n    plt.colorbar()\\n    proj_l = pca.transform(target_rep)\\n    plt.plot(proj_l[:,0], proj_l[:,1], 'p')\\n    plt.plot(proj_x[-1, 0], proj_x[-1, 1], 'o', color='green')    \\n    plt.show()\\n\""
      ]
     },
     "execution_count": 18,
     "metadata": {},
     "output_type": "execute_result"
    }
   ],
   "source": [
    "batch_size = 5\n",
    "BO_batch_size = 16\n",
    "reps = get_reps(seqs)[0]\n",
    "labels = []\n",
    "for seq in seqs:\n",
    "    labels.append(blosum(target_seq, seq))\n",
    "labels = np.array(labels)\n",
    "def loop(key, reps, labels, params):\n",
    "    key, train_key = jax.random.split(key, num=2)\n",
    "    #reps = get_reps(seqs)[0]\n",
    "    '''\n",
    "    labels = []\n",
    "    for seq in seqs:\n",
    "        labels.append(blosum(target_seq, seq))\n",
    "    labels = np.array(labels)\n",
    "    '''\n",
    "    \n",
    "    params, losses = alpdesign.ensemble_train(train_key, full_forward_t, c, reps, labels, params=params, epochs=100)\n",
    "    # make random point\n",
    "    init_logits = jax.random.normal(key, shape=((10, 20)))\n",
    "    key, train_key = jax.random.split(key, num=2)\n",
    "    init_x = 0.1*jax.random.normal(key, shape=(BO_batch_size, 10, 20))\n",
    "    #forward = jax.vmap(lambda x, key: forward_t.apply(params, x), in_axes=(0, None))\n",
    "    print('start BO')\n",
    "    #batch_e2e = jax.vmap(lambda x, key: e2e_fxn(params, x), in_axes=((None, 0), None))\n",
    "    batch_e2e = jax.vmap(e2e_fxn, ((None, 0), None), (0, 0))\n",
    "    batched_x, losses = alpdesign.mlp.bayes_opt(key, batch_e2e, labels, (e2e_t.init(train_key, init_logits), init_x), epsilon=0.01)\n",
    "    top_idx = np.argmin(losses[-1])\n",
    "    rb = batched_x[0]\n",
    "    batched_logits = batched_x[1]\n",
    "    final_logits = batched_logits[top_idx]\n",
    "    vec = alpdesign.seq.forward_seqprop.apply(rb, key, final_logits)\n",
    "    s = decode_seq(vec)\n",
    "    reps = np.concatenate((reps, get_reps([s])[0]))\n",
    "    \n",
    "    y = blosum(target_seq, s)\n",
    "    print(reps.shape)\n",
    "    print(s, y)\n",
    "    labels = np.concatenate((labels, np.array(y).reshape(1,)))\n",
    "    '''\n",
    "    plt.figure()\n",
    "    proj_x = pca.transform(reps)\n",
    "    #print(proj_x)\n",
    "    plt.scatter(proj_x[:,0], proj_x[:,1], c=labels, cmap=plt.get_cmap('Reds'))\n",
    "    plt.colorbar()\n",
    "    proj_l = pca.transform(target_rep)\n",
    "    plt.plot(proj_l[:,0], proj_l[:,1], 'p')\n",
    "    plt.plot(proj_x[-1, 0], proj_x[-1, 1], 'o', color='green')    \n",
    "    plt.show()\n",
    "    \n",
    "    '''\n",
    "    return key, reps, labels, s, params\n",
    "    \n",
    "    \n",
    "'''\n",
    "for i in range(10):\n",
    "    key, tkey = jax.random.split(key, num=2)\n",
    "    init_x = 0.1*jax.random.normal(key, shape=(BO_batch_size, 10, 20))\n",
    "    x, loss_curve = alpdesign.bayes_opt(key, e2e_fxn, labels, (e2e_t.init(tkey, init_logits), init_x), iter_num=500, learning_rate=1e-1, epsilon=0.01)\n",
    "    plt.plot(loss_curve)\n",
    "    #break\n",
    "    params, losses = alpdesign.ensemble_train(\n",
    "        tkey, full_forward_t, c, reps, labels, epochs=500, learning_rate=1e-3)    \n",
    "    forward_t = hk.without_apply_rng(hk.transform(forward_fxn))\n",
    "    forward = functools.partial(forward_t.apply, params)\n",
    "    rb = x[0]\n",
    "    logits = x[1]\n",
    "    #print(logits)\n",
    "    key, tkey = jax.random.split(key, num=2)\n",
    "    vec = alpdesign.seq.forward_seqprop.apply(rb, key, logits)\n",
    "    s = decode_seq(vec)\n",
    "    reps = np.concatenate((reps, get_reps([s])[0]))\n",
    "    y = blosum(target_seq, s)\n",
    "    print(reps.shape)\n",
    "    print(s, y)\n",
    "    labels = np.concatenate((labels, np.array(y).reshape(1,)))\n",
    "    \n",
    "    plt.figure()\n",
    "    proj_x = pca.transform(reps)\n",
    "    #print(proj_x)\n",
    "    plt.scatter(proj_x[:,0], proj_x[:,1], c=labels, cmap=plt.get_cmap('Reds'))\n",
    "    plt.colorbar()\n",
    "    proj_l = pca.transform(target_rep)\n",
    "    plt.plot(proj_l[:,0], proj_l[:,1], 'p')\n",
    "    plt.plot(proj_x[-1, 0], proj_x[-1, 1], 'o', color='green')    \n",
    "    plt.show()\n",
    "'''    \n",
    "\n",
    "    "
   ]
  },
  {
   "cell_type": "code",
   "execution_count": 20,
   "metadata": {},
   "outputs": [
    {
     "name": "stdout",
     "output_type": "stream",
     "text": [
      "0\n",
      "start BO\n",
      "(23, 1900)\n",
      "['G', 'P', 'I', 'V', 'V', 'K', 'K', 'V', 'V', 'V'] 0.7502601\n",
      "['G', 'P', 'I', 'V', 'V', 'K', 'K', 'V', 'V', 'V']\n",
      "1\n",
      "start BO\n",
      "(24, 1900)\n",
      "['G', 'G', 'P', 'P', 'V', 'P', 'T', 'V', 'V', 'P'] 0.5744425\n",
      "['G', 'G', 'P', 'P', 'V', 'P', 'T', 'V', 'V', 'P']\n",
      "2\n",
      "start BO\n",
      "(25, 1900)\n",
      "['G', 'P', 'V', 'P', 'V', 'G', 'T', 'V', 'V', 'C'] 0.54983395\n",
      "['G', 'P', 'V', 'P', 'V', 'G', 'T', 'V', 'V', 'C']\n",
      "3\n",
      "start BO\n",
      "(26, 1900)\n",
      "['G', 'P', 'V', 'V', 'P', 'V', 'V', 'T', 'G', 'V'] 0.3318122\n",
      "['G', 'P', 'V', 'V', 'P', 'V', 'V', 'T', 'G', 'V']\n",
      "4\n",
      "start BO\n",
      "(27, 1900)\n",
      "['G', 'P', 'V', 'A', 'G', 'C', 'V', 'P', 'V', 'V'] 0.4255575\n",
      "['G', 'P', 'V', 'A', 'G', 'C', 'V', 'P', 'V', 'V']\n",
      "5\n",
      "start BO\n",
      "(28, 1900)\n",
      "['G', 'A', 'G', 'G', 'A', 'V', 'V', 'V', 'G', 'L'] 0.7109495\n",
      "['G', 'A', 'G', 'G', 'A', 'V', 'V', 'V', 'G', 'L']\n",
      "6\n",
      "start BO\n",
      "(29, 1900)\n",
      "['G', 'P', 'P', 'V', 'V', 'P', 'V', 'V', 'V', 'T'] 0.73105854\n",
      "['G', 'P', 'P', 'V', 'V', 'P', 'V', 'V', 'V', 'T']\n",
      "7\n",
      "start BO\n",
      "(30, 1900)\n",
      "['G', 'P', 'V', 'V', 'G', 'P', 'T', 'V', 'V', 'V'] 0.45016605\n",
      "['G', 'P', 'V', 'V', 'G', 'P', 'T', 'V', 'V', 'V']\n",
      "8\n",
      "start BO\n",
      "(31, 1900)\n",
      "['G', 'G', 'A', 'P', 'V', 'V', 'K', 'V', 'V', 'E'] 0.81757444\n",
      "['G', 'G', 'A', 'P', 'V', 'V', 'K', 'V', 'V', 'E']\n",
      "9\n",
      "start BO\n",
      "(32, 1900)\n",
      "['G', 'P', 'T', 'V', 'V', 'K', 'V', 'V', 'K', 'V'] 0.5744425\n",
      "['G', 'P', 'T', 'V', 'V', 'K', 'V', 'V', 'K', 'V']\n",
      "10\n",
      "start BO\n",
      "(33, 1900)\n",
      "['G', 'G', 'G', 'P', 'C', 'V', 'K', 'V', 'L', 'T'] 0.9241418\n",
      "['G', 'G', 'G', 'P', 'C', 'V', 'K', 'V', 'L', 'T']\n",
      "11\n",
      "start BO\n",
      "(34, 1900)\n",
      "['G', 'A', 'G', 'A', 'C', 'V', 'K', 'V', 'T', 'A'] 0.9088771\n",
      "['G', 'A', 'G', 'A', 'C', 'V', 'K', 'V', 'T', 'A']\n",
      "12\n",
      "start BO\n",
      "(35, 1900)\n",
      "['G', 'G', 'P', 'A', 'V', 'P', 'V', 'K', 'V', 'L'] 0.5249792\n",
      "['G', 'G', 'P', 'A', 'V', 'P', 'V', 'K', 'V', 'L']\n",
      "13\n",
      "start BO\n",
      "(36, 1900)\n",
      "['G', 'G', 'G', 'G', 'P', 'P', 'V', 'P', 'V', 'V'] 0.5\n",
      "['G', 'G', 'G', 'G', 'P', 'P', 'V', 'P', 'V', 'V']\n",
      "14\n",
      "start BO\n",
      "(37, 1900)\n",
      "['G', 'T', 'G', 'A', 'C', 'V', 'P', 'V', 'V', 'G'] 0.8455348\n",
      "['G', 'T', 'G', 'A', 'C', 'V', 'P', 'V', 'V', 'G']\n",
      "15\n",
      "start BO\n",
      "(38, 1900)\n",
      "['G', 'G', 'G', 'G', 'D', 'V', 'V', 'K', 'V', 'V'] 0.5744425\n",
      "['G', 'G', 'G', 'G', 'D', 'V', 'V', 'K', 'V', 'V']\n",
      "16\n",
      "start BO\n",
      "(39, 1900)\n",
      "['G', 'P', 'V', 'V', 'G', 'T', 'V', 'K', 'V', 'V'] 0.3318122\n",
      "['G', 'P', 'V', 'V', 'G', 'T', 'V', 'K', 'V', 'V']\n",
      "17\n",
      "start BO\n",
      "(40, 1900)\n",
      "['G', 'P', 'C', 'V', 'K', 'A', 'V', 'P', 'V', 'L'] 0.3318122\n",
      "['G', 'P', 'C', 'V', 'K', 'A', 'V', 'P', 'V', 'L']\n",
      "18\n",
      "start BO\n",
      "(41, 1900)\n",
      "['G', 'A', 'G', 'A', 'G', 'A', 'P', 'V', 'V', 'V'] 0.81757444\n",
      "['G', 'A', 'G', 'A', 'G', 'A', 'P', 'V', 'V', 'V']\n",
      "19\n",
      "start BO\n",
      "(42, 1900)\n",
      "['G', 'G', 'P', 'C', 'V', 'P', 'V', 'T', 'V', 'V'] 0.5\n",
      "['G', 'G', 'P', 'C', 'V', 'P', 'V', 'T', 'V', 'V']\n"
     ]
    }
   ],
   "source": [
    "key = jax.random.PRNGKey(0)\n",
    "params = None\n",
    "for i in range(20):\n",
    "    print(i)\n",
    "    key, reps, labels, final_vec, params= loop(key, reps, labels, params)\n",
    "    print(final_vec)"
   ]
  },
  {
   "cell_type": "code",
   "execution_count": null,
   "metadata": {},
   "outputs": [],
   "source": [
    "['GIGAVLKILIAAARPREAITAALKKR']\n",
    "['GIGAVLKVLTTGLPALISWIKRKRQQ']"
   ]
  }
 ],
 "metadata": {
  "kernelspec": {
   "display_name": "Python (alp)",
   "language": "python",
   "name": "alp"
  },
  "language_info": {
   "codemirror_mode": {
    "name": "ipython",
    "version": 3
   },
   "file_extension": ".py",
   "mimetype": "text/x-python",
   "name": "python",
   "nbconvert_exporter": "python",
   "pygments_lexer": "ipython3",
   "version": "3.6.13"
  }
 },
 "nbformat": 4,
 "nbformat_minor": 4
}
