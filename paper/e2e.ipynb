{
 "cells": [
  {
   "cell_type": "code",
   "execution_count": 1,
   "metadata": {},
   "outputs": [],
   "source": [
    "from alpdesign.utils import *\n",
    "from alpdesign.mlp import *\n",
    "from jax_unirep import get_reps\n",
    "import alpdesign\n",
    "import numpy as np\n",
    "import matplotlib.pyplot as plt\n",
    "import jax_unirep\n",
    "import haiku as hk\n",
    "import jax\n",
    "import jax.numpy as jnp\n",
    "import functools\n",
    "from sklearn.decomposition import PCA\n",
    "import uncertainty_toolbox as uct"
   ]
  },
  {
   "cell_type": "code",
   "execution_count": 2,
   "metadata": {},
   "outputs": [
    {
     "data": {
      "text/plain": [
       "[<matplotlib.lines.Line2D at 0x7f068f4027f0>]"
      ]
     },
     "execution_count": 2,
     "metadata": {},
     "output_type": "execute_result"
    },
    {
     "data": {
      "image/png": "[encoded data removed]",
      "text/plain": [
       "<Figure size 432x288 with 1 Axes>"
      ]
     },
     "metadata": {
      "needs_background": "light"
     },
     "output_type": "display_data"
    }
   ],
   "source": [
    "x = jnp.array([i for i in range(50)])\n",
    "expx = 0.1 * jnp.exp(-x/10)\n",
    "plt.plot(expx)"
   ]
  },
  {
   "cell_type": "code",
   "execution_count": 3,
   "metadata": {},
   "outputs": [
    {
     "name": "stdout",
     "output_type": "stream",
     "text": [
      "[[ 4 -1 -2 -2  0 -1 -1  0 -2 -1 -1 -1 -1 -2 -1  1  0 -3 -2  0 -2 -1  0 -4]\n",
      " [-1  5  0 -2 -3  1  0 -2  0 -3 -2  2 -1 -3 -2 -1 -1 -3 -2 -3 -1  0 -1 -4]\n",
      " [-2  0  6  1 -3  0  0  0  1 -3 -3  0 -2 -3 -2  1  0 -4 -2 -3  3  0 -1 -4]\n",
      " [-2 -2  1  6 -3  0  2 -1 -1 -3 -4 -1 -3 -3 -1  0 -1 -4 -3 -3  4  1 -1 -4]\n",
      " [ 0 -3 -3 -3  9 -3 -4 -3 -3 -1 -1 -3 -1 -2 -3 -1 -1 -2 -2 -1 -3 -3 -2 -4]\n",
      " [-1  1  0  0 -3  5  2 -2  0 -3 -2  1  0 -3 -1  0 -1 -2 -1 -2  0  3 -1 -4]\n",
      " [-1  0  0  2 -4  2  5 -2  0 -3 -3  1 -2 -3 -1  0 -1 -3 -2 -2  1  4 -1 -4]\n",
      " [ 0 -2  0 -1 -3 -2 -2  6 -2 -4 -4 -2 -3 -3 -2  0 -2 -2 -3 -3 -1 -2 -1 -4]\n",
      " [-2  0  1 -1 -3  0  0 -2  8 -3 -3 -1 -2 -1 -2 -1 -2 -2  2 -3  0  0 -1 -4]\n",
      " [-1 -3 -3 -3 -1 -3 -3 -4 -3  4  2 -3  1  0 -3 -2 -1 -3 -1  3 -3 -3 -1 -4]\n",
      " [-1 -2 -3 -4 -1 -2 -3 -4 -3  2  4 -2  2  0 -3 -2 -1 -2 -1  1 -4 -3 -1 -4]\n",
      " [-1  2  0 -1 -3  1  1 -2 -1 -3 -2  5 -1 -3 -1  0 -1 -3 -2 -2  0  1 -1 -4]\n",
      " [-1 -1 -2 -3 -1  0 -2 -3 -2  1  2 -1  5  0 -2 -1 -1 -1 -1  1 -3 -1 -1 -4]\n",
      " [-2 -3 -3 -3 -2 -3 -3 -3 -1  0  0 -3  0  6 -4 -2 -2  1  3 -1 -3 -3 -1 -4]\n",
      " [-1 -2 -2 -1 -3 -1 -1 -2 -2 -3 -3 -1 -2 -4  7 -1 -1 -4 -3 -2 -2 -1 -2 -4]\n",
      " [ 1 -1  1  0 -1  0  0  0 -1 -2 -2  0 -1 -2 -1  4  1 -3 -2 -2  0  0  0 -4]\n",
      " [ 0 -1  0 -1 -1 -1 -1 -2 -2 -1 -1 -1 -1 -2 -1  1  5 -2 -2  0 -1 -1  0 -4]\n",
      " [-3 -3 -4 -4 -2 -2 -3 -2 -2 -3 -2 -3 -1  1 -4 -3 -2 11  2 -3 -4 -3 -2 -4]\n",
      " [-2 -2 -2 -3 -2 -1 -2 -3  2 -1 -1 -2 -1  3 -3 -2 -2  2  7 -1 -3 -2 -1 -4]\n",
      " [ 0 -3 -3 -3 -1 -2 -2 -3 -3  3  1 -2  1 -1 -2 -2  0 -3 -1  4 -3 -2 -1 -4]\n",
      " [-2 -1  3  4 -3  0  1 -1  0 -3 -4  0 -3 -3 -2  0 -1 -4 -3 -3  4  1 -1 -4]\n",
      " [-1  0  0  1 -3  3  4 -2  0 -3 -3  1 -1 -3 -1  0 -1 -3 -2 -2  1  4 -1 -4]\n",
      " [ 0 -1 -1 -1 -2 -1 -1 -1 -1 -1 -1 -1 -1 -1 -2  0  0 -2 -1 -1 -1 -1 -1 -4]\n",
      " [-4 -4 -4 -4 -4 -4 -4 -4 -4 -4 -4 -4 -4 -4 -4 -4 -4 -4 -4 -4 -4 -4 -4  1]]\n",
      "24\n"
     ]
    }
   ],
   "source": [
    "AA_list = ['A','R','N','D','C','Q','E','G','H','I','L','K','M','F','P','S','T','W','Y','V','B','Z','X','*']\n",
    "blosum92 = np.loadtxt(\"./blosum62.txt\", dtype='i', delimiter=' ')\n",
    "print(blosum92)\n",
    "print(len(AA_list))"
   ]
  },
  {
   "cell_type": "code",
   "execution_count": 4,
   "metadata": {},
   "outputs": [
    {
     "name": "stdout",
     "output_type": "stream",
     "text": [
      "-1.2604167\n",
      "2.166242\n"
     ]
    }
   ],
   "source": [
    "avg92 = jnp.sum(blosum92)/24/24\n",
    "sum92 = 0.\n",
    "for row in blosum92:\n",
    "    for aa in row:\n",
    "        sum92 += (aa-avg92)**2\n",
    "std92 = jnp.sqrt(sum92 / 24/24)\n",
    "print(avg92)\n",
    "print(std92)"
   ]
  },
  {
   "cell_type": "code",
   "execution_count": 5,
   "metadata": {},
   "outputs": [],
   "source": [
    "def blosum(seq1, seq2):\n",
    "    seqlist1 = list(seq1)\n",
    "    seqlist2 = list(seq2)\n",
    "    score = 0.\n",
    "    for i in range(len(seqlist1)):\n",
    "        idx1 = AA_list.index(seqlist1[i])\n",
    "        idx2 = AA_list.index(seqlist2[i])\n",
    "        score += (blosum92[idx1][idx2] - avg92)/std92\n",
    "        #jax.nn.sigmoid(score/len(seqlist1))\n",
    "    return score/len(seqlist1)\n",
    "    #return score/len(seqlist1)\n",
    "    \n",
    "def hamming(seq1, seq2):\n",
    "    seqlist1 = list(seq1)\n",
    "    seqlist2 = list(seq2)\n",
    "    score = 0.\n",
    "    seq_len = len(seqlist1)\n",
    "    for i in range(seq_len):\n",
    "        if seqlist1[i] == seqlist2[i]:\n",
    "            score += 1.\n",
    "    return score / seq_len"
   ]
  },
  {
   "cell_type": "code",
   "execution_count": 6,
   "metadata": {},
   "outputs": [
    {
     "name": "stdout",
     "output_type": "stream",
     "text": [
      "[0.01368617]\n"
     ]
    }
   ],
   "source": [
    "target_seq = 'TARGETPEPTIDE'\n",
    "#target_seq = 'THISISTARGETPEPTIDE'\n",
    "\n",
    "oh_vec = encode_seq(list(target_seq))\n",
    "oh_unirep = seq2useq(oh_vec)\n",
    "target_rep = differentiable_jax_unirep(oh_unirep)\n",
    "\n",
    "seqs = ['ISQLRYICEVIWF']\n",
    "#seqs = ['ISQLRYICEVIWFQGTHPI']\n",
    "\n",
    "reps = get_reps(seqs)[0]\n",
    "labels = []\n",
    "for seq in seqs:\n",
    "    labels.append(blosum(target_seq, seq))\n",
    "labels = np.array(labels)\n",
    "\n",
    "print(labels)"
   ]
  },
  {
   "cell_type": "code",
   "execution_count": 7,
   "metadata": {},
   "outputs": [],
   "source": [
    "with open('../10kseqs.txt') as f:\n",
    "    readfile = f.readlines()\n",
    "    random_seqs = f'{readfile[0]}'.split(' ')[:-1]\n",
    "score_distribution = []\n",
    "#print(list(random_seqs[-2]))\n",
    "for random_seq in random_seqs:\n",
    "    score_distribution.append(blosum(target_seq, random_seq))"
   ]
  },
  {
   "cell_type": "code",
   "execution_count": 9,
   "metadata": {},
   "outputs": [
    {
     "name": "stdout",
     "output_type": "stream",
     "text": [
      "(array([  1,   2,   0,   2,   0,   4,   0,   6,   0,  22,   0,  36,  73,\n",
      "         0,  82,   0, 147,   0, 183,   0, 251,   0, 293,   0, 369, 381,\n",
      "         0, 478,   0, 514,   0, 559,   0, 563,   0, 539,   0, 574, 589,\n",
      "         0, 520,   0, 477,   0, 447,   0, 419,   0, 394, 346,   0, 271,\n",
      "         0, 253,   0, 225,   0, 200,   0, 174,   0, 116,  92,   0,  78,\n",
      "         0,  67,   0,  57,   0,  46,   0,  36,   0,  35,  26,   0,  13,\n",
      "         0,   5,   0,  10,   0,   8,   0,   5,   0,   5,   4,   0,   1,\n",
      "         0,   0,   0,   0,   0,   1,   0,   0,   1]), array([-0.66100234, -0.641827  , -0.62265164, -0.6034763 , -0.5843009 ,\n",
      "       -0.5651255 , -0.5459502 , -0.5267748 , -0.5075995 , -0.48842412,\n",
      "       -0.46924874, -0.4500734 , -0.43089804, -0.4117227 , -0.3925473 ,\n",
      "       -0.37337196, -0.3541966 , -0.33502126, -0.31584588, -0.29667053,\n",
      "       -0.27749518, -0.25831982, -0.23914446, -0.2199691 , -0.20079374,\n",
      "       -0.18161838, -0.16244301, -0.14326766, -0.1240923 , -0.10491695,\n",
      "       -0.08574159, -0.06656623, -0.04739087, -0.02821551, -0.00904015,\n",
      "        0.01013521,  0.02931057,  0.04848592,  0.06766129,  0.08683664,\n",
      "        0.106012  ,  0.12518735,  0.14436272,  0.16353807,  0.18271343,\n",
      "        0.20188878,  0.22106415,  0.2402395 ,  0.25941485,  0.27859023,\n",
      "        0.29776558,  0.31694093,  0.3361163 ,  0.35529166,  0.37446702,\n",
      "        0.39364237,  0.41281775,  0.4319931 ,  0.45116845,  0.4703438 ,\n",
      "        0.48951918,  0.5086945 ,  0.5278699 ,  0.54704523,  0.5662206 ,\n",
      "        0.58539593,  0.60457134,  0.6237467 ,  0.64292204,  0.6620974 ,\n",
      "        0.68127275,  0.7004481 ,  0.71962345,  0.7387988 ,  0.7579742 ,\n",
      "        0.77714956,  0.7963249 ,  0.81550026,  0.8346756 ,  0.85385096,\n",
      "        0.8730263 ,  0.8922017 ,  0.9113771 ,  0.9305524 ,  0.9497278 ,\n",
      "        0.9689031 ,  0.9880785 ,  1.0072539 ,  1.0264292 ,  1.0456046 ,\n",
      "        1.0647799 ,  1.0839553 ,  1.1031306 ,  1.122306  ,  1.1414814 ,\n",
      "        1.1606567 ,  1.1798321 ,  1.1990074 ,  1.2181828 ,  1.2373581 ,\n",
      "        1.2565335 ], dtype=float32))\n"
     ]
    }
   ],
   "source": [
    "#print(np.histogram(score_distribution, bins=100))\n",
    "print(np.std(score_distribution))\n",
    "#plt.hist(score_distribution, bins='auto')\n",
    "#plt.show()"
   ]
  },
  {
   "cell_type": "code",
   "execution_count": 7,
   "metadata": {},
   "outputs": [
    {
     "data": {
      "text/plain": [
       "'\\nkey1, key2 = jax.random.split(key)\\nstart_params = seq_t.init(key1, jnp.tile(\\n    jnp.squeeze(gen(key2, 1)), (c.model_number, 1)))\\nbest_v, params, train_loss, bo_loss = alpdesign.alg_iter(\\n    key2, reps, labels, full_forward_t, seq_t, c, x0_gen=gen,\\n    start_params=start_params\\n)\\n'"
      ]
     },
     "execution_count": 7,
     "metadata": {},
     "output_type": "execute_result"
    }
   ],
   "source": [
    "key = jax.random.PRNGKey(0)\n",
    "c = alpdesign.EnsembleBlockConfig()\n",
    "forward_t, full_forward_t, seq_t = alpdesign.build_e2e(c)\n",
    "def gen(k, n): return jax.random.normal(key, shape=(n, 13, 20))\n",
    "'''\n",
    "key1, key2 = jax.random.split(key)\n",
    "start_params = seq_t.init(key1, jnp.tile(\n",
    "    jnp.squeeze(gen(key2, 1)), (c.model_number, 1)))\n",
    "best_v, params, train_loss, bo_loss = alpdesign.alg_iter(\n",
    "    key2, reps, labels, full_forward_t, seq_t, c, x0_gen=gen,\n",
    "    start_params=start_params\n",
    ")\n",
    "'''\n"
   ]
  },
  {
   "cell_type": "code",
   "execution_count": 8,
   "metadata": {},
   "outputs": [],
   "source": [
    "reps = get_reps(seqs)[0]\n",
    "labels = []\n",
    "for seq in seqs:\n",
    "    labels.append(blosum(target_seq, seq))\n",
    "labels = np.array(labels)\n",
    "def loop(key, reps, labels, params, idx):\n",
    "    bo_xi = 0.5 * jnp.exp(-idx/10)\n",
    "    #forward_t, full_forward_t, seq_t = alpdesign.build_e2e(c)\n",
    "    key, key2 = jax.random.split(key)\n",
    "    start_params = seq_t.init(key, jnp.tile(\n",
    "    jnp.squeeze(gen(key2, 1)), (c.model_number, 1)))\n",
    "    best_v, params, train_loss, bo_loss = alpdesign.alg_iter(\n",
    "        key2, reps, labels, full_forward_t, seq_t, c, x0_gen=gen,\n",
    "        start_params=start_params, bo_xi=bo_xi\n",
    "        )\n",
    "    s = decode_seq(best_v)\n",
    "    reps = np.concatenate((reps, get_reps([s])[0]))\n",
    "    yhat = forward_t.apply(params, key, get_reps([s])[0])\n",
    "    y = blosum(target_seq, s)\n",
    "    print(s, y, yhat[0], yhat[1])\n",
    "    labels = np.concatenate((labels, np.array(y).reshape(1,)))\n",
    "    return key, reps, labels, s, params, bo_loss, train_loss\n",
    "\n",
    "    "
   ]
  },
  {
   "cell_type": "code",
   "execution_count": null,
   "metadata": {},
   "outputs": [
    {
     "name": "stdout",
     "output_type": "stream",
     "text": [
      "0\n",
      "['Q', 'K', 'K', 'P', 'I', 'V', 'I', 'V', 'P', 'G', 'G', 'K', 'G'] 0.15572585 -0.07009122 6.135544\n",
      "1\n",
      "['C', 'N', 'D', 'D', 'D', 'C', 'D', 'C', 'S', 'D', 'D', 'K', 'K'] 0.04919606 0.051825892 0.16729635\n",
      "2\n",
      "['L', 'F', 'V', 'V', 'T', 'M', 'V', 'M', 'L', 'F', 'M', 'M', 'M'] -0.2703932 0.030125514 0.4679694\n",
      "3\n",
      "['Y', 'F', 'H', 'E', 'M', 'G', 'K', 'Y', 'K', 'K', 'G', 'E', 'R'] -0.021823779 0.021097189 0.247864\n",
      "4\n",
      "['C', 'G', 'G', 'H', 'D', 'P', 'S', 'G', 'N', 'C', 'D', 'G', 'G'] 0.013686147 -0.16456774 7.5496655\n",
      "5\n",
      "['E', 'P', 'C', 'H', 'C', 'R', 'D', 'H', 'D', 'D', 'D', 'H', 'H'] -0.09284361 -0.086299114 0.54100865\n",
      "6\n",
      "['M', 'I', 'K', 'K', 'I', 'Q', 'I', 'K', 'Y', 'I', 'V', 'V', 'K'] 0.19123577 0.061350215 0.35240775\n",
      "7\n",
      "['T', 'K', 'I', 'K', 'V', 'I', 'G', 'I', 'D', 'K', 'K', 'K', 'N'] 0.049196076 -0.019709343 3.4178395\n",
      "8\n",
      "['M', 'K', 'N', 'T', 'K', 'P', 'K', 'P', 'P', 'K', 'K', 'D', 'D'] 0.7593945 0.0667077 0.7861258\n",
      "9\n",
      "['Q', 'R', 'P', 'K', 'K', 'P', 'K', 'P', 'P', 'P', 'P', 'P', 'K'] 0.40429527 0.23133694 0.41241923\n",
      "10\n",
      "['M', 'K', 'K', 'K', 'N', 'N', 'N', 'T', 'K', 'N', 'R', 'K', 'K'] 0.2622556 0.38415357 0.6798997\n",
      "11\n",
      "['M', 'K', 'N', 'N', 'K', 'K', 'P', 'K', 'K', 'E', 'K', 'P', 'K'] 0.61735487 0.39335856 0.26493984\n",
      "12\n",
      "['M', 'K', 'N', 'K', 'N', 'K', 'K', 'N', 'Q', 'K', 'K', 'N', 'K'] 0.2622556 0.35843298 0.6380161\n",
      "13\n",
      "['M', 'K', 'K', 'P', 'K', 'Q', 'P', 'P', 'P', 'T', 'P', 'T', 'E'] 1.1855135 0.50989217 0.12554124\n",
      "14\n",
      "['K', 'P', 'K', 'K', 'P', 'P', 'K', 'P', 'Q', 'P', 'K', 'P', 'K'] 0.19123577 0.2988039 1.4494755\n",
      "15\n",
      "['M', 'K', 'P', 'K', 'T', 'P', 'E', 'P', 'P', 'P', 'P', 'P', 'P'] 0.2622556 0.5295494 0.52563274\n",
      "16\n",
      "['M', 'S', 'T', 'K', 'P', 'K', 'K', 'K', 'P', 'T', 'P', 'P', 'P'] 0.65286475 0.4771998 0.14811681\n",
      "17\n",
      "['M', 'T', 'K', 'P', 'K', 'P', 'P', 'P', 'P', 'P', 'P', 'P', 'P'] 0.79490453 0.54836637 0.49311692\n",
      "18\n",
      "['M', 'K', 'S', 'K', 'P', 'P', 'S', 'S', 'K', 'K', 'K', 'K', 'P'] 0.049196064 0.2676577 1.7463396\n",
      "19\n",
      "['M', 'T', 'N', 'S', 'K', 'K', 'K', 'P', 'S', 'K', 'N', 'K', 'T'] 0.22674568 0.43732044 0.17783219\n",
      "20\n",
      "['M', 'T', 'K', 'K', 'P', 'K', 'P', 'K', 'P', 'P', 'P', 'T', 'P'] 0.79490453 0.6086936 0.14427233\n",
      "21\n",
      "['C', 'G', 'D', 'C', 'G', 'G', 'F', 'W', 'Y', 'C', 'G', 'G', 'G'] -0.4124329 0.2665812 0.22742397\n",
      "22\n",
      "['P', 'P', 'P', 'P', 'P', 'P', 'P', 'P', 'T', 'P', 'P', 'P', 'P'] 0.2622556 0.46241662 1.0889764\n",
      "23\n",
      "['M', 'K', 'Q', 'E', 'N', 'K', 'T', 'P', 'M', 'K', 'S', 'M', 'K'] 0.120215915 0.44323072 0.116397455\n",
      "24\n",
      "['S', 'R', 'K', 'D', 'C', 'N', 'N', 'Q', 'Q', 'K', 'R', 'K', 'S'] 0.2622556 0.22247146 0.20180404\n",
      "25\n",
      "['M', 'K', 'P', 'P', 'P', 'P', 'P', 'P', 'P', 'P', 'P', 'P', 'V'] 0.51082504 0.5086384 0.49063957\n",
      "26\n",
      "['M', 'T', 'N', 'N', 'N', 'P', 'P', 'P', 'P', 'P', 'P', 'P', 'P'] 0.7593945 0.47786313 2.005475\n",
      "27\n",
      "['M', 'K', 'N', 'Q', 'P', 'N', 'N', 'N', 'Q', 'P', 'T', 'T', 'P'] 0.15572584 0.4252382 0.3500828\n",
      "28\n",
      "['M', 'K', 'P', 'N', 'K', 'K', 'P', 'P', 'P', 'P', 'P', 'K', 'P'] 0.6883747 0.42825195 0.7840572\n",
      "29\n",
      "['M', 'S', 'K', 'P', 'K', 'K', 'K', 'P', 'P', 'P', 'K', 'K', 'P'] 0.546335 0.5524234 0.7453096\n",
      "30\n",
      "['M', 'S', 'K', 'K', 'T', 'K', 'P', 'P', 'K', 'P', 'P', 'P', 'P'] 0.47531512 0.47975698 0.72897875\n",
      "31\n"
     ]
    }
   ],
   "source": [
    "y = []\n",
    "yhat0 = []\n",
    "yhat1 = []\n",
    "for i in range(50):\n",
    "    print(i)\n",
    "    params = None\n",
    "    key, _ = jax.random.split(key, num=2)\n",
    "    key, reps, labels, final_vec, params, bo_loss, mlp_loss= loop(key, reps, labels, params, i)\n",
    "    yhat = forward_t.apply(params, key, get_reps([s])[0])\n",
    "    yhat0.append(yhat[0])\n",
    "    yhat1.append(yhat[1])\n",
    "    y.append(blosum(target_seq, final_vec))"
   ]
  },
  {
   "cell_type": "code",
   "execution_count": 11,
   "metadata": {},
   "outputs": [
    {
     "name": "stdout",
     "output_type": "stream",
     "text": [
      "[0 1 2]\n"
     ]
    },
    {
     "data": {
      "text/plain": [
       "1"
      ]
     },
     "execution_count": 11,
     "metadata": {},
     "output_type": "execute_result"
    }
   ],
   "source": [
    "a = np.array([i for i in range(10)])\n",
    "b = np.argsort(a)\n",
    "print(b[:3])\n",
    "a[b[:3]]\n",
    "np.int(np.ceil(0.3))"
   ]
  },
  {
   "cell_type": "code",
   "execution_count": 17,
   "metadata": {},
   "outputs": [
    {
     "name": "stdout",
     "output_type": "stream",
     "text": [
      " (1/n) Calculating accuracy metrics\n",
      " (2/n) Calculating average calibration metrics\n",
      " (3/n) Calculating adversarial group calibration metrics\n",
      "  [1/2] for mean absolute calibration error\n",
      "Measuring adversarial group calibration by spanning group size between 0.0 and 1.0, in 10 intervals\n"
     ]
    },
    {
     "name": "stderr",
     "output_type": "stream",
     "text": [
      "100%|██████████| 10/10 [00:00<00:00, 12.37it/s]\n"
     ]
    },
    {
     "name": "stdout",
     "output_type": "stream",
     "text": [
      "  [2/2] for root mean squared calibration error\n",
      "Measuring adversarial group calibration by spanning group size between 0.0 and 1.0, in 10 intervals\n"
     ]
    },
    {
     "name": "stderr",
     "output_type": "stream",
     "text": [
      "100%|██████████| 10/10 [00:00<00:00, 12.63it/s]"
     ]
    },
    {
     "name": "stdout",
     "output_type": "stream",
     "text": [
      " (4/n) Calculating sharpness metrics\n",
      " (n/n) Calculating proper scoring rule metrics\n",
      "**Finished Calculating All Metrics**\n",
      "\n",
      "\n",
      "===================== Accuracy Metrics =====================\n",
      "  MAE           0.424\n",
      "  RMSE          0.520\n",
      "  MDAE          0.360\n",
      "  MARPD         113.642\n",
      "  R2            -1.115\n",
      "  Correlation   0.030\n",
      "=============== Average Calibration Metrics ================\n",
      "  Root-mean-squared Calibration Error   0.154\n",
      "  Mean-absolute Calibration Error       0.127\n",
      "  Miscalibration Area                   0.128\n",
      "========== Adversarial Group Calibration Metrics ===========\n",
      "  Mean-absolute Adversarial Group Calibration Error\n",
      "     Group Size: 0.11 -- Calibration Error: 0.320\n",
      "     Group Size: 0.56 -- Calibration Error: 0.178\n",
      "     Group Size: 1.00 -- Calibration Error: 0.127\n",
      "  Root-mean-squared Adversarial Group Calibration Error\n",
      "     Group Size: 0.11 -- Calibration Error: 0.368\n",
      "     Group Size: 0.56 -- Calibration Error: 0.222\n",
      "     Group Size: 1.00 -- Calibration Error: 0.154\n",
      "==================== Sharpness Metrics =====================\n",
      "  Sharpness   2.173\n",
      "=================== Scoring Rule Metrics ===================\n",
      "  Negative-log-likelihood   1.636\n",
      "  CRPS                      0.506\n",
      "  Check Score               0.255\n",
      "  Interval Score            3.065\n"
     ]
    },
    {
     "name": "stderr",
     "output_type": "stream",
     "text": [
      "\n"
     ]
    }
   ],
   "source": [
    "# Load an example dataset of 100 predictions, uncertainties, and ground truth values\n",
    "#predictions, predictions_std, y, x = uct.data.synthetic_sine_heteroscedastic(100)\n",
    "\n",
    "# Compute all uncertainty metrics\n",
    "metrics = uct.metrics.get_all_metrics(np.array(yhat0), np.array(yhat1), np.array(y))"
   ]
  },
  {
   "cell_type": "code",
   "execution_count": 18,
   "metadata": {},
   "outputs": [
    {
     "data": {
      "text/plain": [
       "Text(0.5, 1.0, 'Blosum Score vs N')"
      ]
     },
     "execution_count": 18,
     "metadata": {},
     "output_type": "execute_result"
    },
    {
     "data": {
      "image/png": "[encoded data removed]",
      "text/plain": [
       "<Figure size 432x288 with 1 Axes>"
      ]
     },
     "metadata": {
      "needs_background": "light"
     },
     "output_type": "display_data"
    }
   ],
   "source": [
    "plt.figure()\n",
    "plt.plot(y,label='y')\n",
    "#plt.plot(yhat, label='yhat')\n",
    "plt.legend()\n",
    "plt.title('Blosum Score vs N')"
   ]
  },
  {
   "cell_type": "code",
   "execution_count": null,
   "metadata": {},
   "outputs": [],
   "source": []
  },
  {
   "cell_type": "code",
   "execution_count": null,
   "metadata": {},
   "outputs": [],
   "source": [
    "import pickle\n",
    "\n",
    "with open('y.pkl', 'wb') as f1:\n",
    "    pickle.dump(y, f1)\n",
    "    \n",
    "with open('yhat.pkl', 'wb') as f2:\n",
    "    pickle.dump(yhat, f2)"
   ]
  },
  {
   "cell_type": "code",
   "execution_count": null,
   "metadata": {},
   "outputs": [],
   "source": [
    "['T', 'P', 'D', 'P', 'S', 'P', 'P', 'D', 'P', 'P', 'T', 'D', 'P'] 1.2210236 0.48240328 0.11414045"
   ]
  },
  {
   "cell_type": "code",
   "execution_count": null,
   "metadata": {},
   "outputs": [],
   "source": []
  }
 ],
 "metadata": {
  "kernelspec": {
   "display_name": "Python (alp)",
   "language": "python",
   "name": "alp"
  },
  "language_info": {
   "codemirror_mode": {
    "name": "ipython",
    "version": 3
   },
   "file_extension": ".py",
   "mimetype": "text/x-python",
   "name": "python",
   "nbconvert_exporter": "python",
   "pygments_lexer": "ipython3",
   "version": "3.6.13"
  }
 },
 "nbformat": 4,
 "nbformat_minor": 4
}
