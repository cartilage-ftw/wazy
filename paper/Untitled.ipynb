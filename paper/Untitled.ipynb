{
 "cells": [
  {
   "cell_type": "code",
   "execution_count": 1,
   "id": "248e7960",
   "metadata": {},
   "outputs": [],
   "source": [
    "import jax \n",
    "import jax.numpy as jnp\n",
    "import haiku as hk"
   ]
  },
  {
   "cell_type": "code",
   "execution_count": 2,
   "id": "abdb2989",
   "metadata": {},
   "outputs": [],
   "source": [
    "class BiLSTM(hk.Module):\n",
    "    def __init__(self, output_size, name=None):\n",
    "        super().__init__(name=name)\n",
    "        self.output_size = output_size\n",
    "    \n",
    "    def __call__(self, seqs): # batch size X sequence length X embedding dim\n",
    "        batch_size = seqs.shape[0]\n",
    "        fwd_core = hk.LSTM(16)\n",
    "        bwd_core = hk.LSTM(16)\n",
    "        fwd_outs, fwd_state = hk.dynamic_unroll(fwd_core, seqs, fwd_core.initial_state(batch_size), time_major=False)\n",
    "        bwd_outs, bwd_state = hk.dynamic_unroll(bwd_core, jnp.flip(seqs, axis=-1), bwd_core.initial_state(batch_size), time_major=False)\n",
    "        outs = jnp.concatenate([fwd_outs, bwd_outs], axis=0)\n",
    "        return hk.BatchApply(hk.Linear(self.output_size))(outs), fwd_state, bwd_state\n",
    " \n",
    "        "
   ]
  },
  {
   "cell_type": "code",
   "execution_count": 3,
   "id": "b09684d6",
   "metadata": {},
   "outputs": [],
   "source": [
    "seqs = jnp.ones((8, 10, 16))"
   ]
  },
  {
   "cell_type": "code",
   "execution_count": 4,
   "id": "410c1ca9",
   "metadata": {},
   "outputs": [],
   "source": [
    "def bi_lstm(seqs):\n",
    "    out = BiLSTM(2)(seqs)\n",
    "    return out\n",
    "\n",
    "bi_lstm = hk.transform(bi_lstm)"
   ]
  },
  {
   "cell_type": "code",
   "execution_count": 7,
   "id": "5657aa40",
   "metadata": {},
   "outputs": [],
   "source": [
    "key = jax.random.PRNGKey(0)\n",
    "params = bi_lstm.init(key, seqs)\n",
    "out, _, _ = bi_lstm.apply(params, key, seqs)"
   ]
  },
  {
   "cell_type": "code",
   "execution_count": 9,
   "id": "f8dd3821",
   "metadata": {},
   "outputs": [
    {
     "name": "stdout",
     "output_type": "stream",
     "text": [
      "(16, 10, 2)\n"
     ]
    }
   ],
   "source": [
    "print(out.shape)"
   ]
  },
  {
   "cell_type": "code",
   "execution_count": null,
   "id": "b9363aa7",
   "metadata": {},
   "outputs": [],
   "source": []
  }
 ],
 "metadata": {
  "kernelspec": {
   "display_name": "prettyB",
   "language": "python",
   "name": "prettyb"
  },
  "language_info": {
   "codemirror_mode": {
    "name": "ipython",
    "version": 3
   },
   "file_extension": ".py",
   "mimetype": "text/x-python",
   "name": "python",
   "nbconvert_exporter": "python",
   "pygments_lexer": "ipython3",
   "version": "3.9.7"
  }
 },
 "nbformat": 4,
 "nbformat_minor": 5
}
