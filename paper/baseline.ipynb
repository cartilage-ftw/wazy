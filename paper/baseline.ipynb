{
 "cells": [
  {
   "cell_type": "code",
   "execution_count": 1,
   "metadata": {},
   "outputs": [
    {
     "name": "stderr",
     "output_type": "stream",
     "text": [
      "WARNING:absl:No GPU/TPU found, falling back to CPU. (Set TF_CPP_MIN_LOG_LEVEL=0 and rerun for more info.)\n"
     ]
    }
   ],
   "source": [
    "from alpdesign.utils import *\n",
    "from alpdesign.mlp import *\n",
    "from jax_unirep import get_reps\n",
    "import alpdesign\n",
    "import numpy as np\n",
    "import matplotlib.pyplot as plt\n",
    "import jax_unirep\n",
    "import haiku as hk\n",
    "import jax\n",
    "import jax.numpy as jnp\n",
    "import functools\n",
    "from sklearn.decomposition import PCA"
   ]
  },
  {
   "cell_type": "code",
   "execution_count": 49,
   "metadata": {},
   "outputs": [],
   "source": [
    "AA_list = ['A','R','N','D','C','Q','E','G','H','I','L','K','M','F','P','S','T','W','Y','V','B','Z','X','*']\n",
    "blosum92 = np.loadtxt(\"./blosum62.txt\", dtype='i', delimiter=' ')\n",
    "def blosum(seq1, seq2):\n",
    "    seqlist1 = list(seq1)\n",
    "    seqlist2 = list(seq2)\n",
    "    score = 0.\n",
    "    for i in range(len(seqlist1)):\n",
    "        idx1 = AA_list.index(seqlist1[i])\n",
    "        idx2 = AA_list.index(seqlist2[i])\n",
    "        score += blosum92[idx1][idx2]\n",
    "    return jax.nn.sigmoid(score/len(seqlist1))"
   ]
  },
  {
   "cell_type": "code",
   "execution_count": 87,
   "metadata": {},
   "outputs": [
    {
     "name": "stdout",
     "output_type": "stream",
     "text": [
      "[0.33181223 0.8021839  0.9241418  0.880797   0.21416503 0.2890505\n",
      " 0.26894143 0.3543437  0.21416503 0.33181223 0.66818774 0.21416503]\n"
     ]
    }
   ],
   "source": [
    "target_seq = 'GIGAVLKVLT'\n",
    "oh_vec = encode_seq(list(target_seq))\n",
    "oh_unirep = seq2useq(oh_vec)\n",
    "target_rep = differentiable_jax_unirep(oh_unirep)\n",
    "'''\n",
    "seqs = ['GIGAVLKVLKAGLPALIVTLKRKIVQ',\n",
    "       'PPGATLKKHTTGSVALISWIWARIQQ',\n",
    "       'GIGAVLKVLTTGLKTLISAAKRKRAA',\n",
    "       'HAPPVLKVLTTGLAPPLVWIKRKRTH',\n",
    "       'GIGAVLUIHKLSSVAAWRPPKRKRQQ',\n",
    "       'PTWIIFLKAQWEQHSNLTNMRTFPEV',\n",
    "        'TISHFVCNHDICAWIKDMQAMQIKMC',\n",
    "        'CESWLWKRLFDGHADRWRSMPDYPIW',\n",
    "        'YLVENPLMFPLVAAFIHQWTRQISWH',\n",
    "        'QTEERLEAQISIYYIGAWSHYKVTDE']\n",
    "'''\n",
    "\n",
    "seqs = ['SSVAAWRPPK',\n",
    "       'PPGATLKKHT',\n",
    "       'LTGAVLKVLK',\n",
    "       'HAPPVLKVLT',\n",
    "       'AWRPPKRKRQ',\n",
    "       'PTWIIFLKAQ',\n",
    "       'TISHFVCNHD',\n",
    "       'CESWLWKRLF',\n",
    "       'YLVENPLMFP',\n",
    "       'QTEERLEAQI',\n",
    "       'GAWSHYKVTD',\n",
    "       'HADRWRSMPD']\n",
    "reps = get_reps(seqs)[0]\n",
    "labels = []\n",
    "for seq in seqs:\n",
    "    labels.append(blosum(target_seq, seq))\n",
    "labels = np.array(labels)\n",
    "print(labels)"
   ]
  },
  {
   "cell_type": "code",
   "execution_count": 91,
   "metadata": {},
   "outputs": [],
   "source": [
    "key = jax.random.PRNGKey(0)\n",
    "class NaiveBlock(hk.Module):\n",
    "    def __init__(self, name=None):\n",
    "        super().__init__(name=name)\n",
    "    \n",
    "    def __call__(self, x):\n",
    "        out = hk.nets.MLP((256, 128, 64, 1,))(x)\n",
    "        return out\n",
    "    \n",
    "def naive_forward(x):\n",
    "    f = NaiveBlock()\n",
    "    return f(x)\n",
    "naive_forward_t = hk.without_apply_rng(hk.transform(naive_forward))"
   ]
  },
  {
   "cell_type": "code",
   "execution_count": 96,
   "metadata": {},
   "outputs": [],
   "source": [
    "def _naive_loss(forward, params, seq, label):\n",
    "    yhat = forward(params, seq) #scalar\n",
    "    return (label-yhat)**2\n",
    "\n",
    "def _shuffle_in_unison(key, a, b):\n",
    "    # NOTE to future self: do not try to rely on keys being same\n",
    "    # something about shape of arrays makes shuffle not the same\n",
    "    assert len(a) == len(b)\n",
    "    p = jax.random.permutation(key, len(a))\n",
    "    return jnp.array([a[i] for i in p]), jnp.array([b[i] for i in p])\n",
    "\n",
    "\n",
    "def _fill_to_batch(x, y, key, batch_size):\n",
    "    if len(y) >= batch_size:\n",
    "        return x, y\n",
    "    i = jax.random.choice(key, jnp.arange(len(y)),\n",
    "                          shape=(batch_size,), replace=True)\n",
    "    x = x[i, ...]\n",
    "    y = y[i, ...]\n",
    "    return x, y\n",
    "\n",
    "\n",
    "def naive_train(key, forward_t, seqs, labels, val_seqs=None, val_labels=None, params=None, epochs=3, batch_size=8, learning_rate=1e-2):\n",
    "    opt_init, opt_update = optax.chain(\n",
    "        optax.scale_by_adam(b1=0.8, b2=0.9, eps=1e-4),\n",
    "        optax.scale(-learning_rate)  # minus sign -- minimizing the loss\n",
    "    )\n",
    "\n",
    "    key, bkey = jax.random.split(key)\n",
    "\n",
    "    # fill in seqs/labels if too small\n",
    "    seqs, labels = _fill_to_batch(seqs, labels, bkey, batch_size)\n",
    "   \n",
    "        \n",
    "    if params == None:\n",
    "        params = forward_t.init(key, seqs[0])\n",
    "  \n",
    "    opt_state = opt_init(params)\n",
    "\n",
    "    # wrap loss in batch/sum\n",
    "    loss_ = partial(_naive_loss, forward_t.apply)\n",
    "    loss_fxn = lambda *args: jnp.mean(jax.vmap(loss_, in_axes=(None, 0, 0))(*args))\n",
    "    #loss_fxn = jnp.mean(jax.vmap(loss_, in_axes=(None, 0, 0)))\n",
    "\n",
    "    @jax.jit\n",
    "    def train_step(opt_state, params, seqs, labels):\n",
    "        loss, grad = jax.value_and_grad(loss_fxn, 0)(\n",
    "            params, seqs, labels)\n",
    "        updates, opt_state = opt_update(grad, opt_state, params)\n",
    "        params = optax.apply_updates(params, updates)\n",
    "        return opt_state, params, loss\n",
    "    losses = []\n",
    "    val_losses = []\n",
    "    for e in range(epochs):\n",
    "        # shuffle seqs and labels\n",
    "        key, key_ = jax.random.split(key, num=2)\n",
    "        shuffle_seqs, shuffle_labels = _shuffle_in_unison(key, seqs, labels)\n",
    "        for i in range(0, len(shuffle_labels) // batch_size):\n",
    "            seq = shuffle_seqs[i:(i+1) * batch_size]\n",
    "            label = shuffle_labels[i:(i+1) * batch_size]\n",
    "            opt_state, params, loss = train_step(opt_state, params, seq, label)\n",
    "            losses.append(loss)\n",
    "        # compute validation loss\n",
    "        if val_seqs is not None:\n",
    "            val_loss = 0.\n",
    "            for i in range(0, len(val_labels) // batch_size):\n",
    "                seq = shuffle_seqs[i:(i+1) * batch_size]\n",
    "                label = shuffle_seqs[i:(i+1) * batch_size]\n",
    "                val_loss += loss_fxn(\n",
    "                    params,\n",
    "                    val_seqs[i:(i+1) * batch_size],\n",
    "                    val_labels[i:(i+1) * batch_size])\n",
    "            val_loss = val_loss/len(val_labels) * batch_size\n",
    "            #batch_loss += loss\n",
    "            val_losses.append(val_loss)\n",
    "    return (params, losses) if val_seqs is None else (params, losses, val_losses)"
   ]
  },
  {
   "cell_type": "code",
   "execution_count": 97,
   "metadata": {},
   "outputs": [
    {
     "data": {
      "text/plain": [
       "[<matplotlib.lines.Line2D at 0x7f63c4088d10>]"
      ]
     },
     "execution_count": 97,
     "metadata": {},
     "output_type": "execute_result"
    },
    {
     "data": {
      "image/png": "[encoded data removed]",
      "text/plain": [
       "<Figure size 432x288 with 1 Axes>"
      ]
     },
     "metadata": {
      "needs_background": "light"
     },
     "output_type": "display_data"
    }
   ],
   "source": [
    "params, losses = naive_train(\n",
    "    key, naive_forward_t, reps, labels, epochs=160, learning_rate=1e-3)\n",
    "#forward_t = hk.without_apply_rng(hk.transform(forward_fxn))\n",
    "#forward = functools.partial(forward_t.apply, params)\n",
    "plt.plot(losses)"
   ]
  },
  {
   "cell_type": "code",
   "execution_count": 119,
   "metadata": {},
   "outputs": [],
   "source": [
    "def e2e(logits): # params is trained mlp params\n",
    "    s = alpdesign.SeqpropBlock()(logits)\n",
    "    us = alpdesign.seq2useq(s)\n",
    "    u = alpdesign.differentiable_jax_unirep(us)\n",
    "    return naive_forward(u)\n",
    "e2e_t = hk.transform(e2e)\n",
    "init_logits = jax.random.normal(key, shape=((10, 20)))\n",
    "e2e_params = e2e_t.init(key, init_logits)\n",
    "\n",
    "def e2e_fxn(x, key):\n",
    "    e2e_params, logits = x\n",
    "    yhat = e2e_t.apply(e2e_params, key, logits)\n",
    "    return yhat\n",
    "\n",
    "\n",
    "def gradient_opt(key, f, init_x=None, iter_num=500, learning_rate=1e-2):\n",
    "    optimizer = optax.adam(learning_rate)\n",
    "    opt_state = optimizer.init(init_x)\n",
    "    x = init_x\n",
    "    reduced_f = lambda *args: jnp.mean(f(*args))\n",
    "    \n",
    "    @jax.jit\n",
    "    def step(x, opt_state, key):\n",
    "        loss, g = jax.value_and_grad(reduced_f, 0)(x, key)\n",
    "        updates, opt_state = optimizer.update(g, opt_state)\n",
    "        x = optax.apply_updates(x, updates)\n",
    "        return x, opt_state, loss\n",
    "    losses = []\n",
    "    for step_idx in range(iter_num):\n",
    "        key, _ = jax.random.split(key, num=2)\n",
    "        x, opt_state, loss= step(x, opt_state, key)\n",
    "        losses.append(loss)\n",
    "            \n",
    "    return x, losses"
   ]
  },
  {
   "cell_type": "code",
   "execution_count": null,
   "metadata": {},
   "outputs": [],
   "source": [
    "batch_size = 5\n",
    "BO_batch_size = 16\n",
    "reps = get_reps(seqs)[0]\n",
    "labels = []\n",
    "for seq in seqs:\n",
    "    labels.append(blosum(target_seq, seq))\n",
    "labels = np.array(labels)\n",
    "def loop(key, reps, labels, params):\n",
    "    key, train_key = jax.random.split(key, num=2)\n",
    "    #reps = get_reps(seqs)[0]\n",
    "    '''\n",
    "    labels = []\n",
    "    for seq in seqs:\n",
    "        labels.append(blosum(target_seq, seq))\n",
    "    labels = np.array(labels)\n",
    "    '''\n",
    "    params, losses = naive_train(\n",
    "    key, naive_forward_t, reps, labels, epochs=500, learning_rate=1e-3)\n",
    "    #params, losses = alpdesign.ensemble_train(train_key, full_forward_t, c, reps, labels, params=params, epochs=100)\n",
    "    # make random point\n",
    "    init_logits = jax.random.normal(key, shape=((10, 20)))\n",
    "    key, train_key = jax.random.split(key, num=2)\n",
    "    init_x = 0.1*jax.random.normal(key, shape=(BO_batch_size, 10, 20))\n",
    "    #forward = jax.vmap(lambda x, key: forward_t.apply(params, x), in_axes=(0, None))\n",
    "    print('start Optimizing')\n",
    "    #batch_e2e = jax.vmap(lambda x, key: e2e_fxn(params, x), in_axes=((None, 0), None))\n",
    "    batch_e2e = jax.vmap(e2e_fxn, ((None, 0), None))\n",
    "    batched_x, losses = gradient_opt(key, batch_e2e, (e2e_t.init(train_key, init_logits), init_x))\n",
    "    top_idx = np.argmin(losses[-1])\n",
    "    rb = batched_x[0]\n",
    "    batched_logits = batched_x[1]\n",
    "    final_logits = batched_logits[top_idx]\n",
    "    vec = alpdesign.seq.forward_seqprop.apply(rb, key, final_logits)\n",
    "    s = decode_seq(vec)\n",
    "    reps = np.concatenate((reps, get_reps([s])[0]))\n",
    "    \n",
    "    y = blosum(target_seq, s)\n",
    "    print(reps.shape)\n",
    "    print(s, y)\n",
    "    labels = np.concatenate((labels, np.array(y).reshape(1,)))\n",
    "    '''\n",
    "    plt.figure()\n",
    "    proj_x = pca.transform(reps)\n",
    "    #print(proj_x)\n",
    "    plt.scatter(proj_x[:,0], proj_x[:,1], c=labels, cmap=plt.get_cmap('Reds'))\n",
    "    plt.colorbar()\n",
    "    proj_l = pca.transform(target_rep)\n",
    "    plt.plot(proj_l[:,0], proj_l[:,1], 'p')\n",
    "    plt.plot(proj_x[-1, 0], proj_x[-1, 1], 'o', color='green')    \n",
    "    plt.show()\n",
    "    \n",
    "    '''\n",
    "    return key, reps, labels, s, params"
   ]
  },
  {
   "cell_type": "code",
   "execution_count": null,
   "metadata": {},
   "outputs": [
    {
     "name": "stdout",
     "output_type": "stream",
     "text": [
      "0\n",
      "start BO\n",
      "(13, 1900)\n",
      "['P', 'C', 'C', 'A', 'C', 'C', 'A', 'C', 'A', 'C'] 0.3100255\n",
      "['P', 'C', 'C', 'A', 'C', 'C', 'A', 'C', 'A', 'C']\n",
      "1\n",
      "start BO\n",
      "(14, 1900)\n",
      "['C', 'P', 'P', 'P', 'P', 'P', 'P', 'P', 'P', 'P'] 0.10909683\n",
      "['C', 'P', 'P', 'P', 'P', 'P', 'P', 'P', 'P', 'P']\n",
      "2\n",
      "start BO\n",
      "(15, 1900)\n",
      "['C', 'A', 'A', 'P', 'A', 'A', 'P', 'A', 'P', 'P'] 0.24973989\n",
      "['C', 'A', 'A', 'P', 'A', 'A', 'P', 'A', 'P', 'P']\n",
      "3\n",
      "start BO\n",
      "(16, 1900)\n",
      "['C', 'P', 'P', 'P', 'A', 'P', 'P', 'A', 'P', 'P'] 0.15446526\n",
      "['C', 'P', 'P', 'P', 'A', 'P', 'P', 'A', 'P', 'P']\n",
      "4\n",
      "start BO\n",
      "(17, 1900)\n",
      "['C', 'P', 'P', 'P', 'A', 'P', 'P', 'P', 'P', 'P'] 0.13010848\n",
      "['C', 'P', 'P', 'P', 'A', 'P', 'P', 'P', 'P', 'P']\n",
      "5\n",
      "start BO\n",
      "(18, 1900)\n",
      "['C', 'C', 'C', 'C', 'C', 'C', 'C', 'C', 'C', 'C'] 0.18242553\n",
      "['C', 'C', 'C', 'C', 'C', 'C', 'C', 'C', 'C', 'C']\n",
      "6\n",
      "start BO\n"
     ]
    }
   ],
   "source": [
    "key = jax.random.PRNGKey(0)\n",
    "params = None\n",
    "for i in range(20):\n",
    "    print(i)\n",
    "    key, reps, labels, final_vec, params= loop(key, reps, labels, params)\n",
    "    print(final_vec)"
   ]
  },
  {
   "cell_type": "code",
   "execution_count": null,
   "metadata": {},
   "outputs": [],
   "source": []
  }
 ],
 "metadata": {
  "kernelspec": {
   "display_name": "Python (alpdesign)",
   "language": "python",
   "name": "alpdesign"
  },
  "language_info": {
   "codemirror_mode": {
    "name": "ipython",
    "version": 3
   },
   "file_extension": ".py",
   "mimetype": "text/x-python",
   "name": "python",
   "nbconvert_exporter": "python",
   "pygments_lexer": "ipython3",
   "version": "3.7.8"
  }
 },
 "nbformat": 4,
 "nbformat_minor": 4
}
